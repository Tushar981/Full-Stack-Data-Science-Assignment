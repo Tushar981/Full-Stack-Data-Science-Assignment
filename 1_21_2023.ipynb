{
  "nbformat": 4,
  "nbformat_minor": 0,
  "metadata": {
    "colab": {
      "provenance": [],
      "authorship_tag": "ABX9TyMD1LgMM40QR2A2drebxujz",
      "include_colab_link": true
    },
    "kernelspec": {
      "name": "python3",
      "display_name": "Python 3"
    },
    "language_info": {
      "name": "python"
    }
  },
  "cells": [
    {
      "cell_type": "markdown",
      "metadata": {
        "id": "view-in-github",
        "colab_type": "text"
      },
      "source": [
        "<a href=\"https://colab.research.google.com/github/Tushar981/Full-Stack-Data-Science-Assignment/blob/main/1_21_2023.ipynb\" target=\"_parent\"><img src=\"https://colab.research.google.com/assets/colab-badge.svg\" alt=\"Open In Colab\"/></a>"
      ]
    },
    {
      "cell_type": "code",
      "execution_count": 4,
      "metadata": {
        "colab": {
          "base_uri": "https://localhost:8080/"
        },
        "id": "KCkBydcx0R8x",
        "outputId": "1c141a1e-ae1b-4942-b4a6-c935740786da"
      },
      "outputs": [
        {
          "output_type": "execute_result",
          "data": {
            "text/plain": [
              "array([[1., 1., 1., 1.],\n",
              "       [1., 1., 1., 1.],\n",
              "       [1., 1., 1., 1.]])"
            ]
          },
          "metadata": {},
          "execution_count": 4
        }
      ],
      "source": [
        "import numpy as np\n",
        "arr=np.ones((3,4))\n",
        "arr"
      ]
    },
    {
      "cell_type": "code",
      "source": [
        "arr+5"
      ],
      "metadata": {
        "colab": {
          "base_uri": "https://localhost:8080/"
        },
        "id": "33i5ughdHxmg",
        "outputId": "bb1e6ca8-40ca-4085-8090-0c00e1a83933"
      },
      "execution_count": 5,
      "outputs": [
        {
          "output_type": "execute_result",
          "data": {
            "text/plain": [
              "array([[6., 6., 6., 6.],\n",
              "       [6., 6., 6., 6.],\n",
              "       [6., 6., 6., 6.]])"
            ]
          },
          "metadata": {},
          "execution_count": 5
        }
      ]
    },
    {
      "cell_type": "code",
      "source": [
        "arr*5*5"
      ],
      "metadata": {
        "colab": {
          "base_uri": "https://localhost:8080/"
        },
        "id": "Y2OeyyP1Hxpf",
        "outputId": "f7458084-1834-4097-dfeb-2a0fb442c53a"
      },
      "execution_count": 7,
      "outputs": [
        {
          "output_type": "execute_result",
          "data": {
            "text/plain": [
              "array([[25., 25., 25., 25.],\n",
              "       [25., 25., 25., 25.],\n",
              "       [25., 25., 25., 25.]])"
            ]
          },
          "metadata": {},
          "execution_count": 7
        }
      ]
    },
    {
      "cell_type": "code",
      "source": [
        "## It will give us random value array\n",
        "np.empty((3,4))\n",
        "np.empty((3,4),int)"
      ],
      "metadata": {
        "colab": {
          "base_uri": "https://localhost:8080/"
        },
        "id": "AjHuoh1QHxsY",
        "outputId": "d7f92ca9-44ad-4d18-f6ba-40664a61cdbf"
      },
      "execution_count": 12,
      "outputs": [
        {
          "output_type": "execute_result",
          "data": {
            "text/plain": [
              "array([[4627730092099895296, 4627730092099895296, 4627730092099895296,\n",
              "        4627730092099895296],\n",
              "       [4627730092099895296, 4627730092099895296, 4627730092099895296,\n",
              "        4627730092099895296],\n",
              "       [4627730092099895296, 4627730092099895296, 4627730092099895296,\n",
              "        4627730092099895296]])"
            ]
          },
          "metadata": {},
          "execution_count": 12
        }
      ]
    },
    {
      "cell_type": "code",
      "source": [
        "# This will give us n number of identity matrix\n",
        "np.eye(5)\n",
        "np.eye(5,dtype=int)"
      ],
      "metadata": {
        "colab": {
          "base_uri": "https://localhost:8080/"
        },
        "id": "A1HDlvyUHxvU",
        "outputId": "62cb0680-68f2-4fc0-8e64-0264e70e7e77"
      },
      "execution_count": 17,
      "outputs": [
        {
          "output_type": "execute_result",
          "data": {
            "text/plain": [
              "array([[1, 0, 0, 0, 0],\n",
              "       [0, 1, 0, 0, 0],\n",
              "       [0, 0, 1, 0, 0],\n",
              "       [0, 0, 0, 1, 0],\n",
              "       [0, 0, 0, 0, 1]])"
            ]
          },
          "metadata": {},
          "execution_count": 17
        }
      ]
    },
    {
      "cell_type": "code",
      "source": [
        "# Optional\n",
        "import pandas as pd\n",
        "pd.DataFrame(arr)"
      ],
      "metadata": {
        "colab": {
          "base_uri": "https://localhost:8080/",
          "height": 284
        },
        "id": "9U7oqEXJHxx8",
        "outputId": "f592d873-f8de-4d47-96a1-68be3ad795ea"
      },
      "execution_count": 19,
      "outputs": [
        {
          "output_type": "execute_result",
          "data": {
            "text/plain": [
              "     0    1    2    3\n",
              "0  1.0  1.0  1.0  1.0\n",
              "1  1.0  1.0  1.0  1.0\n",
              "2  1.0  1.0  1.0  1.0"
            ],
            "text/html": [
              "\n",
              "  <div id=\"df-04288f8d-76a9-4a3c-98a0-a6de707d693c\" class=\"colab-df-container\">\n",
              "    <div>\n",
              "<style scoped>\n",
              "    .dataframe tbody tr th:only-of-type {\n",
              "        vertical-align: middle;\n",
              "    }\n",
              "\n",
              "    .dataframe tbody tr th {\n",
              "        vertical-align: top;\n",
              "    }\n",
              "\n",
              "    .dataframe thead th {\n",
              "        text-align: right;\n",
              "    }\n",
              "</style>\n",
              "<table border=\"1\" class=\"dataframe\">\n",
              "  <thead>\n",
              "    <tr style=\"text-align: right;\">\n",
              "      <th></th>\n",
              "      <th>0</th>\n",
              "      <th>1</th>\n",
              "      <th>2</th>\n",
              "      <th>3</th>\n",
              "    </tr>\n",
              "  </thead>\n",
              "  <tbody>\n",
              "    <tr>\n",
              "      <th>0</th>\n",
              "      <td>1.0</td>\n",
              "      <td>1.0</td>\n",
              "      <td>1.0</td>\n",
              "      <td>1.0</td>\n",
              "    </tr>\n",
              "    <tr>\n",
              "      <th>1</th>\n",
              "      <td>1.0</td>\n",
              "      <td>1.0</td>\n",
              "      <td>1.0</td>\n",
              "      <td>1.0</td>\n",
              "    </tr>\n",
              "    <tr>\n",
              "      <th>2</th>\n",
              "      <td>1.0</td>\n",
              "      <td>1.0</td>\n",
              "      <td>1.0</td>\n",
              "      <td>1.0</td>\n",
              "    </tr>\n",
              "  </tbody>\n",
              "</table>\n",
              "</div>\n",
              "    <div class=\"colab-df-buttons\">\n",
              "\n",
              "  <div class=\"colab-df-container\">\n",
              "    <button class=\"colab-df-convert\" onclick=\"convertToInteractive('df-04288f8d-76a9-4a3c-98a0-a6de707d693c')\"\n",
              "            title=\"Convert this dataframe to an interactive table.\"\n",
              "            style=\"display:none;\">\n",
              "\n",
              "  <svg xmlns=\"http://www.w3.org/2000/svg\" height=\"24px\" viewBox=\"0 -960 960 960\">\n",
              "    <path d=\"M120-120v-720h720v720H120Zm60-500h600v-160H180v160Zm220 220h160v-160H400v160Zm0 220h160v-160H400v160ZM180-400h160v-160H180v160Zm440 0h160v-160H620v160ZM180-180h160v-160H180v160Zm440 0h160v-160H620v160Z\"/>\n",
              "  </svg>\n",
              "    </button>\n",
              "\n",
              "  <style>\n",
              "    .colab-df-container {\n",
              "      display:flex;\n",
              "      gap: 12px;\n",
              "    }\n",
              "\n",
              "    .colab-df-convert {\n",
              "      background-color: #E8F0FE;\n",
              "      border: none;\n",
              "      border-radius: 50%;\n",
              "      cursor: pointer;\n",
              "      display: none;\n",
              "      fill: #1967D2;\n",
              "      height: 32px;\n",
              "      padding: 0 0 0 0;\n",
              "      width: 32px;\n",
              "    }\n",
              "\n",
              "    .colab-df-convert:hover {\n",
              "      background-color: #E2EBFA;\n",
              "      box-shadow: 0px 1px 2px rgba(60, 64, 67, 0.3), 0px 1px 3px 1px rgba(60, 64, 67, 0.15);\n",
              "      fill: #174EA6;\n",
              "    }\n",
              "\n",
              "    .colab-df-buttons div {\n",
              "      margin-bottom: 4px;\n",
              "    }\n",
              "\n",
              "    [theme=dark] .colab-df-convert {\n",
              "      background-color: #3B4455;\n",
              "      fill: #D2E3FC;\n",
              "    }\n",
              "\n",
              "    [theme=dark] .colab-df-convert:hover {\n",
              "      background-color: #434B5C;\n",
              "      box-shadow: 0px 1px 3px 1px rgba(0, 0, 0, 0.15);\n",
              "      filter: drop-shadow(0px 1px 2px rgba(0, 0, 0, 0.3));\n",
              "      fill: #FFFFFF;\n",
              "    }\n",
              "  </style>\n",
              "\n",
              "    <script>\n",
              "      const buttonEl =\n",
              "        document.querySelector('#df-04288f8d-76a9-4a3c-98a0-a6de707d693c button.colab-df-convert');\n",
              "      buttonEl.style.display =\n",
              "        google.colab.kernel.accessAllowed ? 'block' : 'none';\n",
              "\n",
              "      async function convertToInteractive(key) {\n",
              "        const element = document.querySelector('#df-04288f8d-76a9-4a3c-98a0-a6de707d693c');\n",
              "        const dataTable =\n",
              "          await google.colab.kernel.invokeFunction('convertToInteractive',\n",
              "                                                    [key], {});\n",
              "        if (!dataTable) return;\n",
              "\n",
              "        const docLinkHtml = 'Like what you see? Visit the ' +\n",
              "          '<a target=\"_blank\" href=https://colab.research.google.com/notebooks/data_table.ipynb>data table notebook</a>'\n",
              "          + ' to learn more about interactive tables.';\n",
              "        element.innerHTML = '';\n",
              "        dataTable['output_type'] = 'display_data';\n",
              "        await google.colab.output.renderOutput(dataTable, element);\n",
              "        const docLink = document.createElement('div');\n",
              "        docLink.innerHTML = docLinkHtml;\n",
              "        element.appendChild(docLink);\n",
              "      }\n",
              "    </script>\n",
              "  </div>\n",
              "\n",
              "\n",
              "<div id=\"df-997ff1ee-1f11-4386-af08-e8a0d951ce12\">\n",
              "  <button class=\"colab-df-quickchart\" onclick=\"quickchart('df-997ff1ee-1f11-4386-af08-e8a0d951ce12')\"\n",
              "            title=\"Suggest charts\"\n",
              "            style=\"display:none;\">\n",
              "\n",
              "<svg xmlns=\"http://www.w3.org/2000/svg\" height=\"24px\"viewBox=\"0 0 24 24\"\n",
              "     width=\"24px\">\n",
              "    <g>\n",
              "        <path d=\"M19 3H5c-1.1 0-2 .9-2 2v14c0 1.1.9 2 2 2h14c1.1 0 2-.9 2-2V5c0-1.1-.9-2-2-2zM9 17H7v-7h2v7zm4 0h-2V7h2v10zm4 0h-2v-4h2v4z\"/>\n",
              "    </g>\n",
              "</svg>\n",
              "  </button>\n",
              "\n",
              "<style>\n",
              "  .colab-df-quickchart {\n",
              "      --bg-color: #E8F0FE;\n",
              "      --fill-color: #1967D2;\n",
              "      --hover-bg-color: #E2EBFA;\n",
              "      --hover-fill-color: #174EA6;\n",
              "      --disabled-fill-color: #AAA;\n",
              "      --disabled-bg-color: #DDD;\n",
              "  }\n",
              "\n",
              "  [theme=dark] .colab-df-quickchart {\n",
              "      --bg-color: #3B4455;\n",
              "      --fill-color: #D2E3FC;\n",
              "      --hover-bg-color: #434B5C;\n",
              "      --hover-fill-color: #FFFFFF;\n",
              "      --disabled-bg-color: #3B4455;\n",
              "      --disabled-fill-color: #666;\n",
              "  }\n",
              "\n",
              "  .colab-df-quickchart {\n",
              "    background-color: var(--bg-color);\n",
              "    border: none;\n",
              "    border-radius: 50%;\n",
              "    cursor: pointer;\n",
              "    display: none;\n",
              "    fill: var(--fill-color);\n",
              "    height: 32px;\n",
              "    padding: 0;\n",
              "    width: 32px;\n",
              "  }\n",
              "\n",
              "  .colab-df-quickchart:hover {\n",
              "    background-color: var(--hover-bg-color);\n",
              "    box-shadow: 0 1px 2px rgba(60, 64, 67, 0.3), 0 1px 3px 1px rgba(60, 64, 67, 0.15);\n",
              "    fill: var(--button-hover-fill-color);\n",
              "  }\n",
              "\n",
              "  .colab-df-quickchart-complete:disabled,\n",
              "  .colab-df-quickchart-complete:disabled:hover {\n",
              "    background-color: var(--disabled-bg-color);\n",
              "    fill: var(--disabled-fill-color);\n",
              "    box-shadow: none;\n",
              "  }\n",
              "\n",
              "  .colab-df-spinner {\n",
              "    border: 2px solid var(--fill-color);\n",
              "    border-color: transparent;\n",
              "    border-bottom-color: var(--fill-color);\n",
              "    animation:\n",
              "      spin 1s steps(1) infinite;\n",
              "  }\n",
              "\n",
              "  @keyframes spin {\n",
              "    0% {\n",
              "      border-color: transparent;\n",
              "      border-bottom-color: var(--fill-color);\n",
              "      border-left-color: var(--fill-color);\n",
              "    }\n",
              "    20% {\n",
              "      border-color: transparent;\n",
              "      border-left-color: var(--fill-color);\n",
              "      border-top-color: var(--fill-color);\n",
              "    }\n",
              "    30% {\n",
              "      border-color: transparent;\n",
              "      border-left-color: var(--fill-color);\n",
              "      border-top-color: var(--fill-color);\n",
              "      border-right-color: var(--fill-color);\n",
              "    }\n",
              "    40% {\n",
              "      border-color: transparent;\n",
              "      border-right-color: var(--fill-color);\n",
              "      border-top-color: var(--fill-color);\n",
              "    }\n",
              "    60% {\n",
              "      border-color: transparent;\n",
              "      border-right-color: var(--fill-color);\n",
              "    }\n",
              "    80% {\n",
              "      border-color: transparent;\n",
              "      border-right-color: var(--fill-color);\n",
              "      border-bottom-color: var(--fill-color);\n",
              "    }\n",
              "    90% {\n",
              "      border-color: transparent;\n",
              "      border-bottom-color: var(--fill-color);\n",
              "    }\n",
              "  }\n",
              "</style>\n",
              "\n",
              "  <script>\n",
              "    async function quickchart(key) {\n",
              "      const quickchartButtonEl =\n",
              "        document.querySelector('#' + key + ' button');\n",
              "      quickchartButtonEl.disabled = true;  // To prevent multiple clicks.\n",
              "      quickchartButtonEl.classList.add('colab-df-spinner');\n",
              "      try {\n",
              "        const charts = await google.colab.kernel.invokeFunction(\n",
              "            'suggestCharts', [key], {});\n",
              "      } catch (error) {\n",
              "        console.error('Error during call to suggestCharts:', error);\n",
              "      }\n",
              "      quickchartButtonEl.classList.remove('colab-df-spinner');\n",
              "      quickchartButtonEl.classList.add('colab-df-quickchart-complete');\n",
              "    }\n",
              "    (() => {\n",
              "      let quickchartButtonEl =\n",
              "        document.querySelector('#df-997ff1ee-1f11-4386-af08-e8a0d951ce12 button');\n",
              "      quickchartButtonEl.style.display =\n",
              "        google.colab.kernel.accessAllowed ? 'block' : 'none';\n",
              "    })();\n",
              "  </script>\n",
              "</div>\n",
              "\n",
              "    </div>\n",
              "  </div>\n"
            ]
          },
          "metadata": {},
          "execution_count": 19
        },
        {
          "output_type": "display_data",
          "data": {
            "text/plain": [
              "<google.colab._quickchart_helpers.SectionTitle at 0x787b0aac2a70>"
            ],
            "text/html": [
              "<h4 class=\"colab-quickchart-section-title\">Time series</h4>\n",
              "<style>\n",
              "  .colab-quickchart-section-title {\n",
              "      clear: both;\n",
              "  }\n",
              "</style>"
            ]
          },
          "metadata": {}
        },
        {
          "output_type": "display_data",
          "data": {
            "text/plain": [
              "from matplotlib import pyplot as plt\n",
              "import seaborn as sns\n",
              "def _plot_series(series, series_name, series_index=0):\n",
              "  from matplotlib import pyplot as plt\n",
              "  import seaborn as sns\n",
              "  palette = list(sns.palettes.mpl_palette('Dark2'))\n",
              "  counted = (series[0]\n",
              "                .value_counts()\n",
              "              .reset_index(name='counts')\n",
              "              .rename({'index': 0}, axis=1)\n",
              "              .sort_values(0, ascending=True))\n",
              "  xs = counted[0]\n",
              "  ys = counted['counts']\n",
              "  plt.plot(xs, ys, label=series_name, color=palette[series_index % len(palette)])\n",
              "\n",
              "fig, ax = plt.subplots(figsize=(10, 5.2), layout='constrained')\n",
              "df_sorted = _df_0.sort_values(0, ascending=True)\n",
              "_plot_series(df_sorted, '')\n",
              "sns.despine(fig=fig, ax=ax)\n",
              "plt.xlabel(0)\n",
              "_ = plt.ylabel('count()')"
            ],
            "text/html": [
              "      <div class=\"colab-quickchart-chart-with-code\" id=\"chart-19e6ee10-8a69-4bbd-b591-847f8c30f4d9\">\n",
              "        <img style=\"width: 180px;\" src=\"data:image/png;base64,iVBORw0KGgoAAAANSUhEUgAAA/MAAAITCAYAAABLz0yVAAAAOXRFWHRTb2Z0d2FyZQBNYXRwbG90\n",
              "bGliIHZlcnNpb24zLjcuMSwgaHR0cHM6Ly9tYXRwbG90bGliLm9yZy/bCgiHAAAACXBIWXMAAA9h\n",
              "AAAPYQGoP6dpAAAncklEQVR4nO3df7CWdZ3/8dcNZzsmeUCUJJYOhInGChwgGSpdNTfXGDtoLmVb\n",
              "KhYCQ862nkpiXNxlY2TbXIptp8wdp0ktNsdf67Lu7GhRS1JSCrgjaZ0WOBCiZnIg+SFw7u8fTWe/\n",
              "ZwHlyLk5fOTxmLkm7vv6nHO9r5lrcJ5d931RqVar1QAAAADF6NPbAwAAAADdI+YBAACgMGIeAAAA\n",
              "CiPmAQAAoDBiHgAAAAoj5gEAAKAwYh4AAAAKI+YBAACgMK/7mF+8eHFvjwAAAAA96nUf8xs2bOjt\n",
              "EQAAAKBHve5jHgAAAF5vxDwAAAAURswDAABAYcQ8AAAAFEbMAwAAQGHEPAAAABRGzAMAAEBhxDwA\n",
              "AAAURswDAABAYcQ8AAAAFEbMAwAAQGHEPAAAABRGzAMAAEBhxDwAAAAURswDAABAYcQ8AAAAFEbM\n",
              "AwAAQGFqGvMXXnhhxowZk6amppxzzjlZtWrVfmvWr1+f8847L/37909TU1OXfd///vfzxje+MU1N\n",
              "TZ3bzp07azkyAAAAHPXqavnL77rrrgwYMCBJct9992XatGlZs2ZNlzUNDQ1ZsGBB2tvbc8MNN+z3\n",
              "O04//fSsXr26lmMCAABAUWp6Z/73IZ8k7e3tqVQq+60ZOHBgzj777PTr1++wj7d79+5s27aty7Zv\n",
              "377D/r0AAABwNKn5d+avvPLKvPWtb828efNyxx13dPvnf/nLX2b8+PE566yz8tWvfvUV1y5cuDD9\n",
              "+/fvsq1cufK1jg4AAABHpZrH/O23356NGzdmwYIFmTNnTrd+dvz48dm0aVMef/zx3Hfffbnlllty\n",
              "1113HXT93Llz097e3mWbOHHi4Z4CAAAAHFWO2NPsr7rqqixbtiwvvPDCIf9MQ0ND+vfvnyQZOnRo\n",
              "PvKRj2T58uUHXV9fX5+GhoYuW9++fQ97dgAAADia1Czmt27dms2bN3e+vv/++3PSSSdl4MCBh/w7\n",
              "nnnmmXR0dCRJtm/fnqVLl2bcuHE9PisAAACUpGZPs29vb8/UqVOzc+fO9OnTJ4MGDcrSpUtTqVQy\n",
              "ffr0NDc3p7m5OTt27MjIkSOze/futLe3Z+jQobniiiuycOHC3HPPPfna176Wurq67N27N1OnTs3V\n",
              "V19dq5EBAACgCJVqtVrt7SFqqaWlJYsWLertMQAAAKDHHLHvzAMAAAA9Q8wDAABAYcQ8AAAAFEbM\n",
              "AwAAQGHEPAAAABRGzAMAAEBhxDwAAAAURswDAABAYcQ8AAAAFEbMAwAAQGHEPAAAABRGzAMAAEBh\n",
              "xDwAAAAURswDAABAYcQ8AAAAFEbMAwAAQGHEPAAAABRGzAMAAEBhxDwAAAAURswDAABAYcQ8AAAA\n",
              "FEbMAwAAQGHEPAAAABRGzAMAAEBhxDwAAAAURswDAABAYcQ8AAAAFEbMAwAAQGHEPAAAABRGzAMA\n",
              "AEBhxDwAAAAURswDAABAYcQ8AAAAFEbMAwAAQGHEPAAAABRGzAMAAEBhxDwAAAAURswDAABAYcQ8\n",
              "AAAAFEbMAwAAQGHEPAAAABRGzAMAAEBhxDwAAAAURswDAABAYcQ8AAAAFEbMAwAAQGHEPAAAABRG\n",
              "zAMAAEBhxDwAAAAURswDAABAYcQ8AAAAFEbMAwAAQGHEPAAAABRGzAMAAEBhxDwAAAAURswDAABA\n",
              "YcQ8AAAAFEbMAwAAQGHEPAAAABRGzAMAAEBhxDwAAAAURswDAABAYcQ8AAAAFEbMAwAAQGFqGvMX\n",
              "XnhhxowZk6amppxzzjlZtWrVfmvWr1+f8847L/37909TU9N++2+77bacdtppOfXUU3PNNddkz549\n",
              "tRwZAAAAjno1jfm77rorTzzxRFavXp2WlpZMmzZtvzUNDQ1ZsGBBvv3tb++3b926dZk3b16WL1+e\n",
              "1tbWPPvss7n11ltrOTIAAAAc9Woa8wMGDOj8c3t7eyqVyn5rBg4cmLPPPjv9+vXbb9/dd9+d5ubm\n",
              "DB48OJVKJbNmzcqSJUsOerzdu3dn27ZtXbZ9+/b1yLkAAADA0aKu1ge48sors2zZsiTJgw8+2K2f\n",
              "bWtry7BhwzpfDx8+PG1tbQddv3DhwsyfP7/Le5MmTerWMQEAAOBoV/MH4N1+++3ZuHFjFixYkDlz\n",
              "5tT0WHPnzk17e3uXbeLEiTU9JgAAABxpR+xp9ldddVWWLVuWF1544ZB/prGxMRs2bOh8vX79+jQ2\n",
              "Nh50fX19fRoaGrpsffv2Pay5AQAA4GhTs5jfunVrNm/e3Pn6/vvvz0knnZSBAwce8u+47LLL8sAD\n",
              "D2TLli2pVqu55ZZbcvnll9diXAAAAChGzb4z397enqlTp2bnzp3p06dPBg0alKVLl6ZSqWT69Olp\n",
              "bm5Oc3NzduzYkZEjR2b37t1pb2/P0KFDc8UVV2ThwoUZMWJE5s+fn/e85z1JkvPOOy8zZ86s1cgA\n",
              "AABQhEq1Wq329hC11NLSkkWLFvX2GAAAANBjjth35gEAAICeIeYBAACgMGIeAAAACiPmAQAAoDBi\n",
              "HgAAAAoj5gEAAKAwYh4AAAAKI+YBAACgMGIeAAAACiPmAQAAoDBiHgAAAAoj5gEAAKAwYh4AAAAK\n",
              "I+YBAACgMGIeAAAACiPmAQAAoDBiHgAAAAoj5gEAAKAwYh4AAAAKI+YBAACgMGIeAAAACiPmAQAA\n",
              "oDBiHgAAAAoj5gEAAKAwYh4AAAAKI+YBAACgMGIeAAAACiPmAQAAoDBiHgAAAAoj5gEAAKAwYh4A\n",
              "AAAKI+YBAACgMGIeAAAACiPmAQAAoDBiHgAAAAoj5gEAAKAwYh4AAAAKI+YBAACgMGIeAAAACiPm\n",
              "AQAAoDBiHgAAAAoj5gEAAKAwYh4AAAAKI+YBAACgMGIeAAAACiPmAQAAoDBiHgAAAAoj5gEAAKAw\n",
              "Yh4AAAAKI+YBAACgMGIeAAAACiPmAQAAoDBiHgAAAAoj5gEAAKAwYh4AAAAKI+YBAACgMGIeAAAA\n",
              "CiPmAQAAoDBiHgAAAAoj5gEAAKAwYh4AAAAKI+YBAACgMGIeAAAAClPTmL/wwgszZsyYNDU15Zxz\n",
              "zsmqVasOuO62227LaaedllNPPTXXXHNN9uzZkyT5/ve/nze+8Y1pamrq3Hbu3FnLkQEAAOCoV1fL\n",
              "X37XXXdlwIABSZL77rsv06ZNy5o1a7qsWbduXebNm5fHH388p5xySqZMmZJbb701n/zkJ5Mkp59+\n",
              "elavXl3LMQEAAKAoNb0z//uQT5L29vZUKpX91tx9991pbm7O4MGDU6lUMmvWrCxZsqSWYwEAAEDR\n",
              "anpnPkmuvPLKLFu2LEny4IMP7re/ra0tw4YN63w9fPjwtLW1db7+5S9/mfHjx6dv3765+uqrM3v2\n",
              "7IMea/fu3dm9e3eX9/bt23e4pwAAAABHlZrH/O23354k+eY3v5k5c+YcMOgPZvz48dm0aVP69++f\n",
              "TZs2ZfLkyTn55JPzoQ996IDrFy5cmPnz53d5b9KkSa99eAAAADgKHbGn2V911VVZtmxZXnjhhS7v\n",
              "NzY2ZsOGDZ2v169fn8bGxiRJQ0ND+vfvnyQZOnRoPvKRj2T58uUHPcbcuXPT3t7eZZs4cWINzgYA\n",
              "AAB6T81ifuvWrdm8eXPn6/vvvz8nnXRSBg4c2GXdZZddlgceeCBbtmxJtVrNLbfckssvvzxJ8swz\n",
              "z6SjoyNJsn379ixdujTjxo076DHr6+vT0NDQZevbt28Nzg4AAAB6T80+Zt/e3p6pU6dm586d6dOn\n",
              "TwYNGpSlS5emUqlk+vTpaW5uTnNzc0aMGJH58+fnPe95T5LkvPPOy8yZM5Mk99xzT772ta+lrq4u\n",
              "e/fuzdSpU3P11VfXamQAAAAoQqVarVZ7e4haamlpyaJFi3p7DAAAAOgxR+w78wAAAEDPEPMAAABQ\n",
              "GDEPAAAAhRHzAAAAUBgxDwAAAIUR8wAAAFAYMQ8AAACFEfMAAABQGDEPAAAAhRHzAAAAUBgxDwAA\n",
              "AIUR8wAAAFAYMQ8AAACFEfMAAABQGDEPAAAAhRHzAAAAUBgxDwAAAIUR8wAAAFAYMQ8AAACFEfMA\n",
              "AABQGDEPAAAAhRHzAAAAUBgxDwAAAIUR8wAAAFAYMQ8AAACFEfMAAABQGDEPAAAAhRHzAAAAUBgx\n",
              "DwAAAIUR8wAAAFAYMQ8AAACFEfMAAABQGDEPAAAAhRHzAAAAUBgxDwAAAIUR8wAAAFAYMQ8AAACF\n",
              "EfMAAABQGDEPAAAAhRHzAAAAUBgxDwAAAIUR8wAAAFAYMQ8AAACFEfMAAABQGDEPAAAAhRHzAAAA\n",
              "UBgxDwAAAIUR8wAAAFAYMQ8AAACFEfMAAABQmLrX8kNr167Npk2b8sY3vjGjR4/OgAEDengsAAAA\n",
              "4GAOOea3b9+em2++Of/8z/+c448/Pqecckp27dqVX/7yl5k4cWLmzJmTCy64oJazAgAAAOlGzJ9/\n",
              "/vm58sors2rVqpxyyimd73d0dGT58uW55ZZb0trampkzZ9ZkUAAAAOB3DjnmH3nkkdTX1+/3fp8+\n",
              "fXLuuefm3HPPze7du3t0OAAAAGB/h/wAvAOF/GtZAwAAAByeQ475iy++OCtWrDjgvq1bt+Yf/uEf\n",
              "8vWvf73HBgMAAAAO7JA/Zn/TTTdl7ty5Wbt2bc4666zOB+A99dRT+dWvfpVPfvKT+fjHP17LWQEA\n",
              "AIB0I+bHjBmTf//3f8/GjRvzgx/8IJs2bcrxxx+fj370ozn77LNTV/ea/pU7AAAAoJu6XeAvvvhi\n",
              "Pvaxj3V574knnsiYMWN6bCgAAADg4A75O/O/N23atEN6DwAAAKiNQ74z/9xzz2XLli3ZuXNn/vu/\n",
              "/zvVajVJ0t7enpdeeqlmAwIAAABdHXLML1myJF/+8pezefPmNDc3d77fv3//XH/99TUZDgAAANjf\n",
              "Icf8pz71qXzqU5/K5z//+cybN6+WMwEAAACvoNsPwJs3b146OjqyZcuW7N27t/P9xsbGHh0MAAAA\n",
              "OLBuPwDvm9/8ZgYMGJDRo0dnwoQJmTBhQt75zncecO2FF16YMWPGpKmpKeecc05WrVp1wHW33XZb\n",
              "TjvttJx66qm55pprsmfPnkPaBwAAAMeibsf83/7t3+YnP/lJXnjhhTz//PN5/vnn89xzzx1w7V13\n",
              "3ZUnnngiq1evTktLywGfer9u3brMmzcvy5cvT2tra5599tnceuutr7oPAAAAjlXdjvmTTz45p59+\n",
              "+iGtHTBgQOef29vbU6lU9ltz9913p7m5OYMHD06lUsmsWbOyZMmSV90HAAAAx6puf2f+kksuyZe/\n",
              "/OX8+Z//eY477rjO9xsaGg64/sorr8yyZcuSJA8++OB++9va2jJs2LDO18OHD09bW9ur7juQ3bt3\n",
              "Z/fu3V3e27dv3yGcFQAAAJSj23fmb7jhhrS0tGTw4ME58cQTM2DAgJx44okHXX/77bdn48aNWbBg\n",
              "QebMmXNYw76ahQsXpn///l22lStX1vSYAAAAcKR1O+Y7Ojo6t3379nX+76u56qqrsmzZsrzwwgtd\n",
              "3m9sbMyGDRs6X69fv77zyfivtO9A5s6dm/b29i7bxIkTu3uKAAAAcFTrdswfqq1bt2bz5s2dr++/\n",
              "//6cdNJJGThwYJd1l112WR544IFs2bIl1Wo1t9xySy6//PJX3Xcg9fX1aWho6LL17du3NicIAAAA\n",
              "vaTb35nv06fPAR9k93/vzre3t2fq1KnZuXNn+vTpk0GDBmXp0qWpVCqZPn16mpub09zcnBEjRmT+\n",
              "/Pl5z3vekyQ577zzMnPmzCR5xX0AAABwrKpUq9Vqd37gpZde6vzzzp07c/vtt2ffvn357Gc/2+PD\n",
              "9YSWlpYsWrSot8cAAACAHtPtj9n369evczv55JPT0tKSu+++uxazAQAAAAdw2N+Zf+qpp/LrX/+6\n",
              "J2YBAAAADkG3vzN/4okndn5nfu/evUmSr3zlKz07FQAAAHBQ3Y751atX/+8P19Vl8ODBnhgPAAAA\n",
              "R1C3Y37YsGHZsWNHZ9SfeOKJOf7443t6LgAAAOAguh3zK1asyGWXXZbBgwcnSZ599tncc889ede7\n",
              "3tXjwwEAAAD763bM//7p9b//t99XrFiR6667Lj/+8Y97fDgAAABgf91+mv3OnTs7Qz5J3v3ud2fX\n",
              "rl09OhQAAABwcN2O+Te96U15+OGHO19/97vfTb9+/Xp0KAAAAODguv0x+3/8x3/MBz/4wc4n2Hd0\n",
              "dOTee+/t8cEAAACAA+t2zG/evDk//elP8+yzzyZJTjnllKxcubLHBwMAAAAOrNsfs583b14GDRqU\n",
              "M888M2eeeWZOPvnkzJs3rxazAQAAAAfQ7Zj/vyqVSvbt29cTswAAAACHoNsxf8IJJ2TFihWdrx95\n",
              "5JGccMIJPToUAAAAcHDd/s783//93+fSSy/NGWeckST5xS9+kfvuu6/HBwMAAAAOrNsx/653vSs/\n",
              "+9nP8qMf/SjJ7/6d+QEDBvT0XAAAAMBBdDvmk+TEE0/M5MmTe3oWAAAA4BAc9gPwAAAAgCNLzAMA\n",
              "AEBhxDwAAAAURswDAABAYcQ8AAAAFEbMAwAAQGHEPAAAABRGzAMAAEBhxDwAAAAURswDAABAYcQ8\n",
              "AAAAFEbMAwAAQGHEPAAAABRGzAMAAEBhxDwAAAAURswDAABAYcQ8AAAAFEbMAwAAQGHEPAAAABRG\n",
              "zAMAAEBhxDwAAAAURswDAABAYcQ8AAAAFEbMAwAAQGHEPAAAABRGzAMAAEBhxDwAAAAURswDAABA\n",
              "YcQ8AAAAFEbMAwAAQGHEPAAAABRGzAMAAEBhxDwAAAAURswDAABAYcQ8AAAAFEbMAwAAQGHEPAAA\n",
              "ABRGzAMAAEBhxDwAAAAURswDAABAYcQ8AAAAFEbMAwAAQGHEPAAAABRGzAMAAEBhxDwAAAAURswD\n",
              "AABAYcQ8AAAAFKZmMb9r165ccsklGTlyZMaOHZv3ve99aW1tPeDaL37xiznzzDMzatSoXHrppdm6\n",
              "dWvnvkqlktGjR6epqSlNTU1Zvnx5rUYGAACAItT0zvyMGTPy9NNPZ82aNZkyZUqmT5++35qHHnoo\n",
              "3/jGN/KjH/0oa9euzYQJE3LDDTd0WbN8+fKsXr06q1evzjnnnFPLkQEAAOCoV7OYP+644zJ58uRU\n",
              "KpUkyaRJk7J+/fr91q1ZsyZnn312TjjhhCTJ5MmTc8cdd7ymY+7evTvbtm3rsu3bt+81nwMAAAAc\n",
              "jY7Yd+YXL16cKVOm7Pf+hAkT8vDDD2fLli2pVqv51re+le3bt+c3v/lN55oLLrggY8eOTUtLS156\n",
              "6aWDHmPhwoXp379/l23lypU1OR8AAADoLUck5m+66aa0trZm4cKF++07//zz85nPfCYXX3xxJk2a\n",
              "lEGDBiVJ6urqkiQbNmzIY489lhUrVuT555/PZz/72YMeZ+7cuWlvb++yTZw4sTYnBQAAAL2krtYH\n",
              "uPnmm3Pvvffm4YcfzvHHH3/ANbNnz87s2bOTJD/+8Y8zdOjQNDQ0JEkaGxuTJP369cvs2bMzY8aM\n",
              "gx6rvr4+9fX1Xd7r27dvT5wGAAAAHDVqemd+0aJFWbJkSR566KEMGDDgoOueeeaZJMmOHTty4403\n",
              "5vrrr0+SvPjii9mxY0eSpKOjI9/5zncybty4Wo4MAAAAR72a3ZnftGlTPv3pT2fEiBE5//zzk/zu\n",
              "zvmjjz6aG2+8MUOGDMmsWbOSJBdeeGE6Ojry8ssv54orrsi1116bJHnqqacyc+bMVCqV7N27N+PH\n",
              "j8/ixYtrNTIAAAAUoVKtVqu9PUQttbS0ZNGiRb09BgAAAPSYI/Y0ewAAAKBniHkAAAAojJgHAACA\n",
              "woh5AAAAKIyYBwAAgMKIeQAAACiMmAcAAIDCiHkAAAAojJgHAACAwoh5AAAAKIyYBwAAgMKIeQAA\n",
              "ACiMmAcAAIDCiHkAAAAojJgHAACAwoh5AAAAKIyYBwAAgMKIeQAAACiMmAcAAIDCiHkAAAAojJgH\n",
              "AACAwoh5AAAAKIyYBwAAgMKIeQAAACiMmAcAAIDCiHkAAAAojJgHAACAwoh5AAAAKIyYBwAAgMKI\n",
              "eQAAACiMmAcAAIDCiHkAAAAojJgHAACAwoh5AAAAKIyYBwAAgMKIeQAAACiMmAcAAIDCiHkAAAAo\n",
              "jJgHAACAwoh5AAAAKIyYBwAAgMKIeQAAACiMmAcAAIDCiHkAAAAojJgHAACAwoh5AAAAKIyYBwAA\n",
              "gMKIeQAAACiMmAcAAIDCiHkAAAAojJgHAACAwoh5AAAAKIyYBwAAgMKIeQAAACiMmAcAAIDCiHkA\n",
              "AAAojJgHAACAwoh5AAAAKIyYBwAAgMKIeQAAACiMmAcAAIDCiHkAAAAojJgHAACAwoh5AAAAKEzN\n",
              "Yn7Xrl255JJLMnLkyIwdOzbve9/70traesC1X/ziF3PmmWdm1KhRufTSS7N169bOfY8++mjGjh2b\n",
              "kSNH5r3vfW9+9atf1WpkAAAAKEJN78zPmDEjTz/9dNasWZMpU6Zk+vTp+6156KGH8o1vfCM/+tGP\n",
              "snbt2kyYMCE33HBDkqSjoyMf/ehH8+Uvfzk///nPM3ny5PzlX/5lLUcGAACAo17NYv64447L5MmT\n",
              "U6lUkiSTJk3K+vXr91u3Zs2anH322TnhhBOSJJMnT84dd9yRJHnsscdSV1eX888/P0kyc+bM/Nu/\n",
              "/Vt27dp1wGPu3r0727Zt67Lt27evBmcHAAAAveeIfWd+8eLFmTJlyn7vT5gwIQ8//HC2bNmSarWa\n",
              "b33rW9m+fXt+85vfpK2tLcOGDetce8IJJ6ShoSGbN28+4DEWLlyY/v37d9lWrlxZs3MCAACA3nBE\n",
              "Yv6mm25Ka2trFi5cuN++888/P5/5zGdy8cUXZ9KkSRk0aFCSpK6urtvHmTt3btrb27tsEydOPOz5\n",
              "AQAA4GjS/WLupptvvjn33ntvHn744Rx//PEHXDN79uzMnj07SfLjH/84Q4cOTUNDQxobG7Nhw4bO\n",
              "ddu3b097e3uGDBlywN9TX1+f+vr6Lu/17du3h84EAAAAjg41vTO/aNGiLFmyJA899FAGDBhw0HXP\n",
              "PPNMkmTHjh258cYbc/311yf53Ufw9+zZk2XLliVJvv71r+cDH/hAjjvuuFqODQAAAEe1mt2Z37Rp\n",
              "Uz796U9nxIgRnQ+wq6+vz6OPPpobb7wxQ4YMyaxZs5IkF154YTo6OvLyyy/niiuuyLXXXpsk6dOn\n",
              "T+68887MnDkzu3btypAhQzofjgcAAADHqkq1Wq329hC11NLSkkWLFvX2GAAAANBjjtjT7AEAAICe\n",
              "IeYBAACgMGIeAAAACiPmAQAAoDBiHgAAAAoj5gEAAKAwYh4AAAAKI+YBAACgMGIeAAAACiPmAQAA\n",
              "oDBiHgAAAAoj5gEAAKAwYh4AAAAKI+YBAACgMGIeAAAACiPmAQAAoDBiHgAAAAoj5gEAAKAwYh4A\n",
              "AAAKI+YBAACgMGIeAAAACiPmAQAAoDBiHgAAAAoj5gEAAKAwYh4AAAAKI+YBAACgMGIeAAAACiPm\n",
              "AQAAoDBiHgAAAAoj5gEAAKAwYh4AAAAKI+YBAACgMGIeAAAACiPmAQAAoDBiHgAAAAoj5gEAAKAw\n",
              "Yh4AAAAKI+YBAACgMGIeAAAACiPmAQAAoDBiHgAAAAoj5gEAAKAwYh4AAAAKI+YBAACgMGIeAAAA\n",
              "CiPmAQAAoDBiHgAAAAoj5gEAAKAwYh4AAAAKI+YBAACgMGIeAAAACiPmAQAAoDBiHgAAAAoj5gEA\n",
              "AKAwYh4AAAAKI+YBAACgMGIeAAAACiPmAQAAoDBiHgAAAAoj5gEAAKAwYh4AAAAKI+YBAACgMGIe\n",
              "AAAACiPmAQAAoDA1i/ldu3blkksuyciRIzN27Ni8733vS2tr6wHXfuELX8ioUaPS1NSUSZMmZeXK\n",
              "lZ37KpVKRo8enaampjQ1NWX58uW1GhkAAACKUFfLXz5jxoy8//3vT6VSyT/90z9l+vTp+f73v99l\n",
              "zerVq/PVr341Tz75ZN70pjflzjvvzLXXXtsl6JcvX54BAwbUclQAAAAoRs3uzB933HGZPHlyKpVK\n",
              "kmTSpElZv379fusqlUr27NmTl156KUmydevWDB069DUdc/fu3dm2bVuXbd++fa/5HAAAAOBoVNM7\n",
              "8/+/xYsXZ8qUKfu9P3bs2Fx33XV529veloEDB6a+vj7/9V//1WXNBRdckL179+aCCy7I5z//+fTr\n",
              "1++Ax1i4cGHmz5/f5b1Jkyb13EkAAADAUeCIPADvpptuSmtraxYuXLjfvnXr1uXee+9Na2trNm3a\n",
              "lOuuuy4f/vCHO/dv2LAhjz32WFasWJHnn38+n/3sZw96nLlz56a9vb3LNnHixJqcEwAAAPSWmsf8\n",
              "zTffnHvvvTf/8R//keOPP36//ffcc09Gjx6dIUOGJEmuvvrqPPLII3n55ZeTJI2NjUmSfv36Zfbs\n",
              "2a/4ALz6+vo0NDR02fr27VuDswIAAIDeU9OYX7RoUZYsWZKHHnrooA+wGzFiRB555JH89re/TZIs\n",
              "Xbo0I0eOzBve8Ia8+OKL2bFjR5Kko6Mj3/nOdzJu3LhajgwAAABHvZp9Z37Tpk359Kc/nREjRuT8\n",
              "889P8rs7548++mhuvPHGDBkyJLNmzcqll16an/zkJ3nnO9+Z+vr69OvXL9/+9reTJE899VRmzpyZ\n",
              "SqWSvXv3Zvz48Vm8eHGtRgYAAIAiVKrVarW3h6illpaWLFq0qLfHAAAAgB5zRB6ABwAAAPQcMQ8A\n",
              "AACFEfMAAABQGDEPAAAAhRHzAAAAUBgxDwAAAIUR8wAAAFAYMQ8AAACFEfMAAABQGDEPAAAAhRHz\n",
              "AAAAUBgxDwAAAIUR8wAAAFAYMQ8AAACFEfMAAABQGDEPAAAAhalUq9Vqbw9RSx/84AczfPjw3h6D\n",
              "XrJv376sXLkyEydOTN++fXt7HHhFrldK4nqlJK5XSuJ6JUmGDRuWT33qU6+45nUf8xzbtm3blv79\n",
              "+6e9vT0NDQ29PQ68ItcrJXG9UhLXKyVxvXKofMweAAAACiPmAQAAoDBiHgAAAAoj5nldq6+vz1//\n",
              "9V+nvr6+t0eBV+V6pSSuV0rieqUkrlcOlQfgAQAAQGHcmQcAAIDCiHkAAAAojJgHAACAwoh5ivSL\n",
              "X/wi7373uzNy5MicddZZefLJJ/db09HRkc985jM588wzc8YZZ+QTn/hEXn755c79bW1t+cAHPpDT\n",
              "Tz89o0aNyle+8pUjeQocQ3riev3CF76QUaNGpampKZMmTcrKlSuP5ClwDPmLv/iLDB8+PJVKJatX\n",
              "rz7outtuuy2nnXZaTj311FxzzTXZs2fPIe2DnnS41+v3vve9TJw4MaNGjcof/dEf5frrr09HR8cR\n",
              "mp5jTU/8/Zok1Wo1733vezNgwIDaDsxRT8xTpJkzZ2bGjBn5+c9/njlz5mTatGn7rbntttvy+OOP\n",
              "5/HHH8/Pfvaz9OnTJ4sXL07yu78EL7300lx55ZV5+umns3bt2nzoQx86wmfBseJwr9fVq1fnq1/9\n",
              "alauXJnVq1fn2muvzbXXXnuEz4JjxZ/92Z/lhz/8YYYNG3bQNevWrcu8efOyfPnytLa25tlnn82t\n",
              "t976qvugpx3u9XriiSfmX/7lX7J27do89thjWbFiRW6//fYjNT7HmMO9Xn/vS1/6Uk499dRaj0sB\n",
              "xDzFee655/LTn/40H/vYx5Ikl112WTZu3JjW1tYu69asWZM/+ZM/yRve8IZUKpW8//3vzx133JEk\n",
              "+e53v5v6+vpMnTq1c/0pp5xy5E6CY0ZPXK+VSiV79uzJSy+9lCTZunVrhg4demRPhGPGH//xH7/q\n",
              "9XX33Xenubk5gwcPTqVSyaxZs7JkyZJX3Qc97XCv13HjxmXEiBFJkuOOOy5NTU1Zv359rcfmGHW4\n",
              "12uSPPnkk7n//vvzuc99rtbjUgAxT3E2btyYt7zlLamrq0vyu9BpbGxMW1tbl3UTJkzIAw88kG3b\n",
              "tmXPnj256667Ov8DvXbt2gwaNCiXX355xo0bl0svvTT/8z//c6RPhWNAT1yvY8eOzXXXXZe3ve1t\n",
              "GTp0aL70pS/5Wgi9qq2trcudpeHDh3de06+0D3rDoV6TW7Zsyd13352LL774SI4HXbzS9bpnz55c\n",
              "c801+frXv56+ffv21ogcRcQ8r1vTpk3LRRddlHPPPTfnnntuRo4c2RlUe/fuzfe+973Mmzcvq1at\n",
              "yp/+6Z/6mD296pWu13Xr1uXee+9Na2trNm3alOuuuy4f/vCHe3ligNePbdu25QMf+ECuv/76vPOd\n",
              "7+ztceCA5s+fnw9+8IN5xzve0dujcJQQ8xTnrW99a5555pns3bs3ye++/97W1pbGxsYu6yqVSv7m\n",
              "b/4mq1atyooVKzofbpMkjY2NGTduXOfrK664Io8//riHNNHjeuJ6veeeezJ69OgMGTIkSXL11Vfn\n",
              "kUce6fKAPDiSGhsbs2HDhs7X69ev77ymX2kf9IZXuya3b9+eiy66KFOmTElLS0tvjAidXul6/cEP\n",
              "fpCvfOUrGT58eM4+++xs27Ytw4cPz/PPP99b49LLxDzFefOb35zx48fnzjvvTPK70Bk6dGje/va3\n",
              "d1m3a9euvPjii0mSX//61/m7v/u7XH/99UmS97///dm0aVN+9atfJUkefPDBvOMd78gf/MEfHMEz\n",
              "4VjQE9friBEj8sgjj+S3v/1tkmTp0qUZOXJk3vCGNxzBM4H/ddlll+WBBx7Ili1bUq1Wc8stt+Ty\n",
              "yy9/1X3QG17pmvztb3+biy66KBdddFH+6q/+qpcnhVe+XpcvX54NGzZk/fr1+eEPf5iGhoasX78+\n",
              "gwYN6uWp6TVVKNBTTz1VnTRpUvW0006rTpgwofrEE09Uq9Vq9ROf+ET1X//1X6vVarW6ZcuW6hln\n",
              "nFEdNWpU9Ywzzqh+7Wtf6/I7/vM//7M6duzY6pgxY6rnnHNO5++Anna412tHR0f1c5/7XPX000+v\n",
              "jhkzpvqud72r+tOf/rRXzoXXvxkzZlT/8A//sNq3b9/qm9/85uqpp55arVa7Xq/VarV66623VkeM\n",
              "GFEdMWJE9eMf/3j15ZdfPqR90JMO93pdsGBBta6urjp27NjObcGCBb1yLrz+9cTfr7+3bt26av/+\n",
              "/Y/U6BylKtVqtdrb/4cCAAAAcOh8zB4AAAAKI+YBAACgMGIeAAAACiPmAYBu+cUvfpF3v/vdGTly\n",
              "ZM4666w8+eSTvT0SABxzxDwA0C0zZ87MjBkz8vOf/zxz5szJtGnTenskADjmeJo9AHDInnvuubz9\n",
              "7W/Pb37zm9TV1aVareYtb3lLfvjDH+btb397b48HAMcMd+YBgEO2cePGvOUtb0ldXV2SpFKppLGx\n",
              "MW1tbb08GQAcW8Q8AAAAFEbMAwCH7K1vfWueeeaZ7N27N0lSrVbT1taWxsbGXp4MAI4tYh4AOGRv\n",
              "fvObM378+Nx5551JknvuuSdDhw71fXkAOMI8AA8A6Jann34606ZNywsvvJCGhoZ84xvfyOjRo3t7\n",
              "LAA4poh5AAAAKIyP2QMAAEBhxDwAAAAURswDAABAYcQ8AAAAFEbMAwAAQGHEPAAAABRGzAMAAEBh\n",
              "xDwAAAAURswDAABAYcQ8AAAAFOb/Aff6663TpeD+AAAAAElFTkSuQmCC\n",
              "\">\n",
              "      </div>\n",
              "      <script type=\"text/javascript\">\n",
              "        (() => {\n",
              "          const chartElement = document.getElementById(\"chart-19e6ee10-8a69-4bbd-b591-847f8c30f4d9\");\n",
              "          async function getCodeForChartHandler(event) {\n",
              "            const chartCodeResponse =  await google.colab.kernel.invokeFunction(\n",
              "                'getCodeForChart', [\"chart-19e6ee10-8a69-4bbd-b591-847f8c30f4d9\"], {});\n",
              "            const responseJson = chartCodeResponse.data['application/json'];\n",
              "            await google.colab.notebook.addCell(responseJson.code, 'code');\n",
              "          }\n",
              "          chartElement.onclick = getCodeForChartHandler;\n",
              "        })();\n",
              "      </script>\n",
              "      <style>\n",
              "        .colab-quickchart-chart-with-code  {\n",
              "            display: block;\n",
              "            float: left;\n",
              "            border: 1px solid transparent;\n",
              "        }\n",
              "\n",
              "        .colab-quickchart-chart-with-code:hover {\n",
              "            cursor: pointer;\n",
              "            border: 1px solid #aaa;\n",
              "        }\n",
              "      </style>"
            ]
          },
          "metadata": {}
        },
        {
          "output_type": "display_data",
          "data": {
            "text/plain": [
              "from matplotlib import pyplot as plt\n",
              "import seaborn as sns\n",
              "def _plot_series(series, series_name, series_index=0):\n",
              "  from matplotlib import pyplot as plt\n",
              "  import seaborn as sns\n",
              "  palette = list(sns.palettes.mpl_palette('Dark2'))\n",
              "  counted = (series[1]\n",
              "                .value_counts()\n",
              "              .reset_index(name='counts')\n",
              "              .rename({'index': 1}, axis=1)\n",
              "              .sort_values(1, ascending=True))\n",
              "  xs = counted[1]\n",
              "  ys = counted['counts']\n",
              "  plt.plot(xs, ys, label=series_name, color=palette[series_index % len(palette)])\n",
              "\n",
              "fig, ax = plt.subplots(figsize=(10, 5.2), layout='constrained')\n",
              "df_sorted = _df_1.sort_values(1, ascending=True)\n",
              "_plot_series(df_sorted, '')\n",
              "sns.despine(fig=fig, ax=ax)\n",
              "plt.xlabel(1)\n",
              "_ = plt.ylabel('count()')"
            ],
            "text/html": [
              "      <div class=\"colab-quickchart-chart-with-code\" id=\"chart-bcfc591e-8247-4a12-a1af-75954c089cbf\">\n",
              "        <img style=\"width: 180px;\" src=\"data:image/png;base64,iVBORw0KGgoAAAANSUhEUgAAA/MAAAITCAYAAABLz0yVAAAAOXRFWHRTb2Z0d2FyZQBNYXRwbG90\n",
              "bGliIHZlcnNpb24zLjcuMSwgaHR0cHM6Ly9tYXRwbG90bGliLm9yZy/bCgiHAAAACXBIWXMAAA9h\n",
              "AAAPYQGoP6dpAAAm+ElEQVR4nO3df5BV9X3/8dcF6qrEBVEipWQhGNFQhQUiQxKNGqtRRheNITFN\n",
              "/JWgMMSJdRM1jMWWhpGmsURqx18dJxNNQuP4q5ba6WiCKYpKVMBOiEk25YeIqDGyoPwQ2Pv9w8l+\n",
              "v/sFlJW9LB95PGbOhHvPZ+95n5kzOM+cvYdKtVqtBgAAAChGj+4eAAAAAOgcMQ8AAACFEfMAAABQ\n",
              "GDEPAAAAhRHzAAAAUBgxDwAAAIUR8wAAAFAYMQ8AAACFed/H/Jw5c7p7BAAAAOhS7/uYX7lyZXeP\n",
              "AAAAAF3qfR/zAAAA8H4j5gEAAKAwYh4AAAAKI+YBAACgMGIeAAAACiPmAQAAoDBiHgAAAAoj5gEA\n",
              "AKAwYh4AAAAKI+YBAACgMGIeAAAACiPmAQAAoDBiHgAAAAoj5gEAAKAwYh4AAAAKI+YBAACgMGIe\n",
              "AAAAClPTmD/99NMzYsSINDY25sQTT8zixYt3WLNixYqcfPLJ6dOnTxobGzvse/TRR3PQQQelsbGx\n",
              "fdu0aVMtRwYAAIB9Xq9afvjdd9+dvn37Jknuv//+XHzxxVm6dGmHNfX19Zk5c2ZaW1tz7bXX7vAZ\n",
              "Rx99dJYsWVLLMQEAAKAoNb0z/8eQT5LW1tZUKpUd1vTr1y8nnHBCevfuvcfH27JlS9avX99h2759\n",
              "+x5/LgAAAOxLav6d+QsvvDAf+tCHMn369Nx1112d/vnf/e53GT16dI4//vjcfPPN77h21qxZ6dOn\n",
              "T4dt0aJF73V0AAAA2CfVPObvvPPOvPDCC5k5c2auueaaTv3s6NGjs3r16jz77LO5//77c+utt+bu\n",
              "u+/e5fpp06altbW1wzZ27Ng9PQUAAADYp+y1p9lfdNFFmT9/fl577bXd/pn6+vr06dMnSTJo0KB8\n",
              "8YtfzIIFC3a5vq6uLvX19R22nj177vHsAAAAsC+pWcyvW7cua9asaX/9wAMP5LDDDku/fv12+zNe\n",
              "eumltLW1JUk2bNiQefPmZdSoUV0+KwAAAJSkZk+zb21tzcSJE7Np06b06NEj/fv3z7x581KpVDJp\n",
              "0qQ0NTWlqakpGzduzLBhw7Jly5a0trZm0KBBueCCCzJr1qzce++9ueWWW9KrV69s27YtEydOzCWX\n",
              "XFKrkQEAAKAIlWq1Wu3uIWqpubk5s2fP7u4xAAAAoMvste/MAwAAAF1DzAMAAEBhxDwAAAAURswD\n",
              "AABAYcQ8AAAAFEbMAwAAQGHEPAAAABRGzAMAAEBhxDwAAAAURswDAABAYcQ8AAAAFEbMAwAAQGHE\n",
              "PAAAABRGzAMAAEBhxDwAAAAURswDAABAYcQ8AAAAFEbMAwAAQGHEPAAAABRGzAMAAEBhxDwAAAAU\n",
              "RswDAABAYcQ8AAAAFEbMAwAAQGHEPAAAABRGzAMAAEBhxDwAAAAURswDAABAYcQ8AAAAFEbMAwAA\n",
              "QGHEPAAAABRGzAMAAEBhxDwAAAAURswDAABAYcQ8AAAAFEbMAwAAQGHEPAAAABRGzAMAAEBhxDwA\n",
              "AAAURswDAABAYcQ8AAAAFEbMAwAAQGHEPAAAABRGzAMAAEBhxDwAAAAURswDAABAYcQ8AAAAFEbM\n",
              "AwAAQGHEPAAAABRGzAMAAEBhxDwAAAAURswDAABAYcQ8AAAAFEbMAwAAQGHEPAAAABRGzAMAAEBh\n",
              "xDwAAAAURswDAABAYcQ8AAAAFEbMAwAAQGHEPAAAABRGzAMAAEBhxDwAAAAURswDAABAYWoa86ef\n",
              "fnpGjBiRxsbGnHjiiVm8ePEOa1asWJGTTz45ffr0SWNj4w7777jjjhx11FE58sgjc+mll2br1q21\n",
              "HBkAAAD2eTWN+bvvvjvPPfdclixZkubm5lx88cU7rKmvr8/MmTPz4x//eId9y5cvz/Tp07NgwYK0\n",
              "tLTk5Zdfzu23317LkQEAAGCfV9OY79u3b/ufW1tbU6lUdljTr1+/nHDCCendu/cO++655540NTVl\n",
              "wIABqVQqmTJlSubOnbvL423ZsiXr16/vsG3fvr1LzgUAAAD2Fb1qfYALL7ww8+fPT5I89NBDnfrZ\n",
              "VatWZfDgwe2vhwwZklWrVu1y/axZszJjxowO740bN65TxwQAAIB9Xc0fgHfnnXfmhRdeyMyZM3PN\n",
              "NdfU9FjTpk1La2trh23s2LE1PSYAAADsbXvtafYXXXRR5s+fn9dee223f6ahoSErV65sf71ixYo0\n",
              "NDTscn1dXV3q6+s7bD179tyjuQEAAGBfU7OYX7duXdasWdP++oEHHshhhx2Wfv367fZnnHfeeXnw\n",
              "wQezdu3aVKvV3HrrrTn//PNrMS4AAAAUo2bfmW9tbc3EiROzadOm9OjRI/3798+8efNSqVQyadKk\n",
              "NDU1pampKRs3bsywYcOyZcuWtLa2ZtCgQbngggsya9asDB06NDNmzMgnP/nJJMnJJ5+cyZMn12pk\n",
              "AAAAKEKlWq1Wu3uIWmpubs7s2bO7ewwAAADoMnvtO/MAAABA1xDzAAAAUBgxDwAAAIUR8wAAAFAY\n",
              "MQ8AAACFEfMAAABQGDEPAAAAhRHzAAAAUBgxDwAAAIUR8wAAAFAYMQ8AAACFEfMAAABQGDEPAAAA\n",
              "hRHzAAAAUBgxDwAAAIUR8wAAAFAYMQ8AAACFEfMAAABQGDEPAAAAhRHzAAAAUBgxDwAAAIUR8wAA\n",
              "AFAYMQ8AAACFEfMAAABQGDEPAAAAhRHzAAAAUBgxDwAAAIUR8wAAAFAYMQ8AAACFEfMAAABQGDEP\n",
              "AAAAhRHzAAAAUBgxDwAAAIUR8wAAAFAYMQ8AAACFEfMAAABQGDEPAAAAhRHzAAAAUBgxDwAAAIUR\n",
              "8wAAAFAYMQ8AAACFEfMAAABQGDEPAAAAhRHzAAAAUBgxDwAAAIUR8wAAAFAYMQ8AAACFEfMAAABQ\n",
              "GDEPAAAAhRHzAAAAUBgxDwAAAIUR8wAAAFAYMQ8AAACFEfMAAABQGDEPAAAAhRHzAAAAUBgxDwAA\n",
              "AIUR8wAAAFAYMQ8AAACFEfMAAABQGDEPAAAAhRHzAAAAUBgxDwAAAIWpacyffvrpGTFiRBobG3Pi\n",
              "iSdm8eLFO113xx135KijjsqRRx6ZSy+9NFu3bk2SPProoznooIPS2NjYvm3atKmWIwMAAMA+r1ct\n",
              "P/zuu+9O3759kyT3339/Lr744ixdurTDmuXLl2f69Ol59tlnc8QRR2TChAm5/fbb87WvfS1JcvTR\n",
              "R2fJkiW1HBMAAACKUtM7838M+SRpbW1NpVLZYc0999yTpqamDBgwIJVKJVOmTMncuXNrORYAAAAU\n",
              "raZ35pPkwgsvzPz585MkDz300A77V61alcGDB7e/HjJkSFatWtX++ne/+11Gjx6dnj175pJLLsnU\n",
              "qVN3eawtW7Zky5YtHd7bvn37np4CAAAA7FNqHvN33nlnkuQHP/hBrrnmmp0G/a6MHj06q1evTp8+\n",
              "fbJ69eqMHz8+hx9+eD7/+c/vdP2sWbMyY8aMDu+NGzfuvQ8PAAAA+6C99jT7iy66KPPnz89rr73W\n",
              "4f2GhoasXLmy/fWKFSvS0NCQJKmvr0+fPn2SJIMGDcoXv/jFLFiwYJfHmDZtWlpbWztsY8eOrcHZ\n",
              "AAAAQPepWcyvW7cua9asaX/9wAMP5LDDDku/fv06rDvvvPPy4IMPZu3atalWq7n11ltz/vnnJ0le\n",
              "eumltLW1JUk2bNiQefPmZdSoUbs8Zl1dXerr6ztsPXv2rMHZAQAAQPep2a/Zt7a2ZuLEidm0aVN6\n",
              "9OiR/v37Z968ealUKpk0aVKamprS1NSUoUOHZsaMGfnkJz+ZJDn55JMzefLkJMm9996bW265Jb16\n",
              "9cq2bdsyceLEXHLJJbUaGQAAAIpQqVar1e4eopaam5sze/bs7h4DAAAAusxe+848AAAA0DXEPAAA\n",
              "ABRGzAMAAEBhxDwAAAAURswDAABAYcQ8AAAAFEbMAwAAQGHEPAAAABRGzAMAAEBhxDwAAAAURswD\n",
              "AABAYcQ8AAAAFEbMAwAAQGHEPAAAABRGzAMAAEBhxDwAAAAURswDAABAYcQ8AAAAFEbMAwAAQGHE\n",
              "PAAAABRGzAMAAEBhxDwAAAAURswDAABAYcQ8AAAAFEbMAwAAQGHEPAAAABRGzAMAAEBhxDwAAAAU\n",
              "RswDAABAYcQ8AAAAFEbMAwAAQGHEPAAAABRGzAMAAEBhxDwAAAAURswDAABAYcQ8AAAAFEbMAwAA\n",
              "QGHEPAAAABRGzAMAAEBhxDwAAAAURswDAABAYcQ8AAAAFEbMAwAAQGHEPAAAABRGzAMAAEBhxDwA\n",
              "AAAURswDAABAYcQ8AAAAFEbMAwAAQGHEPAAAABSm13v5oWXLlmX16tU56KCDctxxx6Vv375dPBYA\n",
              "AACwK7sd8xs2bMgNN9yQf/mXf8nBBx+cI444Ips3b87vfve7jB07Ntdcc01OPfXUWs4KAAAApBMx\n",
              "f8opp+TCCy/M4sWLc8QRR7S/39bWlgULFuTWW29NS0tLJk+eXJNBAQAAgLftdsw//vjjqaur2+H9\n",
              "Hj165KSTTspJJ52ULVu2dOlwAAAAwI52+wF4Owv597IGAAAA2DO7HfNnnXVWFi5cuNN969atyz/+\n",
              "4z/mtttu67LBAAAAgJ3b7V+zv/766zNt2rQsW7Ysxx9/fPsD8J5//vm8+OKL+drXvpavfOUrtZwV\n",
              "AAAASCdifsSIEfmP//iPvPDCC/n5z3+e1atX5+CDD86XvvSlnHDCCenV6z39K3cAAABAJ3W6wF9/\n",
              "/fV8+ctf7vDec889lxEjRnTZUAAAAMCu7fZ35v/o4osv3q33AAAAgNrY7Tvzr7zyStauXZtNmzbl\n",
              "f/7nf1KtVpMkra2tefPNN2s2IAAAANDRbsf83Llzc+ONN2bNmjVpampqf79Pnz65+uqrazIcAAAA\n",
              "sKPdjvkrrrgiV1xxRb797W9n+vTptZwJAAAAeAedfgDe9OnT09bWlrVr12bbtm3t7zc0NHTpYAAA\n",
              "AMDOdfoBeD/4wQ/St2/fHHfccRkzZkzGjBmTj33sYztde/rpp2fEiBFpbGzMiSeemMWLF+903R13\n",
              "3JGjjjoqRx55ZC699NJs3bp1t/YBAADA/qjTMf93f/d3+cUvfpHXXnstr776al599dW88sorO117\n",
              "991357nnnsuSJUvS3Ny806feL1++PNOnT8+CBQvS0tKSl19+Obfffvu77gMAAID9Vadj/vDDD8/R\n",
              "Rx+9W2v79u3b/ufW1tZUKpUd1txzzz1pamrKgAEDUqlUMmXKlMydO/dd9wEAAMD+qtPfmT/nnHNy\n",
              "44035i//8i9z4IEHtr9fX1+/0/UXXnhh5s+fnyR56KGHdti/atWqDB48uP31kCFDsmrVqnfdtzNb\n",
              "tmzJli1bOry3ffv23TgrAAAAKEen78xfe+21aW5uzoABA3LooYemb9++OfTQQ3e5/s4778wLL7yQ\n",
              "mTNn5pprrtmjYd/NrFmz0qdPnw7bokWLanpMAAAA2Ns6HfNtbW3t2/bt29v/991cdNFFmT9/fl57\n",
              "7bUO7zc0NGTlypXtr1esWNH+ZPx32rcz06ZNS2tra4dt7NixnT1FAAAA2Kd1OuZ317p167JmzZr2\n",
              "1w888EAOO+yw9OvXr8O68847Lw8++GDWrl2barWaW2+9Neeff/677tuZurq61NfXd9h69uxZmxME\n",
              "AACAbtLp78z36NFjpw+y+//vzre2tmbixInZtGlTevTokf79+2fevHmpVCqZNGlSmpqa0tTUlKFD\n",
              "h2bGjBn55Cc/mSQ5+eSTM3ny5CR5x30AAACwv6pUq9VqZ37gzTffbP/zpk2bcuedd2b79u256qqr\n",
              "uny4rtDc3JzZs2d39xgAAADQZTr9a/a9e/du3w4//PA0NzfnnnvuqcVsAAAAwE7s8Xfmn3/++fz+\n",
              "97/vilkAAACA3dDp78wfeuih7d+Z37ZtW5Lkpptu6tqpAAAAgF3qdMwvWbLk//5wr14ZMGCAJ8YD\n",
              "AADAXtTpmB88eHA2btzYHvWHHnpoDj744K6eCwAAANiFTsf8woULc95552XAgAFJkpdffjn33ntv\n",
              "Pv7xj3f5cAAAAMCOOh3zf3x6/R//7feFCxfmyiuvzJNPPtnlwwEAAAA76vTT7Ddt2tQe8knyiU98\n",
              "Ips3b+7SoQAAAIBd63TMf+ADH8gjjzzS/vqnP/1pevfu3aVDAQAAALvW6V+z/6d/+qd89rOfbX+C\n",
              "fVtbW+67774uHwwAAADYuU7H/Jo1a/L000/n5ZdfTpIcccQRWbRoUZcPBgAAAOxcp3/Nfvr06enf\n",
              "v3+OPfbYHHvssTn88MMzffr0WswGAAAA7ESnY/7/V6lUsn379q6YBQAAANgNnY75Qw45JAsXLmx/\n",
              "/fjjj+eQQw7p0qEAAACAXev0d+b/4R/+Ieeee26OOeaYJMlvf/vb3H///V0+GAAAALBznY75j3/8\n",
              "4/nVr36VJ554Isnb/8583759u3ouAAAAYBc6HfNJcuihh2b8+PFdPQsAAACwG/b4AXgAAADA3iXm\n",
              "AQAAoDBiHgAAAAoj5gEAAKAwYh4AAAAKI+YBAACgMGIeAAAACiPmAQAAoDBiHgAAAAoj5gEAAKAw\n",
              "Yh4AAAAKI+YBAACgMGIeAAAACiPmAQAAoDBiHgAAAAoj5gEAAKAwYh4AAAAKI+YBAACgMGIeAAAA\n",
              "CiPmAQAAoDBiHgAAAAoj5gEAAKAwYh4AAAAKI+YBAACgMGIeAAAACiPmAQAAoDBiHgAAAAoj5gEA\n",
              "AKAwYh4AAAAKI+YBAACgMGIeAAAACiPmAQAAoDBiHgAAAAoj5gEAAKAwYh4AAAAKI+YBAACgMGIe\n",
              "AAAACiPmAQAAoDBiHgAAAAoj5gEAAKAwYh4AAAAKI+YBAACgMGIeAAAACiPmAQAAoDBiHgAAAAoj\n",
              "5gEAAKAwYh4AAAAKU7OY37x5c84555wMGzYsI0eOzGmnnZaWlpadrv3ud7+bY489NsOHD8+5556b\n",
              "devWte+rVCo57rjj0tjYmMbGxixYsKBWIwMAAEARanpn/rLLLsuvf/3rLF26NBMmTMikSZN2WPPw\n",
              "ww/n+9//fp544oksW7YsY8aMybXXXtthzYIFC7JkyZIsWbIkJ554Yi1HBgAAgH1ezWL+wAMPzPjx\n",
              "41OpVJIk48aNy4oVK3ZYt3Tp0pxwwgk55JBDkiTjx4/PXXfd9Z6OuWXLlqxfv77Dtn379vd8DgAA\n",
              "ALAv2mvfmZ8zZ04mTJiww/tjxozJI488krVr16ZareZHP/pRNmzYkD/84Q/ta0499dSMHDkyzc3N\n",
              "efPNN3d5jFmzZqVPnz4dtkWLFtXkfAAAAKC77JWYv/7669PS0pJZs2btsO+UU07JN7/5zZx11lkZ\n",
              "N25c+vfvnyTp1atXkmTlypV55plnsnDhwrz66qu56qqrdnmcadOmpbW1tcM2duzY2pwUAAAAdJNe\n",
              "tT7ADTfckPvuuy+PPPJIDj744J2umTp1aqZOnZokefLJJzNo0KDU19cnSRoaGpIkvXv3ztSpU3PZ\n",
              "ZZft8lh1dXWpq6vr8F7Pnj274jQAAABgn1HTO/OzZ8/O3Llz8/DDD6dv3767XPfSSy8lSTZu3Jjr\n",
              "rrsuV199dZLk9ddfz8aNG5MkbW1t+clPfpJRo0bVcmQAAADY59Xszvzq1avzjW98I0OHDs0pp5yS\n",
              "5O0750899VSuu+66DBw4MFOmTEmSnH766Wlra8tbb72VCy64IJdffnmS5Pnnn8/kyZNTqVSybdu2\n",
              "jB49OnPmzKnVyAAAAFCESrVarXb3ELXU3Nyc2bNnd/cYAAAA0GX22tPsAQAAgK4h5gEAAKAwYh4A\n",
              "AAAKI+YBAACgMGIeAAAACiPmAQAAoDBiHgAAAAoj5gEAAKAwYh4AAAAKI+YBAACgMGIeAAAACiPm\n",
              "AQAAoDBiHgAAAAoj5gEAAKAwYh4AAAAKI+YBAACgMGIeAAAACiPmAQAAoDBiHgAAAAoj5gEAAKAw\n",
              "Yh4AAAAKI+YBAACgMGIeAAAACiPmAQAAoDBiHgAAAAoj5gEAAKAwYh4AAAAKI+YBAACgMGIeAAAA\n",
              "CiPmAQAAoDBiHgAAAAoj5gEAAKAwYh4AAAAKI+YBAACgMGIeAAAACiPmAQAAoDBiHgAAAAoj5gEA\n",
              "AKAwYh4AAAAKI+YBAACgMGIeAAAACiPmAQAAoDBiHgAAAAoj5gEAAKAwYh4AAAAKI+YBAACgMGIe\n",
              "AAAACiPmAQAAoDBiHgAAAAoj5gEAAKAwYh4AAAAKI+YBAACgMGIeAAAACiPmAQAAoDBiHgAAAAoj\n",
              "5gEAAKAwYh4AAAAKI+YBAACgMGIeAAAACiPmAQAAoDBiHgAAAAoj5gEAAKAwYh4AAAAKI+YBAACg\n",
              "MDWL+c2bN+ecc87JsGHDMnLkyJx22mlpaWnZ6drvfve7OfbYYzN8+PCce+65WbduXfu+p556KiNH\n",
              "jsywYcPy6U9/Oi+++GKtRgYAAIAi1PTO/GWXXZZf//rXWbp0aSZMmJBJkybtsObhhx/O97///Tzx\n",
              "xBNZtmxZxowZk2uvvTZJ0tbWli996Uu58cYb85vf/Cbjx4/PX/3VX9VyZAAAANjn1SzmDzzwwIwf\n",
              "Pz6VSiVJMm7cuKxYsWKHdUuXLs0JJ5yQQw45JEkyfvz43HXXXUmSZ555Jr169copp5ySJJk8eXL+\n",
              "/d//PZs3b97pMbds2ZL169d32LZv316DswMAAIDus9e+Mz9nzpxMmDBhh/fHjBmTRx55JGvXrk21\n",
              "Ws2PfvSjbNiwIX/4wx+yatWqDB48uH3tIYcckvr6+qxZs2anx5g1a1b69OnTYVu0aFHNzgkAAAC6\n",
              "w16J+euvvz4tLS2ZNWvWDvtOOeWUfPOb38xZZ52VcePGpX///kmSXr16dfo406ZNS2tra4dt7Nix\n",
              "ezw/AAAA7Es6X8yddMMNN+S+++7LI488koMPPnina6ZOnZqpU6cmSZ588skMGjQo9fX1aWhoyMqV\n",
              "K9vXbdiwIa2trRk4cOBOP6euri51dXUd3uvZs2cXnQkAAADsG2p6Z3727NmZO3duHn744fTt23eX\n",
              "61566aUkycaNG3Pdddfl6quvTvL2r+Bv3bo18+fPT5LcdtttOfvss3PggQfWcmwAAADYp9Xszvzq\n",
              "1avzjW98I0OHDm1/gF1dXV2eeuqpXHfddRk4cGCmTJmSJDn99NPT1taWt956KxdccEEuv/zyJEmP\n",
              "Hj3ywx/+MJMnT87mzZszcODA9ofjAQAAwP6qUq1Wq909RC01Nzdn9uzZ3T0GAAAAdJm99jR7AAAA\n",
              "oGuIeQAAACiMmAcAAIDCiHkAAAAojJgHAACAwoh5AAAAKIyYBwAAgMKIeQAAACiMmAcAAIDCiHkA\n",
              "AAAojJgHAACAwoh5AAAAKIyYBwAAgMKIeQAAACiMmAcAAIDCiHkAAAAojJgHAACAwoh5AAAAKIyY\n",
              "BwAAgMKIeQAAACiMmAcAAIDCiHkAAAAojJgHAACAwoh5AAAAKIyYBwAAgMKIeQAAACiMmAcAAIDC\n",
              "iHkAAAAojJgHAACAwoh5AAAAKIyYBwAAgMKIeQAAACiMmAcAAIDCiHkAAAAojJgHAACAwoh5AAAA\n",
              "KIyYBwAAgMKIeQAAACiMmAcAAIDCiHkAAAAojJgHAACAwoh5AAAAKIyYBwAAgMKIeQAAACiMmAcA\n",
              "AIDCiHkAAAAojJgHAACAwoh5AAAAKIyYBwAAgMKIeQAAACiMmAcAAIDCiHkAAAAojJgHAACAwoh5\n",
              "AAAAKIyYBwAAgMKIeQAAACiMmAcAAIDCiHkAAAAojJgHAACAwoh5AAAAKIyYBwAAgMKIeQAAACiM\n",
              "mAcAAIDCiHkAAAAoTM1ifvPmzTnnnHMybNiwjBw5MqeddlpaWlp2uvY73/lOhg8fnsbGxowbNy6L\n",
              "Fi1q31epVHLcccelsbExjY2NWbBgQa1GBgAAgCL0quWHX3bZZTnzzDNTqVTyz//8z5k0aVIeffTR\n",
              "DmuWLFmSm2++Ob/85S/zgQ98ID/84Q9z+eWXdwj6BQsWpG/fvrUcFQAAAIpRszvzBx54YMaPH59K\n",
              "pZIkGTduXFasWLHDukqlkq1bt+bNN99Mkqxbty6DBg16T8fcsmVL1q9f32Hbvn37ez4HAAAA2BfV\n",
              "9M78/2vOnDmZMGHCDu+PHDkyV155ZT784Q+nX79+qaury3//9393WHPqqadm27ZtOfXUU/Ptb387\n",
              "vXv33ukxZs2alRkzZnR4b9y4cV13EgAAALAP2CsPwLv++uvT0tKSWbNm7bBv+fLlue+++9LS0pLV\n",
              "q1fnyiuvzBe+8IX2/StXrswzzzyThQsX5tVXX81VV121y+NMmzYtra2tHbaxY8fW5JwAAACgu9Q8\n",
              "5m+44Ybcd999+c///M8cfPDBO+y/9957c9xxx2XgwIFJkksuuSSPP/543nrrrSRJQ0NDkqR3796Z\n",
              "OnXqOz4Ar66uLvX19R22nj171uCsAAAAoPvUNOZnz56duXPn5uGHH97lA+yGDh2axx9/PG+88UaS\n",
              "ZN68eRk2bFgOOOCAvP7669m4cWOSpK2tLT/5yU8yatSoWo4MAAAA+7yafWd+9erV+cY3vpGhQ4fm\n",
              "lFNOSfL2nfOnnnoq1113XQYOHJgpU6bk3HPPzS9+8Yt87GMfS11dXXr37p0f//jHSZLnn38+kydP\n",
              "TqVSybZt2zJ69OjMmTOnViMDAABAESrVarXa3UPUUnNzc2bPnt3dYwAAAECX2SsPwAMAAAC6jpgH\n",
              "AACAwoh5AAAAKIyYBwAAgMKIeQAAACiMmAcAAIDCiHkAAAAojJgHAACAwoh5AAAAKIyYBwAAgMKI\n",
              "eQAAACiMmAcAAIDCiHkAAAAojJgHAACAwoh5AAAAKIyYBwAAgMJUqtVqtbuHqKXPfvazGTJkSHeP\n",
              "QTfZvn17Fi1alLFjx6Znz57dPQ68I9crJXG9UhLXKyVxvZIkgwcPzhVXXPGOa973Mc/+bf369enT\n",
              "p09aW1tTX1/f3ePAO3K9UhLXKyVxvVIS1yu7y6/ZAwAAQGHEPAAAABRGzAMAAEBhxDzva3V1dfmb\n",
              "v/mb1NXVdfco8K5cr5TE9UpJXK+UxPXK7vIAPAAAACiMO/MAAABQGDEPAAAAhRHzAAAAUBgxT5F+\n",
              "+9vf5hOf+ESGDRuW448/Pr/85S93WNPW1pZvfvObOfbYY3PMMcfkq1/9at566632/atWrcrZZ5+d\n",
              "o48+OsOHD89NN920N0+B/UhXXK/f+c53Mnz48DQ2NmbcuHFZtGjR3jwF9iNf//rXM2TIkFQqlSxZ\n",
              "smSX6+64444cddRROfLII3PppZdm69atu7UPutKeXq8/+9nPMnbs2AwfPjx//ud/nquvvjptbW17\n",
              "aXr2N13x92uSVKvVfPrTn07fvn1rOzD7PDFPkSZPnpzLLrssv/nNb3LNNdfk4osv3mHNHXfckWef\n",
              "fTbPPvtsfvWrX6VHjx6ZM2dOkrf/Ejz33HNz4YUX5te//nWWLVuWz3/+83v5LNhf7On1umTJktx8\n",
              "881ZtGhRlixZkssvvzyXX375Xj4L9hef+9zn8thjj2Xw4MG7XLN8+fJMnz49CxYsSEtLS15++eXc\n",
              "fvvt77oPutqeXq+HHnpo/vVf/zXLli3LM888k4ULF+bOO+/cW+Ozn9nT6/WPvve97+XII4+s9bgU\n",
              "QMxTnFdeeSVPP/10vvzlLydJzjvvvLzwwgtpaWnpsG7p0qX5i7/4ixxwwAGpVCo588wzc9dddyVJ\n",
              "fvrTn6auri4TJ05sX3/EEUfsvZNgv9EV12ulUsnWrVvz5ptvJknWrVuXQYMG7d0TYb/xqU996l2v\n",
              "r3vuuSdNTU0ZMGBAKpVKpkyZkrlz577rPuhqe3q9jho1KkOHDk2SHHjggWlsbMyKFStqPTb7qT29\n",
              "XpPkl7/8ZR544IF861vfqvW4FEDMU5wXXnghf/qnf5pevXoleTt0GhoasmrVqg7rxowZkwcffDDr\n",
              "16/P1q1bc/fdd7f/B3rZsmXp379/zj///IwaNSrnnntu/vd//3dvnwr7ga64XkeOHJkrr7wyH/7w\n",
              "hzNo0KB873vf87UQutWqVas63FkaMmRI+zX9TvugO+zuNbl27drcc889Oeuss/bmeNDBO12vW7du\n",
              "zaWXXprbbrstPXv27K4R2YeIed63Lr744pxxxhk56aSTctJJJ2XYsGHtQbVt27b87Gc/y/Tp07N4\n",
              "8eJ85jOf8Wv2dKt3ul6XL1+e++67Ly0tLVm9enWuvPLKfOELX+jmiQHeP9avX5+zzz47V199dT72\n",
              "sY919ziwUzNmzMhnP/vZfPSjH+3uUdhHiHmK86EPfSgvvfRStm3bluTt77+vWrUqDQ0NHdZVKpX8\n",
              "7d/+bRYvXpyFCxe2P9wmSRoaGjJq1Kj21xdccEGeffZZD2miy3XF9XrvvffmuOOOy8CBA5Mkl1xy\n",
              "SR5//PEOD8iDvamhoSErV65sf71ixYr2a/qd9kF3eLdrcsOGDTnjjDMyYcKENDc3d8eI0O6drtef\n",
              "//znuemmmzJkyJCccMIJWb9+fYYMGZJXX321u8alm4l5ivPBD34wo0ePzg9/+MMkb4fOoEGD8pGP\n",
              "fKTDus2bN+f1119Pkvz+97/P3//93+fqq69Okpx55plZvXp1XnzxxSTJQw89lI9+9KP5kz/5k714\n",
              "JuwPuuJ6HTp0aB5//PG88cYbSZJ58+Zl2LBhOeCAA/bimcD/dd555+XBBx/M2rVrU61Wc+utt+b8\n",
              "889/133QHd7pmnzjjTdyxhln5Iwzzshf//Vfd/Ok8M7X64IFC7Jy5cqsWLEijz32WOrr67NixYr0\n",
              "79+/m6em21ShQM8//3x13Lhx1aOOOqo6ZsyY6nPPPVetVqvVr371q9V/+7d/q1ar1eratWurxxxz\n",
              "THX48OHVY445pnrLLbd0+Iz/+q//qo4cObI6YsSI6oknntj+GdDV9vR6bWtrq37rW9+qHn300dUR\n",
              "I0ZUP/7xj1effvrpbjkX3v8uu+yy6p/92Z9Ve/bsWf3gBz9YPfLII6vVasfrtVqtVm+//fbq0KFD\n",
              "q0OHDq1+5Stfqb711lu7tQ+60p5erzNnzqz26tWrOnLkyPZt5syZ3XIuvP91xd+vf7R8+fJqnz59\n",
              "9tbo7KMq1Wq12t3/hwIAAACw+/yaPQAAABRGzAMAAEBhxDwAAAAURswDALvt61//eoYMGZJKpZIl\n",
              "S5Z09zgAsN8S8wDAbvvc5z6Xxx57LIMHD+7uUQBgv9aruwcAAMrxqU99qrtHAADizjwAAAAUR8wD\n",
              "AABAYcQ8AAAAFEbMAwAAQGHEPACw2yZPnpxBgwZl9erV+cxnPpOPfOQj3T0SAOyXKtVqtdrdQwAA\n",
              "AAC7z515AAAAKIyYBwAAgMKIeQAAACiMmAcAAIDCiHkAAAAojJgHAACAwoh5AAAAKIyYBwAAgMKI\n",
              "eQAAACiMmAcAAIDC/B9iW7bXyO158QAAAABJRU5ErkJggg==\n",
              "\">\n",
              "      </div>\n",
              "      <script type=\"text/javascript\">\n",
              "        (() => {\n",
              "          const chartElement = document.getElementById(\"chart-bcfc591e-8247-4a12-a1af-75954c089cbf\");\n",
              "          async function getCodeForChartHandler(event) {\n",
              "            const chartCodeResponse =  await google.colab.kernel.invokeFunction(\n",
              "                'getCodeForChart', [\"chart-bcfc591e-8247-4a12-a1af-75954c089cbf\"], {});\n",
              "            const responseJson = chartCodeResponse.data['application/json'];\n",
              "            await google.colab.notebook.addCell(responseJson.code, 'code');\n",
              "          }\n",
              "          chartElement.onclick = getCodeForChartHandler;\n",
              "        })();\n",
              "      </script>\n",
              "      <style>\n",
              "        .colab-quickchart-chart-with-code  {\n",
              "            display: block;\n",
              "            float: left;\n",
              "            border: 1px solid transparent;\n",
              "        }\n",
              "\n",
              "        .colab-quickchart-chart-with-code:hover {\n",
              "            cursor: pointer;\n",
              "            border: 1px solid #aaa;\n",
              "        }\n",
              "      </style>"
            ]
          },
          "metadata": {}
        },
        {
          "output_type": "display_data",
          "data": {
            "text/plain": [
              "from matplotlib import pyplot as plt\n",
              "import seaborn as sns\n",
              "def _plot_series(series, series_name, series_index=0):\n",
              "  from matplotlib import pyplot as plt\n",
              "  import seaborn as sns\n",
              "  palette = list(sns.palettes.mpl_palette('Dark2'))\n",
              "  counted = (series[2]\n",
              "                .value_counts()\n",
              "              .reset_index(name='counts')\n",
              "              .rename({'index': 2}, axis=1)\n",
              "              .sort_values(2, ascending=True))\n",
              "  xs = counted[2]\n",
              "  ys = counted['counts']\n",
              "  plt.plot(xs, ys, label=series_name, color=palette[series_index % len(palette)])\n",
              "\n",
              "fig, ax = plt.subplots(figsize=(10, 5.2), layout='constrained')\n",
              "df_sorted = _df_2.sort_values(2, ascending=True)\n",
              "_plot_series(df_sorted, '')\n",
              "sns.despine(fig=fig, ax=ax)\n",
              "plt.xlabel(2)\n",
              "_ = plt.ylabel('count()')"
            ],
            "text/html": [
              "      <div class=\"colab-quickchart-chart-with-code\" id=\"chart-0c027320-a8c4-4542-92a0-81376de2f95a\">\n",
              "        <img style=\"width: 180px;\" src=\"data:image/png;base64,iVBORw0KGgoAAAANSUhEUgAAA/MAAAITCAYAAABLz0yVAAAAOXRFWHRTb2Z0d2FyZQBNYXRwbG90\n",
              "bGliIHZlcnNpb24zLjcuMSwgaHR0cHM6Ly9tYXRwbG90bGliLm9yZy/bCgiHAAAACXBIWXMAAA9h\n",
              "AAAPYQGoP6dpAAAnVElEQVR4nO3df7CWdZ3/8dcNbMcgD0eUZFk6EK5orMIBiqHSVXN1ldGDZpRt\n",
              "+asQGHLW9VQa4+IuGyPb5pJsO2XuOE1asTmKrsu6syNFLUlJKuBOpHVaDoiImcmB5IfAub9/NJ3v\n",
              "93wB5ci5OXzk8Zi5Ju77+pz7el8z1+A8u859UalWq9UAAAAAxejT2wMAAAAA3SPmAQAAoDBiHgAA\n",
              "AAoj5gEAAKAwYh4AAAAKI+YBAACgMGIeAAAACiPmAQAAoDBv+phfuHBhb48AAAAAPepNH/Pr16/v\n",
              "7REAAACgR73pYx4AAADebMQ8AAAAFEbMAwAAQGHEPAAAABRGzAMAAEBhxDwAAAAURswDAABAYcQ8\n",
              "AAAAFEbMAwAAQGHEPAAAABRGzAMAAEBhxDwAAAAURswDAABAYcQ8AAAAFEbMAwAAQGHEPAAAABRG\n",
              "zAMAAEBhahrz559/fsaMGZOmpqaceeaZWbVq1T5r2tracvbZZ2fgwIFpamrqsu/73/9+3vrWt6ap\n",
              "qalz27FjRy1HBgAAgCNev1p++L333puGhoYkyQMPPJCrr746a9as6bKmvr4+8+bNS3t7e26++eZ9\n",
              "PuOUU07J6tWrazkmAAAAFKWmd+Z/H/JJ0t7enkqlss+aQYMG5YwzzsiAAQMO+Xi7du3K1q1bu2x7\n",
              "9+495M8FAACAI0nNvzN/5ZVX5h3veEfmzJmTe+65p9s//8tf/jLjx4/Pe97znnzlK195zbXz58/P\n",
              "wIEDu2wrV658o6MDAADAEanmMX/33Xfn2Wefzbx583LTTTd162fHjx+fjRs35sknn8wDDzyQO+64\n",
              "I/fee+8B18+ePTvt7e1dtokTJx7qKQAAAMAR5bA9zf6qq67KsmXL8tJLLx30z9TX12fgwIFJkmHD\n",
              "huWjH/1oli9ffsD1dXV1qa+v77L17dv3kGcHAACAI0nNYn7Lli3ZtGlT5+sHH3wwxx9/fAYNGnTQ\n",
              "n/H888+no6MjSbJt27YsWbIk48aN6/FZAQAAoCQ1e5p9e3t7pk6dmh07dqRPnz4ZPHhwlixZkkql\n",
              "kmnTpqW5uTnNzc3Zvn17Ro0alV27dqW9vT3Dhg3LFVdckfnz5+f+++/PV7/61fTr1y979uzJ1KlT\n",
              "c80119RqZAAAAChCpVqtVnt7iFpqaWnJggULensMAAAA6DGH7TvzAAAAQM8Q8wAAAFAYMQ8AAACF\n",
              "EfMAAABQGDEPAAAAhRHzAAAAUBgxDwAAAIUR8wAAAFAYMQ8AAACFEfMAAABQGDEPAAAAhRHzAAAA\n",
              "UBgxDwAAAIUR8wAAAFAYMQ8AAACFEfMAAABQGDEPAAAAhRHzAAAAUBgxDwAAAIUR8wAAAFAYMQ8A\n",
              "AACFEfMAAABQGDEPAAAAhRHzAAAAUBgxDwAAAIUR8wAAAFAYMQ8AAACFEfMAAABQGDEPAAAAhRHz\n",
              "AAAAUBgxDwAAAIUR8wAAAFAYMQ8AAACFEfMAAABQGDEPAAAAhRHzAAAAUBgxDwAAAIUR8wAAAFAY\n",
              "MQ8AAACFEfMAAABQGDEPAAAAhRHzAAAAUBgxDwAAAIUR8wAAAFAYMQ8AAACFEfMAAABQGDEPAAAA\n",
              "hRHzAAAAUBgxDwAAAIUR8wAAAFAYMQ8AAACFEfMAAABQGDEPAAAAhRHzAAAAUBgxDwAAAIUR8wAA\n",
              "AFAYMQ8AAACFEfMAAABQGDEPAAAAhRHzAAAAUBgxDwAAAIUR8wAAAFAYMQ8AAACFEfMAAABQmJrG\n",
              "/Pnnn58xY8akqakpZ555ZlatWrXPmra2tpx99tkZOHBgmpqa9tl/11135eSTT85JJ52Ua6+9Nrt3\n",
              "767lyAAAAHDEq2nM33vvvXnqqaeyevXqtLS05Oqrr95nTX19febNm5dvf/vb++xbt25d5syZk+XL\n",
              "l6e1tTUvvPBC7rzzzlqODAAAAEe8msZ8Q0ND55/b29tTqVT2WTNo0KCcccYZGTBgwD777rvvvjQ3\n",
              "N2fIkCGpVCqZOXNmFi1adMDj7dq1K1u3bu2y7d27t0fOBQAAAI4U/Wp9gCuvvDLLli1Lkjz88MPd\n",
              "+tkNGzZk+PDhna9HjBiRDRs2HHD9/PnzM3fu3C7vTZo0qVvHBAAAgCNdzR+Ad/fdd+fZZ5/NvHnz\n",
              "ctNNN9X0WLNnz057e3uXbeLEiTU9JgAAABxuh+1p9ldddVWWLVuWl1566aB/prGxMevXr+983dbW\n",
              "lsbGxgOur6urS319fZetb9++hzQ3AAAAHGlqFvNbtmzJpk2bOl8/+OCDOf744zNo0KCD/ozLLrss\n",
              "Dz30UDZv3pxqtZo77rgjl19+eS3GBQAAgGLU7Dvz7e3tmTp1anbs2JE+ffpk8ODBWbJkSSqVSqZN\n",
              "m5bm5uY0Nzdn+/btGTVqVHbt2pX29vYMGzYsV1xxRebPn5+RI0dm7ty5ef/7358kOfvsszNjxoxa\n",
              "jQwAAABFqFSr1WpvD1FLLS0tWbBgQW+PAQAAAD3msH1nHgAAAOgZYh4AAAAKI+YBAACgMGIeAAAA\n",
              "CiPmAQAAoDBiHgAAAAoj5gEAAKAwYh4AAAAKI+YBAACgMGIeAAAACiPmAQAAoDBiHgAAAAoj5gEA\n",
              "AKAwYh4AAAAKI+YBAACgMGIeAAAACiPmAQAAoDBiHgAAAAoj5gEAAKAwYh4AAAAKI+YBAACgMGIe\n",
              "AAAACiPmAQAAoDBiHgAAAAoj5gEAAKAwYh4AAAAKI+YBAACgMGIeAAAACiPmAQAAoDBiHgAAAAoj\n",
              "5gEAAKAwYh4AAAAKI+YBAACgMGIeAAAACiPmAQAAoDBiHgAAAAoj5gEAAKAwYh4AAAAKI+YBAACg\n",
              "MGIeAAAACiPmAQAAoDBiHgAAAAoj5gEAAKAwYh4AAAAKI+YBAACgMGIeAAAACiPmAQAAoDBiHgAA\n",
              "AAoj5gEAAKAwYh4AAAAKI+YBAACgMGIeAAAACiPmAQAAoDBiHgAAAAoj5gEAAKAwYh4AAAAKI+YB\n",
              "AACgMGIeAAAACiPmAQAAoDBiHgAAAAoj5gEAAKAwYh4AAAAKI+YBAACgMDWN+fPPPz9jxoxJU1NT\n",
              "zjzzzKxatWq/6+66666cfPLJOemkk3Lttddm9+7dSZLvf//7eetb35qmpqbObceOHbUcGQAAAI54\n",
              "/Wr54ffee28aGhqSJA888ECuvvrqrFmzpsuadevWZc6cOXnyySdz4oknZsqUKbnzzjvzqU99Kkly\n",
              "yimnZPXq1bUcEwAAAIpS0zvzvw/5JGlvb0+lUtlnzX333Zfm5uYMGTIklUolM2fOzKJFi2o5FgAA\n",
              "ABStpnfmk+TKK6/MsmXLkiQPP/zwPvs3bNiQ4cOHd74eMWJENmzY0Pn6l7/8ZcaPH5++ffvmmmuu\n",
              "yaxZsw54rF27dmXXrl1d3tu7d++hngIAAAAcUWoe83fffXeS5Bvf+EZuuumm/Qb9gYwfPz4bN27M\n",
              "wIEDs3HjxkyePDknnHBCPvzhD+93/fz58zN37twu702aNOmNDw8AAABHoMP2NPurrroqy5Yty0sv\n",
              "vdTl/cbGxqxfv77zdVtbWxobG5Mk9fX1GThwYJJk2LBh+ehHP5rly5cf8BizZ89Oe3t7l23ixIk1\n",
              "OBsAAADoPTWL+S1btmTTpk2drx988MEcf/zxGTRoUJd1l112WR566KFs3rw51Wo1d9xxRy6//PIk\n",
              "yfPPP5+Ojo4kybZt27JkyZKMGzfugMesq6tLfX19l61v3741ODsAAADoPTX7Nfv29vZMnTo1O3bs\n",
              "SJ8+fTJ48OAsWbIklUol06ZNS3Nzc5qbmzNy5MjMnTs373//+5MkZ599dmbMmJEkuf/++/PVr341\n",
              "/fr1y549ezJ16tRcc801tRoZAAAAilCpVqvV3h6illpaWrJgwYLeHgMAAAB6zGH7zjwAAADQM8Q8\n",
              "AAAAFEbMAwAAQGHEPAAAABRGzAMAAEBhxDwAAAAURswDAABAYcQ8AAAAFEbMAwAAQGHEPAAAABRG\n",
              "zAMAAEBhxDwAAAAURswDAABAYcQ8AAAAFEbMAwAAQGHEPAAAABRGzAMAAEBhxDwAAAAURswDAABA\n",
              "YcQ8AAAAFEbMAwAAQGHEPAAAABRGzAMAAEBhxDwAAAAURswDAABAYcQ8AAAAFEbMAwAAQGHEPAAA\n",
              "ABRGzAMAAEBhxDwAAAAURswDAABAYcQ8AAAAFEbMAwAAQGHEPAAAABRGzAMAAEBhxDwAAAAURswD\n",
              "AABAYcQ8AAAAFEbMAwAAQGHEPAAAABRGzAMAAEBhxDwAAAAURswDAABAYcQ8AAAAFEbMAwAAQGHE\n",
              "PAAAABRGzAMAAEBhxDwAAAAURswDAABAYcQ8AAAAFKbfG/mhtWvXZuPGjXnrW9+a008/PQ0NDT08\n",
              "FgAAAHAgBx3z27Zty2233ZZ/+Zd/Sf/+/XPiiSdm586d+eUvf5mJEyfmpptuyrnnnlvLWQEAAIB0\n",
              "I+bPOeecXHnllVm1alVOPPHEzvc7OjqyfPny3HHHHWltbc2MGTNqMigAAADwOwcd848++mjq6ur2\n",
              "eb9Pnz4566yzctZZZ2XXrl09OhwAAACwr4N+AN7+Qv6NrAEAAAAOzUHH/EUXXZQVK1bsd9+WLVvy\n",
              "j//4j/na177WY4MBAAAA+3fQv2Z/6623Zvbs2Vm7dm3e8573dD4A7+mnn85zzz2XT33qU/nEJz5R\n",
              "y1kBAACAdCPmx4wZk//4j//Is88+mx/84AfZuHFj+vfvn4997GM544wz0q/fG/pX7gAAAIBu6naB\n",
              "v/zyy/n4xz/e5b2nnnoqY8aM6bGhAAAAgAM76O/M/97VV199UO8BAAAAtXHQd+Z/9atfZfPmzdmx\n",
              "Y0f+53/+J9VqNUnS3t6eV155pWYDAgAAAF0ddMwvWrQot99+ezZt2pTm5ubO9wcOHJgbb7yxJsMB\n",
              "AAAA+zromL/++utz/fXX5/Of/3zmzJlTy5kAAACA19DtB+DNmTMnHR0d2bx5c/bs2dP5fmNjY48O\n",
              "BgAAAOxftx+A941vfCMNDQ05/fTTM2HChEyYMCHvfve797v2/PPPz5gxY9LU1JQzzzwzq1at2u+6\n",
              "u+66KyeffHJOOumkXHvttdm9e/dB7QMAAICjUbdj/u/+7u/yk5/8JC+99FJefPHFvPjii/nVr361\n",
              "37X33ntvnnrqqaxevTotLS37fer9unXrMmfOnCxfvjytra154YUXcuedd77uPgAAADhadTvmTzjh\n",
              "hJxyyikHtbahoaHzz+3t7alUKvusue+++9Lc3JwhQ4akUqlk5syZWbRo0evuAwAAgKNVt78zf8kl\n",
              "l+T222/PX/zFX+SYY47pfL++vn6/66+88sosW7YsSfLwww/vs3/Dhg0ZPnx45+sRI0Zkw4YNr7tv\n",
              "f3bt2pVdu3Z1eW/v3r0HcVYAAABQjm7fmb/55pvT0tKSIUOG5LjjjktDQ0OOO+64A66/++678+yz\n",
              "z2bevHm56aabDmnY1zN//vwMHDiwy7Zy5cqaHhMAAAAOt27HfEdHR+e2d+/ezv99PVdddVWWLVuW\n",
              "l156qcv7jY2NWb9+fefrtra2zifjv9a+/Zk9e3ba29u7bBMnTuzuKQIAAMARrdsxf7C2bNmSTZs2\n",
              "db5+8MEHc/zxx2fQoEFd1l122WV56KGHsnnz5lSr1dxxxx25/PLLX3ff/tTV1aW+vr7L1rdv39qc\n",
              "IAAAAPSSbn9nvk+fPvt9kN3/f3e+vb09U6dOzY4dO9KnT58MHjw4S5YsSaVSybRp09Lc3Jzm5uaM\n",
              "HDkyc+fOzfvf//4kydlnn50ZM2YkyWvuAwAAgKNVpVqtVrvzA6+88krnn3fs2JG77747e/fuzWc/\n",
              "+9keH64ntLS0ZMGCBb09BgAAAPSYbv+a/YABAzq3E044IS0tLbnvvvtqMRsAAACwH4f8nfmnn346\n",
              "v/71r3tiFgAAAOAgdPs788cdd1znd+b37NmTJPnyl7/cs1MBAAAAB9TtmF+9evX//eF+/TJkyBBP\n",
              "jAcAAIDDqNsxP3z48Gzfvr0z6o877rj079+/p+cCAAAADqDbMb9ixYpcdtllGTJkSJLkhRdeyP33\n",
              "35/3vve9PT4cAAAAsK9ux/zvn17/+3/7fcWKFbnhhhvy4x//uMeHAwAAAPbV7afZ79ixozPkk+R9\n",
              "73tfdu7c2aNDAQAAAAfW7Zh/29velqVLl3a+/u53v5sBAwb06FAAAADAgXX71+z/6Z/+KR/84Ac7\n",
              "n2Df0dGRxYsX9/hgAAAAwP51O+Y3bdqUxx9/PC+88EKS5MQTT8zKlSt7fDAAAABg/7r9a/Zz5szJ\n",
              "4MGDc9ppp+W0007LCSeckDlz5tRiNgAAAGA/uh3z/79KpZK9e/f2xCwAAADAQeh2zB977LFZsWJF\n",
              "5+tHH300xx57bI8OBQAAABxYt78z/w//8A+59NJLc+qppyZJfvGLX+SBBx7o8cEAAACA/et2zL/3\n",
              "ve/Nz372s/zoRz9K8rt/Z76hoaGn5wIAAAAOoNsxnyTHHXdcJk+e3NOzAAAAAAfhkB+ABwAAABxe\n",
              "Yh4AAAAKI+YBAACgMGIeAAAACiPmAQAAoDBiHgAAAAoj5gEAAKAwYh4AAAAKI+YBAACgMGIeAAAA\n",
              "CiPmAQAAoDBiHgAAAAoj5gEAAKAwYh4AAAAKI+YBAACgMGIeAAAACiPmAQAAoDBiHgAAAAoj5gEA\n",
              "AKAwYh4AAAAKI+YBAACgMGIeAAAACiPmAQAAoDBiHgAAAAoj5gEAAKAwYh4AAAAKI+YBAACgMGIe\n",
              "AAAACiPmAQAAoDBiHgAAAAoj5gEAAKAwYh4AAAAKI+YBAACgMGIeAAAACiPmAQAAoDBiHgAAAAoj\n",
              "5gEAAKAwYh4AAAAKI+YBAACgMGIeAAAACiPmAQAAoDBiHgAAAAoj5gEAAKAwYh4AAAAKI+YBAACg\n",
              "MGIeAAAACiPmAQAAoDA1i/mdO3fmkksuyahRozJ27Nicd955aW1t3e/aL37xiznttNMyevToXHrp\n",
              "pdmyZUvnvkqlktNPPz1NTU1pamrK8uXLazUyAAAAFKGmd+anT5+eZ555JmvWrMmUKVMybdq0fdY8\n",
              "8sgj+frXv54f/ehHWbt2bSZMmJCbb765y5rly5dn9erVWb16dc4888xajgwAAABHvJrF/DHHHJPJ\n",
              "kyenUqkkSSZNmpS2trZ91q1ZsyZnnHFGjj322CTJ5MmTc88997yhY+7atStbt27tsu3du/cNnwMA\n",
              "AAAciQ7bd+YXLlyYKVOm7PP+hAkTsnTp0mzevDnVajXf+ta3sm3btvzmN7/pXHPuuedm7NixaWlp\n",
              "ySuvvHLAY8yfPz8DBw7ssq1cubIm5wMAAAC95bDE/K233prW1tbMnz9/n33nnHNOPvOZz+Siiy7K\n",
              "pEmTMnjw4CRJv379kiTr16/PE088kRUrVuTFF1/MZz/72QMeZ/bs2Wlvb++yTZw4sTYnBQAAAL2k\n",
              "X60PcNttt2Xx4sVZunRp+vfvv981s2bNyqxZs5IkP/7xjzNs2LDU19cnSRobG5MkAwYMyKxZszJ9\n",
              "+vQDHquuri51dXVd3uvbt29PnAYAAAAcMWp6Z37BggVZtGhRHnnkkTQ0NBxw3fPPP58k2b59e265\n",
              "5ZbceOONSZKXX34527dvT5J0dHTkO9/5TsaNG1fLkQEAAOCIV7M78xs3bsynP/3pjBw5Muecc06S\n",
              "3905f+yxx3LLLbdk6NChmTlzZpLk/PPPT0dHR1599dVcccUVue6665IkTz/9dGbMmJFKpZI9e/Zk\n",
              "/PjxWbhwYa1GBgAAgCJUqtVqtbeHqKWWlpYsWLCgt8cAAACAHnPYnmYPAAAA9AwxDwAAAIUR8wAA\n",
              "AFAYMQ8AAACFEfMAAABQGDEPAAAAhRHzAAAAUBgxDwAAAIUR8wAAAFAYMQ8AAACFEfMAAABQGDEP\n",
              "AAAAhRHzAAAAUBgxDwAAAIUR8wAAAFAYMQ8AAACFEfMAAABQGDEPAAAAhRHzAAAAUBgxDwAAAIUR\n",
              "8wAAAFAYMQ8AAACFEfMAAABQGDEPAAAAhRHzAAAAUBgxDwAAAIUR8wAAAFAYMQ8AAACFEfMAAABQ\n",
              "GDEPAAAAhRHzAAAAUBgxDwAAAIUR8wAAAFAYMQ8AAACFEfMAAABQGDEPAAAAhRHzAAAAUBgxDwAA\n",
              "AIUR8wAAAFAYMQ8AAACFEfMAAABQGDEPAAAAhRHzAAAAUBgxDwAAAIUR8wAAAFAYMQ8AAACFEfMA\n",
              "AABQGDEPAAAAhRHzAAAAUBgxDwAAAIUR8wAAAFAYMQ8AAACFEfMAAABQGDEPAAAAhRHzAAAAUBgx\n",
              "DwAAAIUR8wAAAFAYMQ8AAACFEfMAAABQGDEPAAAAhRHzAAAAUBgxDwAAAIUR8wAAAFAYMQ8AAACF\n",
              "qVnM79y5M5dccklGjRqVsWPH5rzzzktra+t+137xi1/MaaedltGjR+fSSy/Nli1bOvc99thjGTt2\n",
              "bEaNGpUPfOADee6552o1MgAAABShpnfmp0+fnmeeeSZr1qzJlClTMm3atH3WPPLII/n617+eH/3o\n",
              "R1m7dm0mTJiQm2++OUnS0dGRj33sY7n99tvz85//PJMnT85f/dVf1XJkAAAAOOLVLOaPOeaYTJ48\n",
              "OZVKJUkyadKktLW17bNuzZo1OeOMM3LssccmSSZPnpx77rknSfLEE0+kX79+Oeecc5IkM2bMyL//\n",
              "+79n586d+z3mrl27snXr1i7b3r17a3B2AAAA0HsO23fmFy5cmClTpuzz/oQJE7J06dJs3rw51Wo1\n",
              "3/rWt7Jt27b85je/yYYNGzJ8+PDOtccee2zq6+uzadOm/R5j/vz5GThwYJdt5cqVNTsnAAAA6A2H\n",
              "JeZvvfXWtLa2Zv78+fvsO+ecc/KZz3wmF110USZNmpTBgwcnSfr169ft48yePTvt7e1dtokTJx7y\n",
              "/AAAAHAk6X4xd9Ntt92WxYsXZ+nSpenfv/9+18yaNSuzZs1Kkvz4xz/OsGHDUl9fn8bGxqxfv75z\n",
              "3bZt29Le3p6hQ4fu93Pq6upSV1fX5b2+ffv20JkAAADAkaGmd+YXLFiQRYsW5ZFHHklDQ8MB1z3/\n",
              "/PNJku3bt+eWW27JjTfemOR3v4K/e/fuLFu2LEnyta99LRdffHGOOeaYWo4NAAAAR7Sa3ZnfuHFj\n",
              "Pv3pT2fkyJGdD7Crq6vLY489lltuuSVDhw7NzJkzkyTnn39+Ojo68uqrr+aKK67IddddlyTp06dP\n",
              "vvnNb2bGjBnZuXNnhg4d2vlwPAAAADhaVarVarW3h6illpaWLFiwoLfHAAAAgB5z2J5mDwAAAPQM\n",
              "MQ8AAACFEfMAAABQGDEPAAAAhRHzAAAAUBgxDwAAAIUR8wAAAFAYMQ8AAACFEfMAAABQGDEPAAAA\n",
              "hRHzAAAAUBgxDwAAAIUR8wAAAFAYMQ8AAACFEfMAAABQGDEPAAAAhRHzAAAAUBgxDwAAAIUR8wAA\n",
              "AFAYMQ8AAACFEfMAAABQGDEPAAAAhRHzAAAAUBgxDwAAAIUR8wAAAFAYMQ8AAACFEfMAAABQGDEP\n",
              "AAAAhRHzAAAAUBgxDwAAAIUR8wAAAFAYMQ8AAACFEfMAAABQGDEPAAAAhRHzAAAAUBgxDwAAAIUR\n",
              "8wAAAFAYMQ8AAACFEfMAAABQGDEPAAAAhRHzAAAAUBgxDwAAAIUR8wAAAFAYMQ8AAACFEfMAAABQ\n",
              "GDEPAAAAhRHzAAAAUBgxDwAAAIUR8wAAAFAYMQ8AAACFEfMAAABQGDEPAAAAhRHzAAAAUBgxDwAA\n",
              "AIUR8wAAAFAYMQ8AAACFEfMAAABQGDEPAAAAhRHzAAAAUBgxDwAAAIUR8wAAAFAYMQ8AAACFEfMA\n",
              "AABQGDEPAAAAhalZzO/cuTOXXHJJRo0albFjx+a8885La2vrftd+4QtfyOjRo9PU1JRJkyZl5cqV\n",
              "nfsqlUpOP/30NDU1pampKcuXL6/VyAAAAFCEfrX88OnTp+fCCy9MpVLJP//zP2fatGn5/ve/32XN\n",
              "6tWr85WvfCU//elP87a3vS3f/OY3c91113UJ+uXLl6ehoaGWowIAAEAxanZn/phjjsnkyZNTqVSS\n",
              "JJMmTUpbW9s+6yqVSnbv3p1XXnklSbJly5YMGzbsDR1z165d2bp1a5dt7969b/gcAAAA4EhU0zvz\n",
              "/6+FCxdmypQp+7w/duzY3HDDDXnnO9+ZQYMGpa6uLv/93//dZc25556bPXv25Nxzz83nP//5DBgw\n",
              "YL/HmD9/fubOndvlvUmTJvXcSQAAAMAR4LA8AO/WW29Na2tr5s+fv8++devWZfHixWltbc3GjRtz\n",
              "ww035CMf+Ujn/vXr1+eJJ57IihUr8uKLL+azn/3sAY8ze/bstLe3d9kmTpxYk3MCAACA3lLzmL/t\n",
              "ttuyePHi/Od//mf69++/z/77778/p59+eoYOHZokueaaa/Loo4/m1VdfTZI0NjYmSQYMGJBZs2a9\n",
              "5gPw6urqUl9f32Xr27dvDc4KAAAAek9NY37BggVZtGhRHnnkkQM+wG7kyJF59NFH89vf/jZJsmTJ\n",
              "kowaNSpvectb8vLLL2f79u1Jko6OjnznO9/JuHHjajkyAAAAHPFq9p35jRs35tOf/nRGjhyZc845\n",
              "J8nv7pw/9thjueWWWzJ06NDMnDkzl156aX7yk5/k3e9+d+rq6jJgwIB8+9vfTpI8/fTTmTFjRiqV\n",
              "Svbs2ZPx48dn4cKFtRoZAAAAilCpVqvV3h6illpaWrJgwYLeHgMAAAB6zGF5AB4AAADQc8Q8AAAA\n",
              "FEbMAwAAQGHEPAAAABRGzAMAAEBhxDwAAAAURswDAABAYcQ8AAAAFEbMAwAAQGHEPAAAABRGzAMA\n",
              "AEBhxDwAAAAURswDAABAYcQ8AAAAFEbMAwAAQGHEPAAAABSmUq1Wq709RC198IMfzIgRI3p7DHrJ\n",
              "3r17s3LlykycODF9+/bt7XHgNbleKYnrlZK4XimJ65UkGT58eK6//vrXXPOmj3mOblu3bs3AgQPT\n",
              "3t6e+vr63h4HXpPrlZK4XimJ65WSuF45WH7NHgAAAAoj5gEAAKAwYh4AAAAKI+Z5U6urq8vf/M3f\n",
              "pK6urrdHgdfleqUkrldK4nqlJK5XDpYH4AEAAEBh3JkHAACAwoh5AAAAKIyYBwAAgMKIeYr0i1/8\n",
              "Iu973/syatSovOc978lPf/rTfdZ0dHTkM5/5TE477bSceuqp+eQnP5lXX321c/+GDRty8cUX55RT\n",
              "Tsno0aPz5S9/+XCeAkeRnrhev/CFL2T06NFpamrKpEmTsnLlysN5ChxF/vIv/zIjRoxIpVLJ6tWr\n",
              "D7jurrvuysknn5yTTjop1157bXbv3n1Q+6AnHer1+r3vfS8TJ07M6NGj8yd/8ie58cYb09HRcZim\n",
              "52jTE3+/Jkm1Ws0HPvCBNDQ01HZgjnhiniLNmDEj06dPz89//vPcdNNNufrqq/dZc9ddd+XJJ5/M\n",
              "k08+mZ/97Gfp06dPFi5cmOR3fwleeumlufLKK/PMM89k7dq1+fCHP3yYz4KjxaFer6tXr85XvvKV\n",
              "rFy5MqtXr851112X66677jCfBUeLD33oQ/nhD3+Y4cOHH3DNunXrMmfOnCxfvjytra154YUXcued\n",
              "d77uPuhph3q9HnfccfnXf/3XrF27Nk888URWrFiRu++++3CNz1HmUK/X3/vSl76Uk046qdbjUgAx\n",
              "T3F+9atf5fHHH8/HP/7xJMlll12WZ599Nq2trV3WrVmzJn/2Z3+Wt7zlLalUKrnwwgtzzz33JEm+\n",
              "+93vpq6uLlOnTu1cf+KJJx6+k+Co0RPXa6VSye7du/PKK68kSbZs2ZJhw4Yd3hPhqPGnf/qnr3t9\n",
              "3XfffWlubs6QIUNSqVQyc+bMLFq06HX3QU871Ot13LhxGTlyZJLkmGOOSVNTU9ra2mo9NkepQ71e\n",
              "k+SnP/1pHnzwwXzuc5+r9bgUQMxTnGeffTZ/+Id/mH79+iX5Xeg0NjZmw4YNXdZNmDAhDz30ULZu\n",
              "3Zrdu3fn3nvv7fwP9Nq1azN48OBcfvnlGTduXC699NL87//+7+E+FY4CPXG9jh07NjfccEPe+c53\n",
              "ZtiwYfnSl77kayH0qg0bNnS5szRixIjOa/q19kFvONhrcvPmzbnvvvty0UUXHc7xoIvXul53796d\n",
              "a6+9Nl/72tfSt2/f3hqRI4iY503r6quvzgUXXJCzzjorZ511VkaNGtUZVHv27Mn3vve9zJkzJ6tW\n",
              "rcqf//mf+zV7etVrXa/r1q3L4sWL09ramo0bN+aGG27IRz7ykV6eGODNY+vWrbn44otz44035t3v\n",
              "fndvjwP7NXfu3Hzwgx/Mu971rt4ehSOEmKc473jHO/L8889nz549SX73/fcNGzaksbGxy7pKpZK/\n",
              "/du/zapVq7JixYrOh9skSWNjY8aNG9f5+oorrsiTTz7pIU30uJ64Xu+///6cfvrpGTp0aJLkmmuu\n",
              "yaOPPtrlAXlwODU2Nmb9+vWdr9va2jqv6dfaB73h9a7Jbdu25YILLsiUKVPS0tLSGyNCp9e6Xn/w\n",
              "gx/ky1/+ckaMGJEzzjgjW7duzYgRI/Liiy/21rj0MjFPcd7+9rdn/Pjx+eY3v5nkd6EzbNiw/PEf\n",
              "/3GXdTt37szLL7+cJPn1r3+dv//7v8+NN96YJLnwwguzcePGPPfcc0mShx9+OO9617vyB3/wB4fx\n",
              "TDga9MT1OnLkyDz66KP57W9/myRZsmRJRo0albe85S2H8Uzg/7rsssvy0EMPZfPmzalWq7njjjty\n",
              "+eWXv+4+6A2vdU3+9re/zQUXXJALLrggf/3Xf93Lk8JrX6/Lly/P+vXr09bWlh/+8Iepr69PW1tb\n",
              "Bg8e3MtT02uqUKCnn366OmnSpOrJJ59cnTBhQvWpp56qVqvV6ic/+cnqv/3bv1Wr1Wp18+bN1VNP\n",
              "PbU6evTo6qmnnlr96le/2uUz/uu//qs6duzY6pgxY6pnnnlm52dATzvU67Wjo6P6uc99rnrKKadU\n",
              "x4wZU33ve99bffzxx3vlXHjzmz59evWP/uiPqn379q2+/e1vr5500knVarXr9VqtVqt33nlndeTI\n",
              "kdWRI0dWP/GJT1RfffXVg9oHPelQr9d58+ZV+/XrVx07dmznNm/evF45F978euLv199bt25ddeDA\n",
              "gYdrdI5QlWq1Wu3t/0MBAAAAOHh+zR4AAAAKI+YBAACgMGIeAAAACiPmAYCDtnPnzlxyySUZNWpU\n",
              "xo4dm/POOy+tra29PRYAHHXEPADQLdOnT88zzzyTNWvWZMqUKZk2bVpvjwQARx1PswcA3rDHH388\n",
              "H/rQh9LW1tbbowDAUcWdeQDgDVu4cGGmTJnS22MAwFGnX28PAACU6dZbb01ra2u++93v9vYoAHDU\n",
              "EfMAQLfddtttWbx4cZYuXZr+/fv39jgAcNQR8wBAtyxYsCCLFi3K0qVL09DQ0NvjAMBRyQPwAICD\n",
              "tnHjxrzjHe/IyJEjc+yxxyZJ6urq8thjj/XyZABwdBHzAAAAUBhPswcAAIDCiHkAAAAojJgHAACA\n",
              "woh5AAAAKIyYBwAAgMKIeQAAACiMmAcAAIDCiHkAAAAojJgHAACAwoh5AAAAKMz/AVmf4mIzCcBt\n",
              "AAAAAElFTkSuQmCC\n",
              "\">\n",
              "      </div>\n",
              "      <script type=\"text/javascript\">\n",
              "        (() => {\n",
              "          const chartElement = document.getElementById(\"chart-0c027320-a8c4-4542-92a0-81376de2f95a\");\n",
              "          async function getCodeForChartHandler(event) {\n",
              "            const chartCodeResponse =  await google.colab.kernel.invokeFunction(\n",
              "                'getCodeForChart', [\"chart-0c027320-a8c4-4542-92a0-81376de2f95a\"], {});\n",
              "            const responseJson = chartCodeResponse.data['application/json'];\n",
              "            await google.colab.notebook.addCell(responseJson.code, 'code');\n",
              "          }\n",
              "          chartElement.onclick = getCodeForChartHandler;\n",
              "        })();\n",
              "      </script>\n",
              "      <style>\n",
              "        .colab-quickchart-chart-with-code  {\n",
              "            display: block;\n",
              "            float: left;\n",
              "            border: 1px solid transparent;\n",
              "        }\n",
              "\n",
              "        .colab-quickchart-chart-with-code:hover {\n",
              "            cursor: pointer;\n",
              "            border: 1px solid #aaa;\n",
              "        }\n",
              "      </style>"
            ]
          },
          "metadata": {}
        },
        {
          "output_type": "display_data",
          "data": {
            "text/plain": [
              "from matplotlib import pyplot as plt\n",
              "import seaborn as sns\n",
              "def _plot_series(series, series_name, series_index=0):\n",
              "  from matplotlib import pyplot as plt\n",
              "  import seaborn as sns\n",
              "  palette = list(sns.palettes.mpl_palette('Dark2'))\n",
              "  counted = (series[3]\n",
              "                .value_counts()\n",
              "              .reset_index(name='counts')\n",
              "              .rename({'index': 3}, axis=1)\n",
              "              .sort_values(3, ascending=True))\n",
              "  xs = counted[3]\n",
              "  ys = counted['counts']\n",
              "  plt.plot(xs, ys, label=series_name, color=palette[series_index % len(palette)])\n",
              "\n",
              "fig, ax = plt.subplots(figsize=(10, 5.2), layout='constrained')\n",
              "df_sorted = _df_3.sort_values(3, ascending=True)\n",
              "_plot_series(df_sorted, '')\n",
              "sns.despine(fig=fig, ax=ax)\n",
              "plt.xlabel(3)\n",
              "_ = plt.ylabel('count()')"
            ],
            "text/html": [
              "      <div class=\"colab-quickchart-chart-with-code\" id=\"chart-e6c67a5b-a805-4227-8e51-21bde4940959\">\n",
              "        <img style=\"width: 180px;\" src=\"data:image/png;base64,iVBORw0KGgoAAAANSUhEUgAAA/MAAAITCAYAAABLz0yVAAAAOXRFWHRTb2Z0d2FyZQBNYXRwbG90\n",
              "bGliIHZlcnNpb24zLjcuMSwgaHR0cHM6Ly9tYXRwbG90bGliLm9yZy/bCgiHAAAACXBIWXMAAA9h\n",
              "AAAPYQGoP6dpAAAnWUlEQVR4nO3df5BV9X3/8dcF6qrEZUWJlJKFYEVDFRZIGIxaNTbUMLr4oySm\n",
              "iagJCkOcWjeJhrHY0DDSNJaE2DHGjpOJmlAdf9VSOx1NMCViJFHATohJNuWHiBhjZCHyQ2Dv9w8n\n",
              "2+8WUFb2snzk8Zg5E+49n93zPjNncJ659xwq1Wq1GgAAAKAYvXp6AAAAAKBrxDwAAAAURswDAABA\n",
              "YcQ8AAAAFEbMAwAAQGHEPAAAABRGzAMAAEBhxDwAAAAU5h0f8/Pnz+/pEQAAAKBbveNjfs2aNT09\n",
              "AgAAAHSrd3zMAwAAwDuNmAcAAIDCiHkAAAAojJgHAACAwoh5AAAAKIyYBwAAgMKIeQAAACiMmAcA\n",
              "AIDCiHkAAAAojJgHAACAwoh5AAAAKIyYBwAAgMKIeQAAACiMmAcAAIDCiHkAAAAojJgHAACAwoh5\n",
              "AAAAKExNY37ChAkZOXJkmpqacsYZZ2TZsmW7rVm9enXOOuus9OvXL01NTZ32Pf744zniiCPS1NTU\n",
              "sW3durWWIwMAAMBBr08tf/m9996bhoaGJMmDDz6Yyy+/PCtWrOi0pr6+PnPmzElbW1tuuOGG3X7H\n",
              "iSeemOXLl9dyTAAAAChKTT+Z/33IJ0lbW1sqlcpua/r375/TTz89ffv23e/jbd++PZs2beq07dq1\n",
              "a79/LwAAABxMan7P/JQpU/Ke97wns2bNyl133dXln//Vr36VMWPG5AMf+EBuvfXWN107d+7c9OvX\n",
              "r9O2dOnStzs6AAAAHJRqHvN33nlnnn/++cyZMyfXX399l352zJgxWbduXZ555pk8+OCDue2223Lv\n",
              "vffudf3MmTPT1tbWaRs3btz+ngIAAAAcVA7Y0+wvu+yyLFq0KK+88so+/0x9fX369euXJBk8eHA+\n",
              "/vGPZ/HixXtdX1dXl/r6+k5b796993t2AAAAOJjULOY3btyY9evXd7x+6KGHcswxx6R///77/Dte\n",
              "fPHFtLe3J0k2b96chQsXZvTo0d0+KwAAAJSkZk+zb2try+TJk7N169b06tUrAwYMyMKFC1OpVDJ1\n",
              "6tQ0Nzenubk5W7ZsyfDhw7N9+/a0tbVl8ODBufTSSzN37tzcf//9+cY3vpE+ffpk586dmTx5cq64\n",
              "4opajQwAAABFqFSr1WpPD1FLLS0tmTdvXk+PAQAAAN3mgN0zDwAAAHQPMQ8AAACFEfMAAABQGDEP\n",
              "AAAAhRHzAAAAUBgxDwAAAIUR8wAAAFAYMQ8AAACFEfMAAABQGDEPAAAAhRHzAAAAUBgxDwAAAIUR\n",
              "8wAAAFAYMQ8AAACFEfMAAABQGDEPAAAAhRHzAAAAUBgxDwAAAIUR8wAAAFAYMQ8AAACFEfMAAABQ\n",
              "GDEPAAAAhRHzAAAAUBgxDwAAAIUR8wAAAFAYMQ8AAACFEfMAAABQGDEPAAAAhRHzAAAAUBgxDwAA\n",
              "AIUR8wAAAFAYMQ8AAACFEfMAAABQGDEPAAAAhRHzAAAAUBgxDwAAAIUR8wAAAFAYMQ8AAACFEfMA\n",
              "AABQGDEPAAAAhRHzAAAAUBgxDwAAAIUR8wAAAFAYMQ8AAACFEfMAAABQGDEPAAAAhRHzAAAAUBgx\n",
              "DwAAAIUR8wAAAFAYMQ8AAACFEfMAAABQGDEPAAAAhRHzAAAAUBgxDwAAAIUR8wAAAFAYMQ8AAACF\n",
              "EfMAAABQGDEPAAAAhRHzAAAAUBgxDwAAAIUR8wAAAFAYMQ8AAACFEfMAAABQGDEPAAAAhalpzE+Y\n",
              "MCEjR45MU1NTzjjjjCxbtmy3NatXr85ZZ52Vfv36pampabf9d9xxR0444YQcf/zxufLKK7Njx45a\n",
              "jgwAAAAHvZrG/L333ptnn302y5cvT0tLSy6//PLd1tTX12fOnDn57ne/u9u+VatWZdasWVm8eHFa\n",
              "W1vz0ksv5fbbb6/lyAAAAHDQq2nMNzQ0dPy5ra0tlUpltzX9+/fP6aefnr59++6277777ktzc3MG\n",
              "DhyYSqWS6dOnZ8GCBXs93vbt27Np06ZO265du7rlXAAAAOBg0afWB5gyZUoWLVqUJHnkkUe69LNr\n",
              "167NkCFDOl4PHTo0a9eu3ev6uXPnZvbs2Z3eGz9+fJeOCQAAAAe7mj8A784778zzzz+fOXPm5Prr\n",
              "r6/psWbOnJm2trZO27hx42p6TAAAADjQDtjT7C+77LIsWrQor7zyyj7/TGNjY9asWdPxevXq1Wls\n",
              "bNzr+rq6utTX13faevfuvV9zAwAAwMGmZjG/cePGrF+/vuP1Qw89lGOOOSb9+/ff599x8cUX5+GH\n",
              "H86GDRtSrVZz22235ZJLLqnFuAAAAFCMmt0z39bWlsmTJ2fr1q3p1atXBgwYkIULF6ZSqWTq1Klp\n",
              "bm5Oc3NztmzZkuHDh2f79u1pa2vL4MGDc+mll2bu3LkZNmxYZs+endNOOy1JctZZZ2XatGm1GhkA\n",
              "AACKUKlWq9WeHqKWWlpaMm/evJ4eAwAAALrNAbtnHgAAAOgeYh4AAAAKI+YBAACgMGIeAAAACiPm\n",
              "AQAAoDBiHgAAAAoj5gEAAKAwYh4AAAAKI+YBAACgMGIeAAAACiPmAQAAoDBiHgAAAAoj5gEAAKAw\n",
              "Yh4AAAAKI+YBAACgMGIeAAAACiPmAQAAoDBiHgAAAAoj5gEAAKAwYh4AAAAKI+YBAACgMGIeAAAA\n",
              "CiPmAQAAoDBiHgAAAAoj5gEAAKAwYh4AAAAKI+YBAACgMGIeAAAACiPmAQAAoDBiHgAAAAoj5gEA\n",
              "AKAwYh4AAAAKI+YBAACgMGIeAAAACiPmAQAAoDBiHgAAAAoj5gEAAKAwYh4AAAAKI+YBAACgMGIe\n",
              "AAAACiPmAQAAoDBiHgAAAAoj5gEAAKAwYh4AAAAKI+YBAACgMGIeAAAACiPmAQAAoDBiHgAAAAoj\n",
              "5gEAAKAwYh4AAAAKI+YBAACgMGIeAAAACiPmAQAAoDBiHgAAAAoj5gEAAKAwYh4AAAAKI+YBAACg\n",
              "MGIeAAAACiPmAQAAoDBiHgAAAAoj5gEAAKAwYh4AAAAKI+YBAACgMDWN+QkTJmTkyJFpamrKGWec\n",
              "kWXLlu1x3R133JETTjghxx9/fK688srs2LEjSfL444/niCOOSFNTU8e2devWWo4MAAAAB70+tfzl\n",
              "9957bxoaGpIkDz74YC6//PKsWLGi05pVq1Zl1qxZeeaZZ3Lcccdl0qRJuf322/OZz3wmSXLiiSdm\n",
              "+fLltRwTAAAAilLTT+Z/H/JJ0tbWlkqlstua++67L83NzRk4cGAqlUqmT5+eBQsW1HIsAAAAKFpN\n",
              "P5lPkilTpmTRokVJkkceeWS3/WvXrs2QIUM6Xg8dOjRr167teP2rX/0qY8aMSe/evXPFFVdkxowZ\n",
              "ez3W9u3bs3379k7v7dq1a39PAQAAAA4qNY/5O++8M0ny7W9/O9dff/0eg35vxowZk3Xr1qVfv35Z\n",
              "t25dJk6cmGOPPTYf/ehH97h+7ty5mT17dqf3xo8f//aHBwAAgIPQAXua/WWXXZZFixbllVde6fR+\n",
              "Y2Nj1qxZ0/F69erVaWxsTJLU19enX79+SZLBgwfn4x//eBYvXrzXY8ycOTNtbW2dtnHjxtXgbAAA\n",
              "AKDn1CzmN27cmPXr13e8fuihh3LMMcekf//+ndZdfPHFefjhh7Nhw4ZUq9XcdtttueSSS5IkL774\n",
              "Ytrb25MkmzdvzsKFCzN69Oi9HrOuri719fWdtt69e9fg7AAAAKDn1Oxr9m1tbZk8eXK2bt2aXr16\n",
              "ZcCAAVm4cGEqlUqmTp2a5ubmNDc3Z9iwYZk9e3ZOO+20JMlZZ52VadOmJUnuv//+fOMb30ifPn2y\n",
              "c+fOTJ48OVdccUWtRgYAAIAiVKrVarWnh6illpaWzJs3r6fHAAAAgG5zwO6ZBwAAALqHmAcAAIDC\n",
              "iHkAAAAojJgHAACAwoh5AAAAKIyYBwAAgMKIeQAAACiMmAcAAIDCiHkAAAAojJgHAACAwoh5AAAA\n",
              "KIyYBwAAgMKIeQAAACiMmAcAAIDCiHkAAAAojJgHAACAwoh5AAAAKIyYBwAAgMKIeQAAACiMmAcA\n",
              "AIDCiHkAAAAojJgHAACAwoh5AAAAKIyYBwAAgMKIeQAAACiMmAcAAIDCiHkAAAAojJgHAACAwoh5\n",
              "AAAAKIyYBwAAgMKIeQAAACiMmAcAAIDCiHkAAAAojJgHAACAwoh5AAAAKIyYBwAAgMKIeQAAACiM\n",
              "mAcAAIDCiHkAAAAojJgHAACAwoh5AAAAKIyYBwAAgMKIeQAAACiMmAcAAIDCiHkAAAAojJgHAACA\n",
              "woh5AAAAKIyYBwAAgMKIeQAAACiMmAcAAIDC9Hk7P7Ry5cqsW7cuRxxxRE455ZQ0NDR081gAAADA\n",
              "3uxzzG/evDk333xz/vmf/zlHHnlkjjvuuGzbti2/+tWvMm7cuFx//fU555xzajkrAAAAkC7E/Nln\n",
              "n50pU6Zk2bJlOe644zreb29vz+LFi3PbbbeltbU106ZNq8mgAAAAwBv2OeafeOKJ1NXV7fZ+r169\n",
              "cuaZZ+bMM8/M9u3bu3U4AAAAYHf7/AC8PYX821kDAAAA7J99jvnzzjsvS5Ys2eO+jRs35h//8R/z\n",
              "zW9+s9sGAwAAAPZsn79mf9NNN2XmzJlZuXJlPvCBD3Q8AO+5557LCy+8kM985jP51Kc+VctZAQAA\n",
              "gHQh5keOHJl///d/z/PPP58f/OAHWbduXY488sh84hOfyOmnn54+fd7Wv3IHAAAAdFGXC/zVV1/N\n",
              "Jz/5yU7vPfvssxk5cmS3DQUAAADs3T7fM/97l19++T69BwAAANTGPn8y/+tf/zobNmzI1q1b89//\n",
              "/d+pVqtJkra2trz22ms1GxAAAADobJ9jfsGCBfna176W9evXp7m5ueP9fv365brrrqvJcAAAAMDu\n",
              "9jnmr7nmmlxzzTX50pe+lFmzZtVyJgAAAOBNdPkBeLNmzUp7e3s2bNiQnTt3drzf2NjYrYMBAAAA\n",
              "e9blB+B9+9vfTkNDQ0455ZSMHTs2Y8eOzfvf//49rp0wYUJGjhyZpqamnHHGGVm2bNke191xxx05\n",
              "4YQTcvzxx+fKK6/Mjh079mkfAAAAHIq6HPN/93d/lx//+Md55ZVX8vLLL+fll1/Or3/96z2uvffe\n",
              "e/Pss89m+fLlaWlp2eNT71etWpVZs2Zl8eLFaW1tzUsvvZTbb7/9LfcBAADAoarLMX/sscfmxBNP\n",
              "3Ke1DQ0NHX9ua2tLpVLZbc19992X5ubmDBw4MJVKJdOnT8+CBQvech8AAAAcqrp8z/wFF1yQr33t\n",
              "a/nLv/zLHH744R3v19fX73H9lClTsmjRoiTJI488stv+tWvXZsiQIR2vhw4dmrVr177lvj3Zvn17\n",
              "tm/f3um9Xbt27cNZAQAAQDm6/Mn8DTfckJaWlgwcODBHH310GhoacvTRR+91/Z133pnnn38+c+bM\n",
              "yfXXX79fw76VuXPnpl+/fp22pUuX1vSYAAAAcKB1Oebb29s7tl27dnX871u57LLLsmjRorzyyiud\n",
              "3m9sbMyaNWs6Xq9evbrjyfhvtm9PZs6cmba2tk7buHHjunqKAAAAcFDrcszvq40bN2b9+vUdrx96\n",
              "6KEcc8wx6d+/f6d1F198cR5++OFs2LAh1Wo1t912Wy655JK33LcndXV1qa+v77T17t27NicIAAAA\n",
              "PaTL98z36tVrjw+y+7+fzre1tWXy5MnZunVrevXqlQEDBmThwoWpVCqZOnVqmpub09zcnGHDhmX2\n",
              "7Nk57bTTkiRnnXVWpk2bliRvug8AAAAOVZVqtVrtyg+89tprHX/eunVr7rzzzuzatSuf//znu324\n",
              "7tDS0pJ58+b19BgAAADQbbr8Nfu+fft2bMcee2xaWlpy33331WI2AAAAYA/2+5755557Lr/5zW+6\n",
              "YxYAAABgH3T5nvmjjz664575nTt3JkluueWW7p0KAAAA2Ksux/zy5cv/94f79MnAgQM9MR4AAAAO\n",
              "oC7H/JAhQ7Jly5aOqD/66KNz5JFHdvdcAAAAwF50OeaXLFmSiy++OAMHDkySvPTSS7n//vtz6qmn\n",
              "dvtwAAAAwO66HPO/f3r97//t9yVLluTaa6/Nj370o24fDgAAANhdl59mv3Xr1o6QT5IPfvCD2bZt\n",
              "W7cOBQAAAOxdl2P+Xe96Vx577LGO19/73vfSt2/fbh0KAAAA2Lsuf83+61//ei666KKOJ9i3t7fn\n",
              "gQce6PbBAAAAgD3rcsyvX78+P/nJT/LSSy8lSY477rgsXbq02wcDAAAA9qzLX7OfNWtWBgwYkJNP\n",
              "Pjknn3xyjj322MyaNasWswEAAAB70OWY/78qlUp27drVHbMAAAAA+6DLMX/UUUdlyZIlHa+feOKJ\n",
              "HHXUUd06FAAAALB3Xb5n/h/+4R9y4YUX5qSTTkqS/PKXv8yDDz7Y7YMBAAAAe9blmD/11FPzs5/9\n",
              "LE8++WSSN/6d+YaGhu6eCwAAANiLLsd8khx99NGZOHFid88CAAAA7IP9fgAeAAAAcGCJeQAAACiM\n",
              "mAcAAIDCiHkAAAAojJgHAACAwoh5AAAAKIyYBwAAgMKIeQAAACiMmAcAAIDCiHkAAAAojJgHAACA\n",
              "woh5AAAAKIyYBwAAgMKIeQAAACiMmAcAAIDCiHkAAAAojJgHAACAwoh5AAAAKIyYBwAAgMKIeQAA\n",
              "ACiMmAcAAIDCiHkAAAAojJgHAACAwoh5AAAAKIyYBwAAgMKIeQAAACiMmAcAAIDCiHkAAAAojJgH\n",
              "AACAwoh5AAAAKIyYBwAAgMKIeQAAACiMmAcAAIDCiHkAAAAojJgHAACAwoh5AAAAKIyYBwAAgMKI\n",
              "eQAAACiMmAcAAIDCiHkAAAAojJgHAACAwoh5AAAAKIyYBwAAgMKIeQAAACiMmAcAAIDCiHkAAAAo\n",
              "jJgHAACAwtQs5rdt25YLLrggw4cPz6hRo/LhD384ra2te1z7la98JSeffHJGjBiRCy+8MBs3buzY\n",
              "V6lUcsopp6SpqSlNTU1ZvHhxrUYGAACAItT0k/mrrroqP//5z7NixYpMmjQpU6dO3W3No48+mm99\n",
              "61t58skns3LlyowdOzY33HBDpzWLFy/O8uXLs3z58pxxxhm1HBkAAAAOejWL+cMPPzwTJ05MpVJJ\n",
              "kowfPz6rV6/ebd2KFSty+umn56ijjkqSTJw4MXfdddfbOub27duzadOmTtuuXbve9jkAAADAweiA\n",
              "3TM/f/78TJo0abf3x44dm8ceeywbNmxItVrNd77znWzevDm//e1vO9acc845GTVqVFpaWvLaa6/t\n",
              "9Rhz585Nv379Om1Lly6tyfkAAABATzkgMX/TTTeltbU1c+fO3W3f2Wefnc997nM577zzMn78+AwY\n",
              "MCBJ0qdPnyTJmjVr8vTTT2fJkiV5+eWX8/nPf36vx5k5c2ba2to6bePGjavNSQEAAEAP6VPrA9x8\n",
              "88154IEH8thjj+XII4/c45oZM2ZkxowZSZIf/ehHGTx4cOrr65MkjY2NSZK+fftmxowZueqqq/Z6\n",
              "rLq6utTV1XV6r3fv3t1xGgAAAHDQqOkn8/PmzcuCBQvy6KOPpqGhYa/rXnzxxSTJli1bcuONN+a6\n",
              "665Lkrz66qvZsmVLkqS9vT333HNPRo8eXcuRAQAA4KBXs0/m161bl89+9rMZNmxYzj777CRvfHL+\n",
              "1FNP5cYbb8ygQYMyffr0JMmECRPS3t6e119/PZdeemmuvvrqJMlzzz2XadOmpVKpZOfOnRkzZkzm\n",
              "z59fq5EBAACgCJVqtVrt6SFqqaWlJfPmzevpMQAAAKDbHLCn2QMAAADdQ8wDAABAYcQ8AAAAFEbM\n",
              "AwAAQGHEPAAAABRGzAMAAEBhxDwAAAAURswDAABAYcQ8AAAAFEbMAwAAQGHEPAAAABRGzAMAAEBh\n",
              "xDwAAAAURswDAABAYcQ8AAAAFEbMAwAAQGHEPAAAABRGzAMAAEBhxDwAAAAURswDAABAYcQ8AAAA\n",
              "FEbMAwAAQGHEPAAAABRGzAMAAEBhxDwAAAAURswDAABAYcQ8AAAAFEbMAwAAQGHEPAAAABRGzAMA\n",
              "AEBhxDwAAAAURswDAABAYcQ8AAAAFEbMAwAAQGHEPAAAABRGzAMAAEBhxDwAAAAURswDAABAYcQ8\n",
              "AAAAFEbMAwAAQGHEPAAAABRGzAMAAEBhxDwAAAAURswDAABAYcQ8AAAAFEbMAwAAQGHEPAAAABRG\n",
              "zAMAAEBhxDwAAAAURswDAABAYcQ8AAAAFEbMAwAAQGHEPAAAABRGzAMAAEBhxDwAAAAURswDAABA\n",
              "YcQ8AAAAFEbMAwAAQGHEPAAAABRGzAMAAEBhxDwAAAAURswDAABAYcQ8AAAAFEbMAwAAQGFqFvPb\n",
              "tm3LBRdckOHDh2fUqFH58Ic/nNbW1j2u/cpXvpKTTz45I0aMyIUXXpiNGzd27HvqqacyatSoDB8+\n",
              "PB/60Ifywgsv1GpkAAAAKEJNP5m/6qqr8vOf/zwrVqzIpEmTMnXq1N3WPProo/nWt76VJ598MitX\n",
              "rszYsWNzww03JEna29vziU98Il/72tfyi1/8IhMnTsxf//Vf13JkAAAAOOjVLOYPP/zwTJw4MZVK\n",
              "JUkyfvz4rF69erd1K1asyOmnn56jjjoqSTJx4sTcddddSZKnn346ffr0ydlnn50kmTZtWv7t3/4t\n",
              "27Zt2+Mxt2/fnk2bNnXadu3aVYOzAwAAgJ5zwO6Znz9/fiZNmrTb+2PHjs1jjz2WDRs2pFqt5jvf\n",
              "+U42b96c3/72t1m7dm2GDBnSsfaoo45KfX191q9fv8djzJ07N/369eu0LV26tGbnBAAAAD3hgMT8\n",
              "TTfdlNbW1sydO3e3fWeffXY+97nP5bzzzsv48eMzYMCAJEmfPn26fJyZM2emra2t0zZu3Lj9nh8A\n",
              "AAAOJl0v5i66+eab88ADD+Sxxx7LkUceucc1M2bMyIwZM5IkP/rRjzJ48ODU19ensbExa9as6Vi3\n",
              "efPmtLW1ZdCgQXv8PXV1damrq+v0Xu/evbvpTAAAAODgUNNP5ufNm5cFCxbk0UcfTUNDw17Xvfji\n",
              "i0mSLVu25MYbb8x1112X5I2v4O/YsSOLFi1Kknzzm9/M+eefn8MPP7yWYwMAAMBBrWafzK9bty6f\n",
              "/exnM2zYsI4H2NXV1eWpp57KjTfemEGDBmX69OlJkgkTJqS9vT2vv/56Lr300lx99dVJkl69euXu\n",
              "u+/OtGnTsm3btgwaNKjj4XgAAABwqKpUq9VqTw9RSy0tLZk3b15PjwEAAADd5oA9zR4AAADoHmIe\n",
              "AAAACiPmAQAAoDBiHgAAAAoj5gEAAKAwYh4AAAAKI+YBAACgMGIeAAAACiPmAQAAoDBiHgAAAAoj\n",
              "5gEAAKAwYh4AAAAKI+YBAACgMGIeAAAACiPmAQAAoDBiHgAAAAoj5gEAAKAwYh4AAAAKI+YBAACg\n",
              "MGIeAAAACiPmAQAAoDBiHgAAAAoj5gEAAKAwYh4AAAAKI+YBAACgMGIeAAAACiPmAQAAoDBiHgAA\n",
              "AAoj5gEAAKAwYh4AAAAKI+YBAACgMGIeAAAACiPmAQAAoDBiHgAAAAoj5gEAAKAwYh4AAAAKI+YB\n",
              "AACgMGIeAAAACiPmAQAAoDBiHgAAAAoj5gEAAKAwYh4AAAAKI+YBAACgMGIeAAAACiPmAQAAoDBi\n",
              "HgAAAAoj5gEAAKAwYh4AAAAKI+YBAACgMGIeAAAACiPmAQAAoDBiHgAAAAoj5gEAAKAwYh4AAAAK\n",
              "I+YBAACgMGIeAAAACiPmAQAAoDBiHgAAAAoj5gEAAKAwYh4AAAAKI+YBAACgMGIeAAAACiPmAQAA\n",
              "oDBiHgAAAApTs5jftm1bLrjgggwfPjyjRo3Khz/84bS2tu5x7Ze//OWMGDEiTU1NGT9+fJYuXdqx\n",
              "r1Kp5JRTTklTU1OampqyePHiWo0MAAAARehTy19+1VVX5SMf+UgqlUr+6Z/+KVOnTs3jjz/eac3y\n",
              "5ctz66235qc//Wne9a535e67787VV1/dKegXL16choaGWo4KAAAAxajZJ/OHH354Jk6cmEqlkiQZ\n",
              "P358Vq9evdu6SqWSHTt25LXXXkuSbNy4MYMHD35bx9y+fXs2bdrUadu1a9fbPgcAAAA4GNX0k/n/\n",
              "3/z58zNp0qTd3h81alSuvfbavPe9703//v1TV1eX//qv/+q05pxzzsnOnTtzzjnn5Etf+lL69u27\n",
              "x2PMnTs3s2fP7vTe+PHju+8kAAAA4CBwQB6Ad9NNN6W1tTVz587dbd+qVavywAMPpLW1NevWrcu1\n",
              "116bj33sYx3716xZk6effjpLlizJyy+/nM9//vN7Pc7MmTPT1tbWaRs3blxNzgkAAAB6Ss1j/uab\n",
              "b84DDzyQ//iP/8iRRx652/77778/p5xySgYNGpQkueKKK/LEE0/k9ddfT5I0NjYmSfr27ZsZM2a8\n",
              "6QPw6urqUl9f32nr3bt3Dc4KAAAAek5NY37evHlZsGBBHn300b0+wG7YsGF54okn8rvf/S5JsnDh\n",
              "wgwfPjyHHXZYXn311WzZsiVJ0t7ennvuuSejR4+u5cgAAABw0KvZPfPr1q3LZz/72QwbNixnn312\n",
              "kjc+OX/qqady4403ZtCgQZk+fXouvPDC/PjHP8773//+1NXVpW/fvvnud7+bJHnuuecybdq0VCqV\n",
              "7Ny5M2PGjMn8+fNrNTIAAAAUoVKtVqs9PUQttbS0ZN68eT09BgAAAHSbA/IAPAAAAKD7iHkAAAAo\n",
              "jJgHAACAwoh5AAAAKIyYBwAAgMKIeQAAACiMmAcAAIDCiHkAAAAojJgHAACAwoh5AAAAKIyYBwAA\n",
              "gMKIeQAAACiMmAcAAIDCiHkAAAAojJgHAACAwoh5AAAAKEylWq1We3qIWrrooosydOjQnh6DHrJr\n",
              "164sXbo048aNS+/evXt6HHhTrldK4nqlJK5XSuJ6JUmGDBmSa6655k3XvONjnkPbpk2b0q9fv7S1\n",
              "taW+vr6nx4E35XqlJK5XSuJ6pSSuV/aVr9kDAABAYcQ8AAAAFEbMAwAAQGHEPO9odXV1+du//dvU\n",
              "1dX19CjwllyvlMT1Sklcr5TE9cq+8gA8AAAAKIxP5gEAAKAwYh4AAAAKI+YBAACgMGKeIv3yl7/M\n",
              "Bz/4wQwfPjwf+MAH8tOf/nS3Ne3t7fnc5z6Xk08+OSeddFI+/elP5/XXX+/Yv3bt2px//vk58cQT\n",
              "M2LEiNxyyy0H8hQ4hHTH9frlL385I0aMSFNTU8aPH5+lS5ceyFPgEPJXf/VXGTp0aCqVSpYvX77X\n",
              "dXfccUdOOOGEHH/88bnyyiuzY8eOfdoH3Wl/r9fvf//7GTduXEaMGJE/+ZM/yXXXXZf29vYDND2H\n",
              "mu74+zVJqtVqPvShD6WhoaG2A3PQE/MUadq0abnqqqvyi1/8Itdff30uv/zy3dbccccdeeaZZ/LM\n",
              "M8/kZz/7WXr16pX58+cneeMvwQsvvDBTpkzJz3/+86xcuTIf/ehHD/BZcKjY3+t1+fLlufXWW7N0\n",
              "6dIsX748V199da6++uoDfBYcKv7iL/4iP/zhDzNkyJC9rlm1alVmzZqVxYsXp7W1NS+99FJuv/32\n",
              "t9wH3W1/r9ejjz46//Iv/5KVK1fm6aefzpIlS3LnnXceqPE5xOzv9fp7X/3qV3P88cfXelwKIOYp\n",
              "zq9//ev85Cc/ySc/+ckkycUXX5znn38+ra2tndatWLEif/Znf5bDDjsslUolH/nIR3LXXXclSb73\n",
              "ve+lrq4ukydP7lh/3HHHHbiT4JDRHddrpVLJjh078tprryVJNm7cmMGDBx/YE+GQ8ad/+qdveX3d\n",
              "d999aW5uzsCBA1OpVDJ9+vQsWLDgLfdBd9vf63X06NEZNmxYkuTwww9PU1NTVq9eXeuxOUTt7/Wa\n",
              "JD/96U/z0EMP5Qtf+EKtx6UAYp7iPP/88/nDP/zD9OnTJ8kbodPY2Ji1a9d2Wjd27Ng8/PDD2bRp\n",
              "U3bs2JF777234z/QK1euzIABA3LJJZdk9OjRufDCC/M///M/B/pUOAR0x/U6atSoXHvttXnve9+b\n",
              "wYMH56tf/arbQuhRa9eu7fTJ0tChQzuu6TfbBz1hX6/JDRs25L777st55513IMeDTt7set2xY0eu\n",
              "vPLKfPOb30zv3r17akQOImKed6zLL7885557bs4888yceeaZGT58eEdQ7dy5M9///vcza9asLFu2\n",
              "LH/+53/ua/b0qDe7XletWpUHHnggra2tWbduXa699tp87GMf6+GJAd45Nm3alPPPPz/XXXdd3v/+\n",
              "9/f0OLBHs2fPzkUXXZT3ve99PT0KBwkxT3He85735MUXX8zOnTuTvHH/+9q1a9PY2NhpXaVSyRe/\n",
              "+MUsW7YsS5Ys6Xi4TZI0NjZm9OjRHa8vvfTSPPPMMx7SRLfrjuv1/vvvzymnnJJBgwYlSa644oo8\n",
              "8cQTnR6QBwdSY2Nj1qxZ0/F69erVHdf0m+2DnvBW1+TmzZtz7rnnZtKkSWlpaemJEaHDm12vP/jB\n",
              "D3LLLbdk6NChOf3007Np06YMHTo0L7/8ck+NSw8T8xTn3e9+d8aMGZO77747yRuhM3jw4PzxH/9x\n",
              "p3Xbtm3Lq6++miT5zW9+k7//+7/PddddlyT5yEc+knXr1uWFF15IkjzyyCN53/velz/4gz84gGfC\n",
              "oaA7rtdhw4bliSeeyO9+97skycKFCzN8+PAcdthhB/BM4H9dfPHFefjhh7Nhw4ZUq9XcdtttueSS\n",
              "S95yH/SEN7smf/e73+Xcc8/Nueeem7/5m7/p4Unhza/XxYsXZ82aNVm9enV++MMfpr6+PqtXr86A\n",
              "AQN6eGp6TBUK9Nxzz1XHjx9fPeGEE6pjx46tPvvss9VqtVr99Kc/Xf3Xf/3XarVarW7YsKF60kkn\n",
              "VUeMGFE96aSTqt/4xjc6/Y7//M//rI4aNao6cuTI6hlnnNHxO6C77e/12t7eXv3CF75QPfHEE6sj\n",
              "R46snnrqqdWf/OQnPXIuvPNdddVV1T/6oz+q9u7du/rud7+7evzxx1er1c7Xa7Vard5+++3VYcOG\n",
              "VYcNG1b91Kc+VX399df3aR90p/29XufMmVPt06dPddSoUR3bnDlzeuRceOfrjr9ff2/VqlXVfv36\n",
              "HajROUhVqtVqtaf/DwUAAABg3/maPQAAABRGzAMAAEBhxDwAAAAUpk9PDwAAlGXChAnZsGFDevXq\n",
              "laOOOipf//rXM3r06J4eCwAOKR6ABwB0ycaNG9PQ0JAkefDBB/PFL34xK1as6NmhAOAQ42v2AECX\n",
              "/D7kk6StrS2VSqXnhgGAQ5Sv2QMAXTZlypQsWrQoSfLII4/08DQAcOjxNXsA4G379re/nXvuuUfQ\n",
              "A8ABJuYBgP1yxBFHZN26dTnmmGN6ehQAOGS4Zx4A2GcbN27M+vXrO14/9NBDOeaYY9K/f/8enAoA\n",
              "Dj3umQcA9llbW1smT56crVu3plevXhkwYEAWLlzoIXgAcID5mj0AAAAUxtfsAQAAoDBiHgAAAAoj\n",
              "5gEAAKAwYh4AAAAKI+YBAACgMGIeAAAACiPmAQAAoDBiHgAAAAoj5gEAAKAwYh4AAAAK8/8A6nfm\n",
              "df+e6FkAAAAASUVORK5CYII=\n",
              "\">\n",
              "      </div>\n",
              "      <script type=\"text/javascript\">\n",
              "        (() => {\n",
              "          const chartElement = document.getElementById(\"chart-e6c67a5b-a805-4227-8e51-21bde4940959\");\n",
              "          async function getCodeForChartHandler(event) {\n",
              "            const chartCodeResponse =  await google.colab.kernel.invokeFunction(\n",
              "                'getCodeForChart', [\"chart-e6c67a5b-a805-4227-8e51-21bde4940959\"], {});\n",
              "            const responseJson = chartCodeResponse.data['application/json'];\n",
              "            await google.colab.notebook.addCell(responseJson.code, 'code');\n",
              "          }\n",
              "          chartElement.onclick = getCodeForChartHandler;\n",
              "        })();\n",
              "      </script>\n",
              "      <style>\n",
              "        .colab-quickchart-chart-with-code  {\n",
              "            display: block;\n",
              "            float: left;\n",
              "            border: 1px solid transparent;\n",
              "        }\n",
              "\n",
              "        .colab-quickchart-chart-with-code:hover {\n",
              "            cursor: pointer;\n",
              "            border: 1px solid #aaa;\n",
              "        }\n",
              "      </style>"
            ]
          },
          "metadata": {}
        }
      ]
    },
    {
      "cell_type": "code",
      "source": [
        "import random\n",
        "random.choice((1,2,3,4,5,6))\n"
      ],
      "metadata": {
        "colab": {
          "base_uri": "https://localhost:8080/"
        },
        "id": "-32NoDQtHx0u",
        "outputId": "2e392505-27f5-45f8-dfb6-0c30a5426d37"
      },
      "execution_count": 23,
      "outputs": [
        {
          "output_type": "execute_result",
          "data": {
            "text/plain": [
              "2"
            ]
          },
          "metadata": {},
          "execution_count": 23
        }
      ]
    },
    {
      "cell_type": "code",
      "source": [
        "random.choice(\"Tushar\")"
      ],
      "metadata": {
        "colab": {
          "base_uri": "https://localhost:8080/",
          "height": 36
        },
        "id": "-ZLYZ6qgHx3a",
        "outputId": "99593182-c3ec-465f-f438-4f677e1640cd"
      },
      "execution_count": 25,
      "outputs": [
        {
          "output_type": "execute_result",
          "data": {
            "text/plain": [
              "'h'"
            ],
            "application/vnd.google.colaboratory.intrinsic+json": {
              "type": "string"
            }
          },
          "metadata": {},
          "execution_count": 25
        }
      ]
    },
    {
      "cell_type": "code",
      "source": [
        "random.choice((\"Tushar\")"
      ],
      "metadata": {
        "id": "tPIzWiy7Hx6G"
      },
      "execution_count": null,
      "outputs": []
    },
    {
      "cell_type": "code",
      "source": [
        "random.randrange(1,1000)\n"
      ],
      "metadata": {
        "colab": {
          "base_uri": "https://localhost:8080/"
        },
        "id": "nth6_eLBHx8t",
        "outputId": "ef26a7cf-cb90-4aa0-aa4f-321a6cb81a02"
      },
      "execution_count": 28,
      "outputs": [
        {
          "output_type": "execute_result",
          "data": {
            "text/plain": [
              "431"
            ]
          },
          "metadata": {},
          "execution_count": 28
        }
      ]
    },
    {
      "cell_type": "code",
      "source": [
        "# here we can get any number between 0 (included ) to 1(excluded)\n",
        "random.random()"
      ],
      "metadata": {
        "colab": {
          "base_uri": "https://localhost:8080/"
        },
        "id": "TsG8rvO_Hx_N",
        "outputId": "c7fee90a-8c02-4969-e2aa-a8c6f8da17e7"
      },
      "execution_count": 31,
      "outputs": [
        {
          "output_type": "execute_result",
          "data": {
            "text/plain": [
              "0.9680207809100254"
            ]
          },
          "metadata": {},
          "execution_count": 31
        }
      ]
    },
    {
      "cell_type": "code",
      "source": [
        "list=[1,2,3,4,5,6,7,8,9,10]\n",
        "random.shuffle(list)"
      ],
      "metadata": {
        "id": "re97rZIwHyCH"
      },
      "execution_count": 36,
      "outputs": []
    },
    {
      "cell_type": "code",
      "source": [
        "random.uniform(7,14) # a no will repeat between 7 and 14"
      ],
      "metadata": {
        "colab": {
          "base_uri": "https://localhost:8080/"
        },
        "id": "ao7tzNyaHyE6",
        "outputId": "1d1115a2-78b5-47fd-fb76-b8aa0412c715"
      },
      "execution_count": 37,
      "outputs": [
        {
          "output_type": "execute_result",
          "data": {
            "text/plain": [
              "9.39154623006167"
            ]
          },
          "metadata": {},
          "execution_count": 37
        }
      ]
    },
    {
      "cell_type": "code",
      "source": [
        "np.random.rand(1)"
      ],
      "metadata": {
        "colab": {
          "base_uri": "https://localhost:8080/"
        },
        "id": "gWz5OAQSHyHW",
        "outputId": "88871272-e614-4bd8-ad2e-6d7e0ae1ac2a"
      },
      "execution_count": 38,
      "outputs": [
        {
          "output_type": "execute_result",
          "data": {
            "text/plain": [
              "array([0.82072161])"
            ]
          },
          "metadata": {},
          "execution_count": 38
        }
      ]
    },
    {
      "cell_type": "code",
      "source": [
        "np.random.rand(2,3)"
      ],
      "metadata": {
        "colab": {
          "base_uri": "https://localhost:8080/"
        },
        "id": "1-hIbpZ-HyKe",
        "outputId": "265ce1d6-b05a-4ff0-f532-553dacde8442"
      },
      "execution_count": 39,
      "outputs": [
        {
          "output_type": "execute_result",
          "data": {
            "text/plain": [
              "array([[0.71394145, 0.6431058 , 0.35856431],\n",
              "       [0.22500573, 0.54533295, 0.68208578]])"
            ]
          },
          "metadata": {},
          "execution_count": 39
        }
      ]
    },
    {
      "cell_type": "code",
      "source": [
        "np.random.randn(2,3)"
      ],
      "metadata": {
        "colab": {
          "base_uri": "https://localhost:8080/"
        },
        "id": "Ho1GgrmXHyNE",
        "outputId": "c114cb5e-d8fd-4ff9-ec6e-81c30d4d9b6b"
      },
      "execution_count": 40,
      "outputs": [
        {
          "output_type": "execute_result",
          "data": {
            "text/plain": [
              "array([[-0.75498486, -0.33714146,  1.04806858],\n",
              "       [ 0.68248619, -2.06882401, -0.88108381]])"
            ]
          },
          "metadata": {},
          "execution_count": 40
        }
      ]
    },
    {
      "cell_type": "code",
      "source": [
        "np.random.random_sample()"
      ],
      "metadata": {
        "colab": {
          "base_uri": "https://localhost:8080/"
        },
        "id": "p_CxTcPAHyPa",
        "outputId": "7eb5c63a-8266-46c8-e14a-27d641ec1f6a"
      },
      "execution_count": 41,
      "outputs": [
        {
          "output_type": "execute_result",
          "data": {
            "text/plain": [
              "0.35568325172173565"
            ]
          },
          "metadata": {},
          "execution_count": 41
        }
      ]
    },
    {
      "cell_type": "code",
      "source": [
        "np.random.randint(1,5,size=(3,4))"
      ],
      "metadata": {
        "colab": {
          "base_uri": "https://localhost:8080/"
        },
        "id": "whHTDCj7HySL",
        "outputId": "4586e241-f850-41d8-9c39-1bd663494284"
      },
      "execution_count": 42,
      "outputs": [
        {
          "output_type": "execute_result",
          "data": {
            "text/plain": [
              "array([[2, 4, 3, 1],\n",
              "       [2, 4, 3, 2],\n",
              "       [4, 1, 2, 4]])"
            ]
          },
          "metadata": {},
          "execution_count": 42
        }
      ]
    },
    {
      "cell_type": "code",
      "source": [
        "arr\n",
        "arr.size\n",
        "arr.shape\n",
        "arr.ndim # it will give how many no of dimensional  we have 2 brackets beacuse of that 2 is comming\n"
      ],
      "metadata": {
        "colab": {
          "base_uri": "https://localhost:8080/"
        },
        "id": "WtBD8dWLHyVB",
        "outputId": "8699a86b-e69c-41bf-98e6-deae33a64aa0"
      },
      "execution_count": 47,
      "outputs": [
        {
          "output_type": "execute_result",
          "data": {
            "text/plain": [
              "2"
            ]
          },
          "metadata": {},
          "execution_count": 47
        }
      ]
    },
    {
      "cell_type": "code",
      "source": [
        "arr\n",
        "# array has 12 elements beaucause of that we need to write the 12 multiplication while reshaping the array"
      ],
      "metadata": {
        "colab": {
          "base_uri": "https://localhost:8080/"
        },
        "id": "_gDfe2Y0HyXi",
        "outputId": "bd53ed78-886c-4672-95f1-a0ffa0ec6d1c"
      },
      "execution_count": 51,
      "outputs": [
        {
          "output_type": "execute_result",
          "data": {
            "text/plain": [
              "array([[1., 1., 1., 1.],\n",
              "       [1., 1., 1., 1.],\n",
              "       [1., 1., 1., 1.]])"
            ]
          },
          "metadata": {},
          "execution_count": 51
        }
      ]
    },
    {
      "cell_type": "code",
      "source": [
        "arr.reshape(2,6)\n",
        "arr.reshape(6,2)"
      ],
      "metadata": {
        "colab": {
          "base_uri": "https://localhost:8080/"
        },
        "id": "jVzpC200Hyae",
        "outputId": "c50cdafc-f21c-4e33-d0b8-e4b0aa7e5a67"
      },
      "execution_count": 53,
      "outputs": [
        {
          "output_type": "execute_result",
          "data": {
            "text/plain": [
              "array([[1., 1.],\n",
              "       [1., 1.],\n",
              "       [1., 1.],\n",
              "       [1., 1.],\n",
              "       [1., 1.],\n",
              "       [1., 1.]])"
            ]
          },
          "metadata": {},
          "execution_count": 53
        }
      ]
    },
    {
      "cell_type": "code",
      "source": [
        "# Here we are giving only row not column thing so computer will automatically understand what will be the number so in that case u need to writ the -1\n",
        "# u can use this concept in the vice versa in row\n",
        "arr.reshape(4,-1)"
      ],
      "metadata": {
        "colab": {
          "base_uri": "https://localhost:8080/"
        },
        "id": "frzS9cL_Hyc8",
        "outputId": "1d08d63c-0dff-47b5-ddbe-68c2ed7c07c8"
      },
      "execution_count": 55,
      "outputs": [
        {
          "output_type": "execute_result",
          "data": {
            "text/plain": [
              "array([[1., 1., 1.],\n",
              "       [1., 1., 1.],\n",
              "       [1., 1., 1.],\n",
              "       [1., 1., 1.]])"
            ]
          },
          "metadata": {},
          "execution_count": 55
        }
      ]
    },
    {
      "cell_type": "code",
      "source": [
        "arr.reshape(-1,4)"
      ],
      "metadata": {
        "colab": {
          "base_uri": "https://localhost:8080/"
        },
        "id": "kc5syRZNHyfy",
        "outputId": "be80a3c9-388d-455d-ad5e-a89ab500d041"
      },
      "execution_count": 56,
      "outputs": [
        {
          "output_type": "execute_result",
          "data": {
            "text/plain": [
              "array([[1., 1., 1., 1.],\n",
              "       [1., 1., 1., 1.],\n",
              "       [1., 1., 1., 1.]])"
            ]
          },
          "metadata": {},
          "execution_count": 56
        }
      ]
    },
    {
      "cell_type": "code",
      "source": [
        "# while doing the reshape it is doing shallow copy how we can check\n",
        "arr.reshape(2,6).base"
      ],
      "metadata": {
        "colab": {
          "base_uri": "https://localhost:8080/"
        },
        "id": "6Ro9PZo4HyiU",
        "outputId": "c22106a9-bc9c-4b4b-c4fc-5b1249290ef0"
      },
      "execution_count": 63,
      "outputs": [
        {
          "output_type": "execute_result",
          "data": {
            "text/plain": [
              "array([[1., 1., 1., 1.],\n",
              "       [1., 1., 1., 1.],\n",
              "       [1., 1., 1., 1.]])"
            ]
          },
          "metadata": {},
          "execution_count": 63
        }
      ]
    },
    {
      "cell_type": "code",
      "source": [
        "arr.reshape(2,2,3)\n",
        "# First 2 is 2 times\n",
        "# Second 2 is Row\n",
        "# Third 3 will be column"
      ],
      "metadata": {
        "colab": {
          "base_uri": "https://localhost:8080/"
        },
        "id": "SWzhkvKUHylO",
        "outputId": "eb87c247-3dd8-487d-f0ac-938277a8ef82"
      },
      "execution_count": 64,
      "outputs": [
        {
          "output_type": "execute_result",
          "data": {
            "text/plain": [
              "array([[[1., 1., 1.],\n",
              "        [1., 1., 1.]],\n",
              "\n",
              "       [[1., 1., 1.],\n",
              "        [1., 1., 1.]]])"
            ]
          },
          "metadata": {},
          "execution_count": 64
        }
      ]
    },
    {
      "cell_type": "code",
      "source": [
        "arr.reshape(4,3,1)"
      ],
      "metadata": {
        "colab": {
          "base_uri": "https://localhost:8080/"
        },
        "id": "8hOng1NhHynm",
        "outputId": "5d2674a5-212c-4146-b75d-14b6c326b9ec"
      },
      "execution_count": 67,
      "outputs": [
        {
          "output_type": "execute_result",
          "data": {
            "text/plain": [
              "array([[[1.],\n",
              "        [1.],\n",
              "        [1.]],\n",
              "\n",
              "       [[1.],\n",
              "        [1.],\n",
              "        [1.]],\n",
              "\n",
              "       [[1.],\n",
              "        [1.],\n",
              "        [1.]],\n",
              "\n",
              "       [[1.],\n",
              "        [1.],\n",
              "        [1.]]])"
            ]
          },
          "metadata": {},
          "execution_count": 67
        }
      ]
    },
    {
      "cell_type": "code",
      "source": [
        "# Creating the different dimensions array\n",
        "arr1=np.zeros(2)\n",
        "arr1"
      ],
      "metadata": {
        "colab": {
          "base_uri": "https://localhost:8080/"
        },
        "id": "53z-bHPpc8Ce",
        "outputId": "2c0cb50c-7c31-495c-a240-2c21dad6f93d"
      },
      "execution_count": 85,
      "outputs": [
        {
          "output_type": "execute_result",
          "data": {
            "text/plain": [
              "array([0., 0.])"
            ]
          },
          "metadata": {},
          "execution_count": 85
        }
      ]
    },
    {
      "cell_type": "code",
      "source": [
        "\n",
        "arr2=np.zeros((3,4))\n",
        "arr2"
      ],
      "metadata": {
        "colab": {
          "base_uri": "https://localhost:8080/"
        },
        "id": "wDcnp_mmHyqW",
        "outputId": "2265bd91-266d-456f-b11b-c004ca4bcee6"
      },
      "execution_count": 74,
      "outputs": [
        {
          "output_type": "execute_result",
          "data": {
            "text/plain": [
              "array([[0., 0., 0., 0.],\n",
              "       [0., 0., 0., 0.],\n",
              "       [0., 0., 0., 0.]])"
            ]
          },
          "metadata": {},
          "execution_count": 74
        }
      ]
    },
    {
      "cell_type": "code",
      "source": [
        "arr3=np.zeros((1,3,4)) # 3 Rows and 4 Colums + 1 Dimensions\n",
        "arr3"
      ],
      "metadata": {
        "colab": {
          "base_uri": "https://localhost:8080/"
        },
        "id": "T9x7tiQTHys3",
        "outputId": "4571f363-47e7-424d-e1ba-5e2fcbc05479"
      },
      "execution_count": 75,
      "outputs": [
        {
          "output_type": "execute_result",
          "data": {
            "text/plain": [
              "array([[[0., 0., 0., 0.],\n",
              "        [0., 0., 0., 0.],\n",
              "        [0., 0., 0., 0.]]])"
            ]
          },
          "metadata": {},
          "execution_count": 75
        }
      ]
    },
    {
      "cell_type": "code",
      "source": [
        "arr4=np.zeros((2,3,4))\n",
        "arr4"
      ],
      "metadata": {
        "colab": {
          "base_uri": "https://localhost:8080/"
        },
        "id": "Eyif00V-Hyvb",
        "outputId": "3db947bc-f384-4929-bc4a-c524c1364f5b"
      },
      "execution_count": 76,
      "outputs": [
        {
          "output_type": "execute_result",
          "data": {
            "text/plain": [
              "array([[[0., 0., 0., 0.],\n",
              "        [0., 0., 0., 0.],\n",
              "        [0., 0., 0., 0.]],\n",
              "\n",
              "       [[0., 0., 0., 0.],\n",
              "        [0., 0., 0., 0.],\n",
              "        [0., 0., 0., 0.]]])"
            ]
          },
          "metadata": {},
          "execution_count": 76
        }
      ]
    },
    {
      "cell_type": "code",
      "source": [
        "arr1=np.random.randint(1,10,(5,6))\n",
        "arr1"
      ],
      "metadata": {
        "colab": {
          "base_uri": "https://localhost:8080/"
        },
        "id": "Kr2apO-EHyyH",
        "outputId": "62501d8a-aede-4d83-eb0e-856f67911d91"
      },
      "execution_count": 88,
      "outputs": [
        {
          "output_type": "execute_result",
          "data": {
            "text/plain": [
              "array([[3, 5, 2, 9, 8, 6],\n",
              "       [7, 2, 2, 3, 2, 9],\n",
              "       [9, 2, 1, 4, 3, 4],\n",
              "       [1, 1, 1, 4, 5, 7],\n",
              "       [5, 9, 6, 8, 8, 3]])"
            ]
          },
          "metadata": {},
          "execution_count": 88
        }
      ]
    },
    {
      "cell_type": "code",
      "source": [
        "arr1>5 # this will provide the boolean answer"
      ],
      "metadata": {
        "colab": {
          "base_uri": "https://localhost:8080/"
        },
        "id": "JfP-ktPGHy0-",
        "outputId": "de643503-9818-419d-c64c-f4ffdcc9e464"
      },
      "execution_count": 80,
      "outputs": [
        {
          "output_type": "execute_result",
          "data": {
            "text/plain": [
              "array([[ True, False,  True, False, False,  True],\n",
              "       [False, False, False,  True, False, False],\n",
              "       [False, False, False,  True,  True,  True],\n",
              "       [ True,  True, False, False, False,  True],\n",
              "       [ True,  True, False, False,  True, False]])"
            ]
          },
          "metadata": {},
          "execution_count": 80
        }
      ]
    },
    {
      "cell_type": "markdown",
      "source": [],
      "metadata": {
        "id": "tIWCacTseUGr"
      }
    },
    {
      "cell_type": "markdown",
      "source": [],
      "metadata": {
        "id": "CVhrQNgYeUDD"
      }
    },
    {
      "cell_type": "markdown",
      "source": [],
      "metadata": {
        "id": "i10rNaDfeT-q"
      }
    },
    {
      "cell_type": "markdown",
      "source": [],
      "metadata": {
        "id": "iWhbWMbQeT7C"
      }
    },
    {
      "cell_type": "markdown",
      "source": [],
      "metadata": {
        "id": "VicX88GzeT1_"
      }
    },
    {
      "cell_type": "markdown",
      "source": [],
      "metadata": {
        "id": "M3DGi7-reTyL"
      }
    },
    {
      "cell_type": "code",
      "source": [
        "## Now i want to filtter the elements using some condition\n",
        "arr1[arr1>5]"
      ],
      "metadata": {
        "colab": {
          "base_uri": "https://localhost:8080/"
        },
        "id": "IPOCMQuWHy4M",
        "outputId": "5bcf2dae-f181-443d-e36d-bc04d57b8c6d"
      },
      "execution_count": 81,
      "outputs": [
        {
          "output_type": "execute_result",
          "data": {
            "text/plain": [
              "array([7, 8, 8, 6, 6, 8, 8, 8, 6, 6, 6, 9, 7])"
            ]
          },
          "metadata": {},
          "execution_count": 81
        }
      ]
    },
    {
      "cell_type": "code",
      "source": [
        "arr1[arr1<5]"
      ],
      "metadata": {
        "colab": {
          "base_uri": "https://localhost:8080/"
        },
        "id": "AHqbMhTWHy6y",
        "outputId": "32e259db-2bbf-4a96-bf06-e5dc42b9e8f0"
      },
      "execution_count": 86,
      "outputs": [
        {
          "output_type": "execute_result",
          "data": {
            "text/plain": [
              "array([0., 0.])"
            ]
          },
          "metadata": {},
          "execution_count": 86
        }
      ]
    },
    {
      "cell_type": "code",
      "source": [
        "arr1\n"
      ],
      "metadata": {
        "colab": {
          "base_uri": "https://localhost:8080/"
        },
        "id": "VqkFzoESHy9k",
        "outputId": "6415338c-f2e1-4ef9-df86-9e2a81a85353"
      },
      "execution_count": 89,
      "outputs": [
        {
          "output_type": "execute_result",
          "data": {
            "text/plain": [
              "array([[3, 5, 2, 9, 8, 6],\n",
              "       [7, 2, 2, 3, 2, 9],\n",
              "       [9, 2, 1, 4, 3, 4],\n",
              "       [1, 1, 1, 4, 5, 7],\n",
              "       [5, 9, 6, 8, 8, 3]])"
            ]
          },
          "metadata": {},
          "execution_count": 89
        }
      ]
    },
    {
      "cell_type": "code",
      "source": [
        "arr1[2:5,0:2] # Slicing  it means it will provide u the continue manner like 0 and 1 index"
      ],
      "metadata": {
        "colab": {
          "base_uri": "https://localhost:8080/"
        },
        "id": "cPlRNnRBHzAs",
        "outputId": "927f4b33-8b16-4e15-bebc-03f5d6b65930"
      },
      "execution_count": 90,
      "outputs": [
        {
          "output_type": "execute_result",
          "data": {
            "text/plain": [
              "array([[9, 2],\n",
              "       [1, 1],\n",
              "       [5, 9]])"
            ]
          },
          "metadata": {},
          "execution_count": 90
        }
      ]
    },
    {
      "cell_type": "code",
      "source": [
        "arr1[2:5,[0,2]] # here we get the specific the index like 0 and 2 index"
      ],
      "metadata": {
        "colab": {
          "base_uri": "https://localhost:8080/"
        },
        "id": "3JVydAoxHzDW",
        "outputId": "821f1276-52f9-467f-dfef-37b4cec3a73b"
      },
      "execution_count": 91,
      "outputs": [
        {
          "output_type": "execute_result",
          "data": {
            "text/plain": [
              "array([[9, 1],\n",
              "       [1, 1],\n",
              "       [5, 6]])"
            ]
          },
          "metadata": {},
          "execution_count": 91
        }
      ]
    },
    {
      "cell_type": "code",
      "source": [
        "arr1[[2,4]] # here we get the specific Rows"
      ],
      "metadata": {
        "colab": {
          "base_uri": "https://localhost:8080/"
        },
        "id": "IrkGtc0jHzGd",
        "outputId": "fbd2b457-8b72-4953-d140-b5790209ef1f"
      },
      "execution_count": 93,
      "outputs": [
        {
          "output_type": "execute_result",
          "data": {
            "text/plain": [
              "array([[9, 2, 1, 4, 3, 4],\n",
              "       [5, 9, 6, 8, 8, 3]])"
            ]
          },
          "metadata": {},
          "execution_count": 93
        }
      ]
    },
    {
      "cell_type": "code",
      "source": [
        "arr1[2:4] # with the help we get the result in continuous manner"
      ],
      "metadata": {
        "colab": {
          "base_uri": "https://localhost:8080/"
        },
        "id": "nJgVGxAaHzJl",
        "outputId": "554c4ff0-8b4b-4cb0-fa33-a2ce7f2deeb9"
      },
      "execution_count": 95,
      "outputs": [
        {
          "output_type": "execute_result",
          "data": {
            "text/plain": [
              "array([[9, 2, 1, 4, 3, 4],\n",
              "       [1, 1, 1, 4, 5, 7]])"
            ]
          },
          "metadata": {},
          "execution_count": 95
        }
      ]
    },
    {
      "cell_type": "code",
      "source": [
        "arr1[2:4,[1,3]]"
      ],
      "metadata": {
        "colab": {
          "base_uri": "https://localhost:8080/"
        },
        "id": "D1r8UsgAHzMO",
        "outputId": "34c5d564-4475-45cd-e9b4-820c35e9669d"
      },
      "execution_count": 96,
      "outputs": [
        {
          "output_type": "execute_result",
          "data": {
            "text/plain": [
              "array([[2, 4],\n",
              "       [1, 4]])"
            ]
          },
          "metadata": {},
          "execution_count": 96
        }
      ]
    },
    {
      "cell_type": "code",
      "source": [
        "arr1 =np.random.randint(1,3,(3,3))\n",
        "arr2 =np.random.randint(1,3,(3,3))\n",
        "arr1\n",
        "arr2"
      ],
      "metadata": {
        "colab": {
          "base_uri": "https://localhost:8080/"
        },
        "id": "Lds7o9oZHzPA",
        "outputId": "f5607259-e477-455a-d49d-a9138fdd0127"
      },
      "execution_count": 107,
      "outputs": [
        {
          "output_type": "execute_result",
          "data": {
            "text/plain": [
              "array([[1, 1, 2],\n",
              "       [2, 1, 1],\n",
              "       [1, 1, 2]])"
            ]
          },
          "metadata": {},
          "execution_count": 107
        }
      ]
    },
    {
      "cell_type": "code",
      "source": [
        "arr1+arr2\n",
        "arr1-arr2\n",
        "arr1*arr2\n"
      ],
      "metadata": {
        "colab": {
          "base_uri": "https://localhost:8080/"
        },
        "id": "_cfTrh7iHzRt",
        "outputId": "9ca48026-ea41-4b7e-cdad-7d53e3264ece"
      },
      "execution_count": 108,
      "outputs": [
        {
          "output_type": "execute_result",
          "data": {
            "text/plain": [
              "array([[2, 1, 4],\n",
              "       [4, 2, 1],\n",
              "       [1, 2, 4]])"
            ]
          },
          "metadata": {},
          "execution_count": 108
        }
      ]
    },
    {
      "cell_type": "code",
      "source": [
        "# matrix multiplcation\n",
        "arr1 @ arr2\n",
        "\n",
        "#arr1 => M X N\n",
        "#arr 2 => P X Q\n",
        "\n",
        "# Matrix multiplication is only possible whenever we have N X P should be equal"
      ],
      "metadata": {
        "colab": {
          "base_uri": "https://localhost:8080/"
        },
        "id": "TMDpjN2CHzUL",
        "outputId": "72e37bb8-a507-484f-c256-930fe695723d"
      },
      "execution_count": 110,
      "outputs": [
        {
          "output_type": "execute_result",
          "data": {
            "text/plain": [
              "array([[6, 5, 9],\n",
              "       [7, 5, 8],\n",
              "       [7, 5, 8]])"
            ]
          },
          "metadata": {},
          "execution_count": 110
        }
      ]
    },
    {
      "cell_type": "code",
      "source": [
        "arr1 /arr2 # index wise dividation"
      ],
      "metadata": {
        "colab": {
          "base_uri": "https://localhost:8080/"
        },
        "id": "_T5a-5ohHzWx",
        "outputId": "7fdf126e-d30b-41a8-bd55-206e0a24827d"
      },
      "execution_count": 111,
      "outputs": [
        {
          "output_type": "execute_result",
          "data": {
            "text/plain": [
              "array([[2., 1., 1.],\n",
              "       [1., 2., 1.],\n",
              "       [1., 2., 1.]])"
            ]
          },
          "metadata": {},
          "execution_count": 111
        }
      ]
    },
    {
      "cell_type": "code",
      "source": [
        "arr1/0"
      ],
      "metadata": {
        "colab": {
          "base_uri": "https://localhost:8080/"
        },
        "id": "m0CR2VfQHzZk",
        "outputId": "428b04e8-8c05-4984-c19d-6eb92de9614e"
      },
      "execution_count": 112,
      "outputs": [
        {
          "output_type": "stream",
          "name": "stderr",
          "text": [
            "<ipython-input-112-2e1dc0d9289f>:1: RuntimeWarning: divide by zero encountered in divide\n",
            "  arr1/0\n"
          ]
        },
        {
          "output_type": "execute_result",
          "data": {
            "text/plain": [
              "array([[inf, inf, inf],\n",
              "       [inf, inf, inf],\n",
              "       [inf, inf, inf]])"
            ]
          },
          "metadata": {},
          "execution_count": 112
        }
      ]
    },
    {
      "cell_type": "code",
      "source": [
        "arr1"
      ],
      "metadata": {
        "colab": {
          "base_uri": "https://localhost:8080/"
        },
        "id": "PHeT0k9FHzcM",
        "outputId": "f6a9af60-d3b1-4f65-ecc4-d0fa43bbb55b"
      },
      "execution_count": 113,
      "outputs": [
        {
          "output_type": "execute_result",
          "data": {
            "text/plain": [
              "array([[2, 1, 2],\n",
              "       [2, 2, 1],\n",
              "       [1, 2, 2]])"
            ]
          },
          "metadata": {},
          "execution_count": 113
        }
      ]
    },
    {
      "cell_type": "code",
      "source": [
        "# Broadcasting the thing\n",
        "new =np.zeros((4,4))\n",
        "new"
      ],
      "metadata": {
        "colab": {
          "base_uri": "https://localhost:8080/"
        },
        "id": "rIne8XJ_Hze-",
        "outputId": "70e333af-1d79-4df4-9166-a5bfb4d99889"
      },
      "execution_count": 118,
      "outputs": [
        {
          "output_type": "execute_result",
          "data": {
            "text/plain": [
              "array([[0., 0., 0., 0.],\n",
              "       [0., 0., 0., 0.],\n",
              "       [0., 0., 0., 0.],\n",
              "       [0., 0., 0., 0.]])"
            ]
          },
          "metadata": {},
          "execution_count": 118
        }
      ]
    },
    {
      "cell_type": "code",
      "source": [
        "new1=np.array([1,2,3,4]) # we define the 4 column cause where we are using this in that place the 4 columns are there\n",
        "new1"
      ],
      "metadata": {
        "colab": {
          "base_uri": "https://localhost:8080/"
        },
        "id": "tkkIFMo7HziD",
        "outputId": "e740162e-1e31-42ae-8f0e-572d0fad29a7"
      },
      "execution_count": 123,
      "outputs": [
        {
          "output_type": "execute_result",
          "data": {
            "text/plain": [
              "array([1, 2, 3, 4])"
            ]
          },
          "metadata": {},
          "execution_count": 123
        }
      ]
    },
    {
      "cell_type": "code",
      "source": [
        "new + new1 # this will add new 1 array to the new array"
      ],
      "metadata": {
        "colab": {
          "base_uri": "https://localhost:8080/"
        },
        "id": "qStGXHtPrSN6",
        "outputId": "8a3ac728-e029-4db8-d1b8-482e6d4a29d4"
      },
      "execution_count": 129,
      "outputs": [
        {
          "output_type": "execute_result",
          "data": {
            "text/plain": [
              "array([[1., 2., 3., 4.],\n",
              "       [1., 2., 3., 4.],\n",
              "       [1., 2., 3., 4.],\n",
              "       [1., 2., 3., 4.]])"
            ]
          },
          "metadata": {},
          "execution_count": 129
        }
      ]
    },
    {
      "cell_type": "code",
      "source": [
        "# Transpose\n",
        "\n"
      ],
      "metadata": {
        "id": "c3S_IQQkr6hD"
      },
      "execution_count": null,
      "outputs": []
    },
    {
      "cell_type": "code",
      "source": [
        "np.sqrt(arr1)"
      ],
      "metadata": {
        "colab": {
          "base_uri": "https://localhost:8080/"
        },
        "id": "J8Xjg3zHHzku",
        "outputId": "0175ea57-c7d0-4fed-8661-e97f3f56cd62"
      },
      "execution_count": 126,
      "outputs": [
        {
          "output_type": "execute_result",
          "data": {
            "text/plain": [
              "array([[1.41421356, 1.        , 1.41421356],\n",
              "       [1.41421356, 1.41421356, 1.        ],\n",
              "       [1.        , 1.41421356, 1.41421356]])"
            ]
          },
          "metadata": {},
          "execution_count": 126
        }
      ]
    },
    {
      "cell_type": "code",
      "source": [],
      "metadata": {
        "id": "PHAZwS_mr5no"
      },
      "execution_count": null,
      "outputs": []
    },
    {
      "cell_type": "code",
      "source": [
        "np.max(arr1)"
      ],
      "metadata": {
        "colab": {
          "base_uri": "https://localhost:8080/"
        },
        "id": "_BVrkMesHznT",
        "outputId": "1322b6a3-5010-4183-a010-7e0996088976"
      },
      "execution_count": 127,
      "outputs": [
        {
          "output_type": "execute_result",
          "data": {
            "text/plain": [
              "2"
            ]
          },
          "metadata": {},
          "execution_count": 127
        }
      ]
    },
    {
      "cell_type": "code",
      "source": [
        "arr1.T"
      ],
      "metadata": {
        "colab": {
          "base_uri": "https://localhost:8080/"
        },
        "id": "VOhdnGslHzp7",
        "outputId": "50f2a603-1e91-454c-92c3-d92add6cd427"
      },
      "execution_count": 128,
      "outputs": [
        {
          "output_type": "execute_result",
          "data": {
            "text/plain": [
              "array([[2, 2, 1],\n",
              "       [1, 2, 2],\n",
              "       [2, 1, 2]])"
            ]
          },
          "metadata": {},
          "execution_count": 128
        }
      ]
    },
    {
      "cell_type": "code",
      "source": [
        "#expand_dims >> expands the array by inserting  a new axis\n",
        "#use case -> it helps in image processing\n",
        "# axis =0 means rows\n",
        "# axis =1 means column\n",
        "arr=np.array([[1,2,3],[4,5,6],[1,2,3]])\n",
        "arr"
      ],
      "metadata": {
        "colab": {
          "base_uri": "https://localhost:8080/"
        },
        "id": "TaqJm3wrHzsl",
        "outputId": "23cfbf90-d2ab-4390-8739-7d1b7204ab2b"
      },
      "execution_count": 134,
      "outputs": [
        {
          "output_type": "execute_result",
          "data": {
            "text/plain": [
              "array([[1, 2, 3],\n",
              "       [4, 5, 6],\n",
              "       [1, 2, 3]])"
            ]
          },
          "metadata": {},
          "execution_count": 134
        }
      ]
    },
    {
      "cell_type": "code",
      "source": [
        "np.sum(arr)"
      ],
      "metadata": {
        "colab": {
          "base_uri": "https://localhost:8080/"
        },
        "id": "p_EvR4nfHzvX",
        "outputId": "3fb98eab-53da-4177-9dbc-4f8e07560e7c"
      },
      "execution_count": 135,
      "outputs": [
        {
          "output_type": "execute_result",
          "data": {
            "text/plain": [
              "27"
            ]
          },
          "metadata": {},
          "execution_count": 135
        }
      ]
    },
    {
      "cell_type": "code",
      "source": [
        "np.sum(arr,axis=0) # witb the help the sum is comming in the row  wise\n",
        "#1+4+1 ->6\n",
        "#2+5+2 ->9\n",
        "#3+6+3 ->12"
      ],
      "metadata": {
        "colab": {
          "base_uri": "https://localhost:8080/"
        },
        "id": "MNiz7BzCHzyL",
        "outputId": "d58f3707-a6e5-4eae-cab7-9d0fc8d4a867"
      },
      "execution_count": 136,
      "outputs": [
        {
          "output_type": "execute_result",
          "data": {
            "text/plain": [
              "array([ 6,  9, 12])"
            ]
          },
          "metadata": {},
          "execution_count": 136
        }
      ]
    },
    {
      "cell_type": "code",
      "source": [
        "np.sum(arr,axis=1)# witb the help the sum is comming in the column  wise\n",
        "#1+2+3 ->6\n",
        "#4+5+6 ->15\n",
        "#1+2+3 ->6"
      ],
      "metadata": {
        "colab": {
          "base_uri": "https://localhost:8080/"
        },
        "id": "FmqqOAB4Hz1q",
        "outputId": "acc9f2a0-922f-4d13-b79b-a0900b5aab26"
      },
      "execution_count": 138,
      "outputs": [
        {
          "output_type": "execute_result",
          "data": {
            "text/plain": [
              "array([ 6, 15,  6])"
            ]
          },
          "metadata": {},
          "execution_count": 138
        }
      ]
    },
    {
      "cell_type": "code",
      "source": [
        "new_array=np.array([1,2,3,4])\n",
        "new_array"
      ],
      "metadata": {
        "colab": {
          "base_uri": "https://localhost:8080/"
        },
        "id": "QvdqyShQucCw",
        "outputId": "7f5708e8-1d9a-462c-9281-b2501d5b4206"
      },
      "execution_count": 141,
      "outputs": [
        {
          "output_type": "execute_result",
          "data": {
            "text/plain": [
              "array([1, 2, 3, 4])"
            ]
          },
          "metadata": {},
          "execution_count": 141
        }
      ]
    },
    {
      "cell_type": "code",
      "source": [
        "# Whatever array u passed in that it will add 1 dimension\n",
        "# if it is 1 then 2 or if it is 2 it will be 3\n",
        "# so here row wise dimension increase\n",
        "new_array1=np.expand_dims(new_array,axis=0)\n",
        "new_array1"
      ],
      "metadata": {
        "colab": {
          "base_uri": "https://localhost:8080/"
        },
        "id": "VzPsLLs8ukPQ",
        "outputId": "2422671a-f90b-4161-8c5e-228045e02017"
      },
      "execution_count": 143,
      "outputs": [
        {
          "output_type": "execute_result",
          "data": {
            "text/plain": [
              "array([[1, 2, 3, 4]])"
            ]
          },
          "metadata": {},
          "execution_count": 143
        }
      ]
    },
    {
      "cell_type": "code",
      "source": [
        "new_array2=np.expand_dims(new_array1,axis=0)\n",
        "new_array2"
      ],
      "metadata": {
        "colab": {
          "base_uri": "https://localhost:8080/"
        },
        "id": "Y7zOKE2XukSm",
        "outputId": "38e17cdd-8d90-4fa6-8bb0-627c96930dff"
      },
      "execution_count": 144,
      "outputs": [
        {
          "output_type": "execute_result",
          "data": {
            "text/plain": [
              "array([[[1, 2, 3, 4]]])"
            ]
          },
          "metadata": {},
          "execution_count": 144
        }
      ]
    },
    {
      "cell_type": "code",
      "source": [
        "test1=np.zeros((3,4))\n",
        "test1"
      ],
      "metadata": {
        "colab": {
          "base_uri": "https://localhost:8080/"
        },
        "id": "BV8H3wCiukWJ",
        "outputId": "bb62a48f-d31e-45db-b9ad-acd7a9d45c2c"
      },
      "execution_count": 147,
      "outputs": [
        {
          "output_type": "execute_result",
          "data": {
            "text/plain": [
              "array([[0., 0., 0., 0.],\n",
              "       [0., 0., 0., 0.],\n",
              "       [0., 0., 0., 0.]])"
            ]
          },
          "metadata": {},
          "execution_count": 147
        }
      ]
    },
    {
      "cell_type": "code",
      "source": [
        "test2=np.expand_dims(test1,axis=1)\n",
        "test2"
      ],
      "metadata": {
        "colab": {
          "base_uri": "https://localhost:8080/"
        },
        "id": "f-4XxV3pukZc",
        "outputId": "e4be83bb-242b-4e48-e34a-0a3e9589298c"
      },
      "execution_count": 148,
      "outputs": [
        {
          "output_type": "execute_result",
          "data": {
            "text/plain": [
              "array([[[0., 0., 0., 0.]],\n",
              "\n",
              "       [[0., 0., 0., 0.]],\n",
              "\n",
              "       [[0., 0., 0., 0.]]])"
            ]
          },
          "metadata": {},
          "execution_count": 148
        }
      ]
    },
    {
      "cell_type": "code",
      "source": [],
      "metadata": {
        "id": "D-HfZgVuukfF"
      },
      "execution_count": null,
      "outputs": []
    },
    {
      "cell_type": "code",
      "source": [],
      "metadata": {
        "id": "6ZmisIQxukiP"
      },
      "execution_count": null,
      "outputs": []
    }
  ]
}