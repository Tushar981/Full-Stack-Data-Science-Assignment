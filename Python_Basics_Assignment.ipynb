{
  "nbformat": 4,
  "nbformat_minor": 0,
  "metadata": {
    "colab": {
      "provenance": [],
      "authorship_tag": "ABX9TyM6bodELSd3uNRck7wu7kBz"
    },
    "kernelspec": {
      "name": "python3",
      "display_name": "Python 3"
    },
    "language_info": {
      "name": "python"
    }
  },
  "cells": [
    {
      "cell_type": "markdown",
      "source": [
        "**TOPIC: Python Basics Variable**"
      ],
      "metadata": {
        "id": "w6AW7JTL38C8"
      }
    },
    {
      "cell_type": "markdown",
      "source": [
        "1. Declare two variables, `x` and `y`, and assign them integer values. Swap the\n",
        "values of these variables without using any temporary variable."
      ],
      "metadata": {
        "id": "EcwUceUL958o"
      }
    },
    {
      "cell_type": "code",
      "execution_count": 11,
      "metadata": {
        "colab": {
          "base_uri": "https://localhost:8080/"
        },
        "id": "qz083Jj_0Rnw",
        "outputId": "601e6ae4-742d-469a-bac5-e86b3e0cd7f8"
      },
      "outputs": [
        {
          "output_type": "stream",
          "name": "stdout",
          "text": [
            "10 20\n",
            "20 10\n"
          ]
        }
      ],
      "source": [
        "x=10\n",
        "y=20\n",
        "print(x,y)\n",
        "x,y=y,x\n",
        "print(x,y)"
      ]
    },
    {
      "cell_type": "markdown",
      "source": [
        "2. Create a program that calculates the area of a rectangle. Take the length and\n",
        "width as inputs from the user and store them in variables. Calculate and\n",
        "display the area."
      ],
      "metadata": {
        "id": "ZPXOsH-w97AK"
      }
    },
    {
      "cell_type": "code",
      "source": [
        "length=int(input(\"Length =\"))\n",
        "width=int(input(\"Width =\"))\n",
        "calc=2*(length+width)\n",
        "print(\"Area of Rectangle is = \"+str(calc) )"
      ],
      "metadata": {
        "colab": {
          "base_uri": "https://localhost:8080/"
        },
        "id": "5wKnStQ60t2f",
        "outputId": "5010cbde-fa1b-4ed0-cb07-8923ea908947"
      },
      "execution_count": 17,
      "outputs": [
        {
          "output_type": "stream",
          "name": "stdout",
          "text": [
            "Length =10\n",
            "Width =20\n",
            "Area of Rectangle is = 60\n"
          ]
        }
      ]
    },
    {
      "cell_type": "markdown",
      "source": [
        "3. Write a Python program that converts temperatures from Celsius to\n",
        "Fahrenheit. Take the temperature in Celsius as input, store it in a variable,\n",
        "convert it to Fahrenheit, and display the result."
      ],
      "metadata": {
        "id": "wgHZAN6S907p"
      }
    },
    {
      "cell_type": "code",
      "source": [
        "CTemp=int(input(\"Enter temprature in Celsius = \"))\n",
        "FTemp=CTemp*(9/5)+32\n",
        "print(\"Temprature converted into Fahrenheit =\"+str(FTemp))"
      ],
      "metadata": {
        "colab": {
          "base_uri": "https://localhost:8080/"
        },
        "id": "6Qrbx9Yn0uDS",
        "outputId": "ee3fb153-b5b8-4a76-e0eb-f5bf11fa015a"
      },
      "execution_count": 20,
      "outputs": [
        {
          "output_type": "stream",
          "name": "stdout",
          "text": [
            "Enter temprature in Celsius = 32\n",
            "Temprature converted into Fahrenheit =89.6\n"
          ]
        }
      ]
    },
    {
      "cell_type": "markdown",
      "source": [
        "**TOPIC: String Based Questions**"
      ],
      "metadata": {
        "id": "mStOkEjR3cuE"
      }
    },
    {
      "cell_type": "markdown",
      "source": [
        "1. Write a Python program that takes a string as input and prints the length of\n",
        "the string."
      ],
      "metadata": {
        "id": "qQghVfs89xDW"
      }
    },
    {
      "cell_type": "code",
      "source": [
        "string=input(\"Enter a string =\")\n",
        "print(len(string))"
      ],
      "metadata": {
        "colab": {
          "base_uri": "https://localhost:8080/"
        },
        "id": "1GqOxiJU0uI_",
        "outputId": "d6aa4527-501e-4757-8b48-d8bc3af5bc6a"
      },
      "execution_count": 21,
      "outputs": [
        {
          "output_type": "stream",
          "name": "stdout",
          "text": [
            "Enter a string =Tushar Gupta\n",
            "12\n"
          ]
        }
      ]
    },
    {
      "cell_type": "markdown",
      "source": [
        "2. Create a program that takes a sentence from the user and counts the number\n",
        "of vowels (a, e, i, o, u) in the string."
      ],
      "metadata": {
        "id": "VuDJky0h9vjm"
      }
    },
    {
      "cell_type": "code",
      "source": [
        "string=input(\"Enter a string =\")\n",
        "count =0\n",
        "for i in string:\n",
        "  if (i in (\"a\", \"e\", \"i\", \"o\", \"u\")):\n",
        "    count =count +1\n",
        "print(\"Number of vowels = \" + str(count))"
      ],
      "metadata": {
        "colab": {
          "base_uri": "https://localhost:8080/"
        },
        "id": "qmoui5-d3f9Q",
        "outputId": "f6ae97b9-650b-4015-a475-547cf70e3e83"
      },
      "execution_count": 25,
      "outputs": [
        {
          "output_type": "stream",
          "name": "stdout",
          "text": [
            "Enter a string =alphabet\n",
            "Number of vowels = 3\n"
          ]
        }
      ]
    },
    {
      "cell_type": "markdown",
      "source": [
        "3. Given a string, reverse the order of characters using string slicing and print\n",
        "the reversed string."
      ],
      "metadata": {
        "id": "nc-2O8CQ9oq0"
      }
    },
    {
      "cell_type": "code",
      "source": [
        "string=input(\"Enter a string =\")\n",
        "print(\"Reverse Order : \"+string[::-1])"
      ],
      "metadata": {
        "colab": {
          "base_uri": "https://localhost:8080/"
        },
        "id": "J7LaRLLZ0uL2",
        "outputId": "60e2cdc1-9ddf-4fa7-892e-0f1e5d3f0ca2"
      },
      "execution_count": 26,
      "outputs": [
        {
          "output_type": "stream",
          "name": "stdout",
          "text": [
            "Enter a string =pwskills\n",
            "Reverse Order : sllikswp\n"
          ]
        }
      ]
    },
    {
      "cell_type": "markdown",
      "source": [
        "4. Write a program that takes a string as input and checks if it is a palindrome\n",
        "(reads the same forwards and backwards).\n"
      ],
      "metadata": {
        "id": "D0zXthkf9f-k"
      }
    },
    {
      "cell_type": "code",
      "source": [
        "string=input(\"Enter a string =\")\n",
        "revstring=string[::-1]\n",
        "if(string.lower()==revstring.lower()):\n",
        "  print(\"It is a Palindrome String\")\n",
        "else:\n",
        "  print(\"No it is not a Palindrome String\")"
      ],
      "metadata": {
        "colab": {
          "base_uri": "https://localhost:8080/"
        },
        "id": "taf_9Myy0uOi",
        "outputId": "184c89f6-3450-4213-9c11-8d78023da9d6"
      },
      "execution_count": 37,
      "outputs": [
        {
          "output_type": "stream",
          "name": "stdout",
          "text": [
            "Enter a string =Naman\n",
            "It is a Palindrome String\n"
          ]
        }
      ]
    },
    {
      "cell_type": "markdown",
      "source": [
        "5. Create a program that takes a string as input and removes all the spaces from\n",
        "it. Print the modified string without spaces."
      ],
      "metadata": {
        "id": "nimCbid09aZM"
      }
    },
    {
      "cell_type": "code",
      "source": [
        "string=input(\"Enter a string =\")\n",
        "string=string.replace(\" \",\"\")\n",
        "print(string.strip())"
      ],
      "metadata": {
        "colab": {
          "base_uri": "https://localhost:8080/"
        },
        "id": "K8LOL2Cg0uRU",
        "outputId": "34bf3b5b-37ed-482d-ea14-3791d161277e"
      },
      "execution_count": 40,
      "outputs": [
        {
          "output_type": "stream",
          "name": "stdout",
          "text": [
            "Enter a string =     alpha beta         \n",
            "alphabeta\n"
          ]
        }
      ]
    }
  ]
}