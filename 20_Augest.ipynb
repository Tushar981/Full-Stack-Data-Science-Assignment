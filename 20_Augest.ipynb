{
  "cells": [
    {
      "cell_type": "markdown",
      "metadata": {
        "id": "view-in-github",
        "colab_type": "text"
      },
      "source": [
        "<a href=\"https://colab.research.google.com/github/Tushar981/Full-Stack-Data-Science-Assignment/blob/main/20_Augest.ipynb\" target=\"_parent\"><img src=\"https://colab.research.google.com/assets/colab-badge.svg\" alt=\"Open In Colab\"/></a>"
      ]
    },
    {
      "cell_type": "markdown",
      "metadata": {
        "id": "jNX5Z0sxQiyb"
      },
      "source": [
        "**String Based Assignment Problem**"
      ]
    },
    {
      "cell_type": "markdown",
      "source": [
        "1. Write a program to reverse a string."
      ],
      "metadata": {
        "id": "_Gjm5paka8mq"
      }
    },
    {
      "cell_type": "code",
      "execution_count": null,
      "metadata": {
        "colab": {
          "base_uri": "https://localhost:8080/"
        },
        "id": "X9GgOdxMQ66v",
        "outputId": "103e7750-be2a-4a19-bdc0-257a82e2cf0c"
      },
      "outputs": [
        {
          "name": "stdout",
          "output_type": "stream",
          "text": [
            "rahsuT\n"
          ]
        }
      ],
      "source": [
        "str1=\"Tushar\"\n",
        "print(str1[::-1])"
      ]
    },
    {
      "cell_type": "markdown",
      "source": [
        "2. Check if a string is a palindrome."
      ],
      "metadata": {
        "id": "30W-XxsPbAc-"
      }
    },
    {
      "cell_type": "code",
      "execution_count": null,
      "metadata": {
        "colab": {
          "base_uri": "https://localhost:8080/"
        },
        "id": "04x-guupQ6-B",
        "outputId": "77977d4a-19ea-4962-a6a7-9366d1656113"
      },
      "outputs": [
        {
          "name": "stdout",
          "output_type": "stream",
          "text": [
            "String is not Palindrome\n"
          ]
        }
      ],
      "source": [
        "str2=\"Tushar\"\n",
        "revstr=str2[::-1]\n",
        "if (str2.lower()==revstr.lower()):\n",
        "  print(\"String is Palindrome\")\n",
        "else:\n",
        "  print(\"String is not Palindrome\")"
      ]
    },
    {
      "cell_type": "markdown",
      "source": [
        "3. Convert a string to uppercase."
      ],
      "metadata": {
        "id": "dV0n1h3JbDCk"
      }
    },
    {
      "cell_type": "code",
      "execution_count": null,
      "metadata": {
        "colab": {
          "base_uri": "https://localhost:8080/"
        },
        "id": "mey7Sr1jQ7F3",
        "outputId": "da74842b-0b72-44f3-fe22-4c5a3404fe55"
      },
      "outputs": [
        {
          "name": "stdout",
          "output_type": "stream",
          "text": [
            "TUSHAR\n"
          ]
        }
      ],
      "source": [
        "str3=\"Tushar\"\n",
        "print(str3.upper())"
      ]
    },
    {
      "cell_type": "markdown",
      "source": [
        "4. Convert a string to lowercase."
      ],
      "metadata": {
        "id": "tevcQsP_bKAV"
      }
    },
    {
      "cell_type": "code",
      "execution_count": null,
      "metadata": {
        "colab": {
          "base_uri": "https://localhost:8080/"
        },
        "id": "KfTQGmIHQ7Iu",
        "outputId": "ba6089ac-8561-40a9-d5ac-7540e7ac3caf"
      },
      "outputs": [
        {
          "name": "stdout",
          "output_type": "stream",
          "text": [
            "tushar\n"
          ]
        }
      ],
      "source": [
        "str4=\"Tushar\"\n",
        "print(str3.lower())"
      ]
    },
    {
      "cell_type": "markdown",
      "source": [
        "5. Count the number of vowels in a string."
      ],
      "metadata": {
        "id": "LjIgaaGubOvD"
      }
    },
    {
      "cell_type": "code",
      "execution_count": null,
      "metadata": {
        "colab": {
          "base_uri": "https://localhost:8080/"
        },
        "id": "lHnYf25NQ7LU",
        "outputId": "af8ab4db-b7d4-4b59-f415-15334fa4c4dc"
      },
      "outputs": [
        {
          "name": "stdout",
          "output_type": "stream",
          "text": [
            "2\n"
          ]
        }
      ],
      "source": [
        "str5=\"Tushar\"\n",
        "count =0\n",
        "for i in str5:\n",
        "  if i in [\"a\",\"e\",\"i\",\"o\",\"u\"]:\n",
        "    count=count+1;\n",
        "print(count)\n"
      ]
    },
    {
      "cell_type": "markdown",
      "source": [
        "6. Count the number of consonants in a string."
      ],
      "metadata": {
        "id": "n9N5A9JzbR65"
      }
    },
    {
      "cell_type": "code",
      "execution_count": null,
      "metadata": {
        "colab": {
          "base_uri": "https://localhost:8080/"
        },
        "id": "a0Xlj5LTQ7Nu",
        "outputId": "fb485ab9-d0dc-4e9c-bb7f-eb908b558836"
      },
      "outputs": [
        {
          "name": "stdout",
          "output_type": "stream",
          "text": [
            "4\n"
          ]
        }
      ],
      "source": [
        "str6=\"Tushar\"\n",
        "count =0\n",
        "for i  in str5:\n",
        "  if i not in [\"a\",\"e\",\"i\",\"o\",\"u\"]:\n",
        "    count=count+1;\n",
        "print(count)"
      ]
    },
    {
      "cell_type": "markdown",
      "source": [
        "7. Remove all whitespaces from a string."
      ],
      "metadata": {
        "id": "BVOTAJLnbU1T"
      }
    },
    {
      "cell_type": "code",
      "execution_count": null,
      "metadata": {
        "colab": {
          "base_uri": "https://localhost:8080/"
        },
        "id": "I-Dhh39ZQ7RQ",
        "outputId": "32e1ebb4-716f-4d39-d0fd-673568f253af"
      },
      "outputs": [
        {
          "name": "stdout",
          "output_type": "stream",
          "text": [
            "Tushar\n"
          ]
        }
      ],
      "source": [
        "str7=\"         Tus       har      \"\n",
        "str7=str7.replace(\" \",\"\")\n",
        "print(str7.strip())"
      ]
    },
    {
      "cell_type": "markdown",
      "source": [
        "8. Find the length of a string without using the `len()` function."
      ],
      "metadata": {
        "id": "8RWCNMdNbY4Z"
      }
    },
    {
      "cell_type": "code",
      "execution_count": null,
      "metadata": {
        "colab": {
          "base_uri": "https://localhost:8080/"
        },
        "id": "R_0pzGYeV9Kz",
        "outputId": "9cab4db4-ae03-4181-af4a-59f0838eebfc"
      },
      "outputs": [
        {
          "name": "stdout",
          "output_type": "stream",
          "text": [
            "6\n"
          ]
        }
      ],
      "source": [
        "str8=\"Tushar\"\n",
        "count=0\n",
        "for i in str8:\n",
        "  count=count+1\n",
        "print(count)"
      ]
    },
    {
      "cell_type": "markdown",
      "source": [
        "9. Check if a string contains a specific word."
      ],
      "metadata": {
        "id": "m35IfiLlbcxr"
      }
    },
    {
      "cell_type": "code",
      "execution_count": null,
      "metadata": {
        "colab": {
          "base_uri": "https://localhost:8080/"
        },
        "id": "XMI6vwa5V9NV",
        "outputId": "7e8e7a0c-3c5b-483c-8b24-375630d8fc9e"
      },
      "outputs": [
        {
          "name": "stdout",
          "output_type": "stream",
          "text": [
            "String contain specific word\n"
          ]
        }
      ],
      "source": [
        "str9=\"Pwskills\"\n",
        "str=\"skill\"\n",
        "if(str in str9):\n",
        "  print(\"String contain specific word\")\n",
        "else:\n",
        "  print(\"No String does not contain specific word\")"
      ]
    },
    {
      "cell_type": "markdown",
      "source": [
        "10. Replace a word in a string with another word."
      ],
      "metadata": {
        "id": "xkdaA7VibgL6"
      }
    },
    {
      "cell_type": "code",
      "execution_count": null,
      "metadata": {
        "colab": {
          "base_uri": "https://localhost:8080/"
        },
        "id": "B1byBCjbV9QG",
        "outputId": "db1dd635-41b7-4ab8-f809-a433d3061492"
      },
      "outputs": [
        {
          "name": "stdout",
          "output_type": "stream",
          "text": [
            "Pwskills\n"
          ]
        }
      ],
      "source": [
        "str10=\"Pwskill\"\n",
        "print(str10.replace(\"skill\",\"skills\"))"
      ]
    },
    {
      "cell_type": "markdown",
      "source": [
        "11. Count the occurrences of a word in a string."
      ],
      "metadata": {
        "id": "wVQdDMhcbjal"
      }
    },
    {
      "cell_type": "code",
      "execution_count": null,
      "metadata": {
        "colab": {
          "base_uri": "https://localhost:8080/"
        },
        "id": "0hugQzR4V9Sr",
        "outputId": "087c3100-c5eb-4866-ab0f-98220f51c105"
      },
      "outputs": [
        {
          "name": "stdout",
          "output_type": "stream",
          "text": [
            "2\n"
          ]
        }
      ],
      "source": [
        "str11=\"This sentance is for testing  purpose and this sentance will not going to hurt any one !\"\n",
        "temp =\"sentance\"\n",
        "count=str11.count(temp)\n",
        "print(count)\n",
        "\n",
        "\n"
      ]
    },
    {
      "cell_type": "code",
      "execution_count": null,
      "metadata": {
        "colab": {
          "base_uri": "https://localhost:8080/",
          "height": 210
        },
        "id": "Gkko720gV9VS",
        "outputId": "f0db4891-40ec-4431-8f97-6603bdef071e"
      },
      "outputs": [
        {
          "ename": "TypeError",
          "evalue": "ignored",
          "output_type": "error",
          "traceback": [
            "\u001b[0;31m---------------------------------------------------------------------------\u001b[0m",
            "\u001b[0;31mTypeError\u001b[0m                                 Traceback (most recent call last)",
            "\u001b[0;32m<ipython-input-57-fcec0884fd5d>\u001b[0m in \u001b[0;36m<cell line: 5>\u001b[0;34m()\u001b[0m\n\u001b[1;32m      5\u001b[0m \u001b[0;32mfor\u001b[0m \u001b[0mi\u001b[0m \u001b[0;32min\u001b[0m \u001b[0mtemp\u001b[0m\u001b[0;34m:\u001b[0m\u001b[0;34m\u001b[0m\u001b[0;34m\u001b[0m\u001b[0m\n\u001b[1;32m      6\u001b[0m     \u001b[0mchar_count\u001b[0m \u001b[0;34m=\u001b[0m \u001b[0mtemp\u001b[0m\u001b[0;34m.\u001b[0m\u001b[0mcount\u001b[0m\u001b[0;34m(\u001b[0m\u001b[0mi\u001b[0m\u001b[0;34m)\u001b[0m\u001b[0;34m\u001b[0m\u001b[0;34m\u001b[0m\u001b[0m\n\u001b[0;32m----> 7\u001b[0;31m     \u001b[0mprint\u001b[0m\u001b[0;34m(\u001b[0m\u001b[0mi\u001b[0m \u001b[0;34m+\u001b[0m \u001b[0;34m\" = \"\u001b[0m \u001b[0;34m+\u001b[0m \u001b[0mstr\u001b[0m\u001b[0;34m(\u001b[0m\u001b[0mchar_count\u001b[0m\u001b[0;34m)\u001b[0m\u001b[0;34m)\u001b[0m\u001b[0;34m\u001b[0m\u001b[0;34m\u001b[0m\u001b[0m\n\u001b[0m",
            "\u001b[0;31mTypeError\u001b[0m: 'str' object is not callable"
          ]
        }
      ],
      "source": [
        "# str11 = \"TusharGupta\"\n",
        "# temp = str11.lower()\n",
        "\n",
        "# # Using a different variable name to avoid confusion with count\n",
        "# for i in temp:\n",
        "#     char_count = temp.count(i)\n",
        "#     print(i + \" = \" + str(char_count))\n"
      ]
    },
    {
      "cell_type": "markdown",
      "source": [
        "12. Find the first occurrence of a word in a string."
      ],
      "metadata": {
        "id": "95mFH2NmbncM"
      }
    },
    {
      "cell_type": "code",
      "execution_count": null,
      "metadata": {
        "colab": {
          "base_uri": "https://localhost:8080/"
        },
        "id": "A8nOa8w_V9X2",
        "outputId": "69dd62ae-d96f-4d20-e195-07b3cb1bf6ed"
      },
      "outputs": [
        {
          "name": "stdout",
          "output_type": "stream",
          "text": [
            "5\n"
          ]
        }
      ],
      "source": [
        "str12=\"This sentance is for testing  purpose and this sentance will not going to hurt any one !\"\n",
        "temp =\"sen\"\n",
        "index_occurances=str12.find(temp)\n",
        "print(index_occurances)"
      ]
    },
    {
      "cell_type": "markdown",
      "source": [
        "13. Find the last occurrence of a word in a string."
      ],
      "metadata": {
        "id": "NI0WJEjjbq1C"
      }
    },
    {
      "cell_type": "code",
      "execution_count": null,
      "metadata": {
        "colab": {
          "base_uri": "https://localhost:8080/"
        },
        "id": "3IyQecTpV9bL",
        "outputId": "5b77a7f0-1530-462f-f4eb-3a07dbee40d3"
      },
      "outputs": [
        {
          "name": "stdout",
          "output_type": "stream",
          "text": [
            "47\n"
          ]
        }
      ],
      "source": [
        "str13=\"This sentance is for testing  purpose and this sentance will not going to hurt any one !\"\n",
        "temp =\"sen\"\n",
        "index_occurances=str13.rfind(temp)\n",
        "print(index_occurances)"
      ]
    },
    {
      "cell_type": "markdown",
      "source": [
        "14. Split a string into a list of words."
      ],
      "metadata": {
        "id": "8WKyimBLbuQS"
      }
    },
    {
      "cell_type": "code",
      "execution_count": null,
      "metadata": {
        "colab": {
          "base_uri": "https://localhost:8080/"
        },
        "id": "WrWg2qUOQBHp",
        "outputId": "351cf623-3c2f-4bf8-8789-26f963a6e385"
      },
      "outputs": [
        {
          "data": {
            "text/plain": [
              "['T', 'u', 's', 'h', 'a', 'r']"
            ]
          },
          "execution_count": 75,
          "metadata": {},
          "output_type": "execute_result"
        }
      ],
      "source": [
        "list14=[]\n",
        "string14=\"Tushar\"\n",
        "list14.extend(string14)\n",
        "list14\n"
      ]
    },
    {
      "cell_type": "markdown",
      "source": [
        "15. Join a list of words into a string."
      ],
      "metadata": {
        "id": "kPAvjHknb2FR"
      }
    },
    {
      "cell_type": "code",
      "execution_count": null,
      "metadata": {
        "colab": {
          "base_uri": "https://localhost:8080/",
          "height": 36
        },
        "id": "bX17sxDUQBKf",
        "outputId": "2c745070-60b2-4845-b47f-46e6bdf06488"
      },
      "outputs": [
        {
          "data": {
            "application/vnd.google.colaboratory.intrinsic+json": {
              "type": "string"
            },
            "text/plain": [
              "'Alpha beta ceta delta '"
            ]
          },
          "execution_count": 81,
          "metadata": {},
          "output_type": "execute_result"
        }
      ],
      "source": [
        "list15=[\"Alpha\",\"beta\",\"ceta\",\"delta\"]\n",
        "str15=\"\"\n",
        "for x in list15:\n",
        "  str15=str15+x+\" \"\n",
        "\n",
        "str15"
      ]
    },
    {
      "cell_type": "markdown",
      "metadata": {
        "id": "8GqftYZaVCgr"
      },
      "source": [
        "16. Convert a string where words are separated by spaces to one where words\n",
        "are separated by underscores."
      ]
    },
    {
      "cell_type": "code",
      "execution_count": null,
      "metadata": {
        "colab": {
          "base_uri": "https://localhost:8080/"
        },
        "id": "9GWY-q1wQBNh",
        "outputId": "11a92982-03b8-4755-a2a7-26df787c4e89"
      },
      "outputs": [
        {
          "name": "stdout",
          "output_type": "stream",
          "text": [
            "This_is_sample_string\n"
          ]
        }
      ],
      "source": [
        "string16=\"This is sample string\"\n",
        "print(string16.replace(\" \",\"_\"))"
      ]
    },
    {
      "cell_type": "markdown",
      "source": [
        "17. Check if a string starts with a specific word or phrase."
      ],
      "metadata": {
        "id": "v5ndIN57fxRc"
      }
    },
    {
      "cell_type": "code",
      "execution_count": null,
      "metadata": {
        "colab": {
          "base_uri": "https://localhost:8080/"
        },
        "id": "DquH2JsHQBQ8",
        "outputId": "9f09b999-0960-4090-e7e9-9da490b4e57a"
      },
      "outputs": [
        {
          "name": "stdout",
          "output_type": "stream",
          "text": [
            "yes\n"
          ]
        }
      ],
      "source": [
        "string17='''The world is so full\n",
        "of a number of things,\n",
        "I'm sure we should all\n",
        "be as happy as kings. '''\n",
        "word17=\"The\"\n",
        "if string17.startswith(word17):\n",
        "  print(\"yes\")\n",
        "else:\n",
        "  print(\"No\")"
      ]
    },
    {
      "cell_type": "markdown",
      "source": [
        "18. Check if a string ends with a specific word or phrase."
      ],
      "metadata": {
        "id": "C10V43KEf2rx"
      }
    },
    {
      "cell_type": "code",
      "execution_count": null,
      "metadata": {
        "colab": {
          "base_uri": "https://localhost:8080/"
        },
        "id": "hG6vAY38WyS3",
        "outputId": "760e7409-a938-4f06-b2e2-24b8d9118d9f"
      },
      "outputs": [
        {
          "name": "stdout",
          "output_type": "stream",
          "text": [
            "yes\n"
          ]
        }
      ],
      "source": [
        "string18='''The world is so full\n",
        "of a number of things,\n",
        "I'm sure we should all\n",
        "be as happy as kings'''\n",
        "word18=\"kings\"\n",
        "if string18.endswith(word18):\n",
        "  print(\"yes\")\n",
        "else:\n",
        "  print(\"No\")"
      ]
    },
    {
      "cell_type": "markdown",
      "source": [
        "19. Convert a string to title case (e.g., \"hello world\" to \"Hello World\")."
      ],
      "metadata": {
        "id": "jJHa1IXkf-yz"
      }
    },
    {
      "cell_type": "code",
      "execution_count": null,
      "metadata": {
        "colab": {
          "base_uri": "https://localhost:8080/"
        },
        "id": "pBxcER64WyVW",
        "outputId": "f910545e-4b08-46d8-89b9-0fb019e8acee"
      },
      "outputs": [
        {
          "name": "stdout",
          "output_type": "stream",
          "text": [
            "Hello World\n"
          ]
        }
      ],
      "source": [
        "string19=\"hello world\"\n",
        "print(string19.title())"
      ]
    },
    {
      "cell_type": "markdown",
      "source": [
        "20. Find the longest word in a string."
      ],
      "metadata": {
        "id": "tvI-JmscgCkk"
      }
    },
    {
      "cell_type": "code",
      "execution_count": null,
      "metadata": {
        "colab": {
          "base_uri": "https://localhost:8080/"
        },
        "id": "PMwq9VoAWyX5",
        "outputId": "3d8f4dc8-db5f-4d91-80fd-349760237297"
      },
      "outputs": [
        {
          "name": "stdout",
          "output_type": "stream",
          "text": [
            "phenomenals\n"
          ]
        }
      ],
      "source": [
        "string20=\"this is a phenomenal activity is going on phenomenals\"\n",
        "print(max(string20.split(\" \"),key=len))"
      ]
    },
    {
      "cell_type": "markdown",
      "source": [
        "21. Find the shortest word in a string."
      ],
      "metadata": {
        "id": "bIB5Vve3gGF8"
      }
    },
    {
      "cell_type": "code",
      "execution_count": null,
      "metadata": {
        "colab": {
          "base_uri": "https://localhost:8080/"
        },
        "id": "tFetbNjKWyaT",
        "outputId": "a460072f-9a05-4713-9470-fda0882e31ed"
      },
      "outputs": [
        {
          "name": "stdout",
          "output_type": "stream",
          "text": [
            "a\n"
          ]
        }
      ],
      "source": [
        "string21=\"this is a phenomenal activity is going on phenomenals\"\n",
        "print(min(string21.split(\" \"),key=len))"
      ]
    },
    {
      "cell_type": "markdown",
      "source": [
        "22. Reverse the order of words in a string."
      ],
      "metadata": {
        "id": "j4rqxeOfgHUB"
      }
    },
    {
      "cell_type": "code",
      "execution_count": null,
      "metadata": {
        "colab": {
          "base_uri": "https://localhost:8080/"
        },
        "id": "Sz81IIZCWydz",
        "outputId": "0a713040-80eb-4e7b-bd1f-4824516ec117"
      },
      "outputs": [
        {
          "name": "stdout",
          "output_type": "stream",
          "text": [
            "slanemonehp no gniog si ytivitca lanemonehp a si siht\n"
          ]
        }
      ],
      "source": [
        "string22=\"this is a phenomenal activity is going on phenomenals\"\n",
        "print(string22[::-1])"
      ]
    },
    {
      "cell_type": "markdown",
      "source": [
        "23. Check if a string is alphanumeric."
      ],
      "metadata": {
        "id": "hQg610SCgPlX"
      }
    },
    {
      "cell_type": "code",
      "execution_count": null,
      "metadata": {
        "colab": {
          "base_uri": "https://localhost:8080/"
        },
        "id": "85hE36_VACgH",
        "outputId": "3592c734-f9ea-4d06-a384-e539d3dd2726"
      },
      "outputs": [
        {
          "name": "stdout",
          "output_type": "stream",
          "text": [
            "This is alphanumberic series\n"
          ]
        }
      ],
      "source": [
        "string23=\"Pwskills123\"\n",
        "if (string23.isalnum()):\n",
        "  print(\"This is alphanumberic series\")\n",
        "else:\n",
        "  print(\"This is not alphanumberic series\")"
      ]
    },
    {
      "cell_type": "markdown",
      "source": [
        "24. Extract all digits from a string."
      ],
      "metadata": {
        "id": "mJP_4lRigSrB"
      }
    },
    {
      "cell_type": "code",
      "execution_count": null,
      "metadata": {
        "colab": {
          "base_uri": "https://localhost:8080/"
        },
        "id": "rDVcMz6FACjo",
        "outputId": "1ac06153-fccd-4d72-b93e-f5e6c946fe5a"
      },
      "outputs": [
        {
          "data": {
            "text/plain": [
              "['2', '4']"
            ]
          },
          "execution_count": 5,
          "metadata": {},
          "output_type": "execute_result"
        }
      ],
      "source": [
        "string24=\"There are 2 apples for 4 persons\"\n",
        "temp=[]\n",
        "list=string24.split(\" \")\n",
        "for i in list:\n",
        "  if i.isdigit():\n",
        "    temp.append(i)\n",
        "\n",
        "temp"
      ]
    },
    {
      "cell_type": "markdown",
      "source": [
        "25. Extract all alphabets from a string."
      ],
      "metadata": {
        "id": "3vIStiI3gXjD"
      }
    },
    {
      "cell_type": "code",
      "execution_count": null,
      "metadata": {
        "colab": {
          "base_uri": "https://localhost:8080/"
        },
        "id": "wRXqTgWsC7ew",
        "outputId": "23907318-e4dd-4f9b-d75b-c9e65753e881"
      },
      "outputs": [
        {
          "data": {
            "text/plain": [
              "['There', 'are', 'apples', 'for', 'persons']"
            ]
          },
          "execution_count": 7,
          "metadata": {},
          "output_type": "execute_result"
        }
      ],
      "source": [
        "string25=\"There are 2 apples for 4 persons\"\n",
        "temp=[]\n",
        "list=string25.split(\" \")\n",
        "for i in list:\n",
        "  if i.isalpha():\n",
        "    temp.append(i)\n",
        "\n",
        "temp"
      ]
    },
    {
      "cell_type": "markdown",
      "source": [
        "26. Count the number of uppercase letters in a string."
      ],
      "metadata": {
        "id": "pJb374_4gYl9"
      }
    },
    {
      "cell_type": "code",
      "execution_count": null,
      "metadata": {
        "colab": {
          "base_uri": "https://localhost:8080/"
        },
        "id": "aFuzSJnVC7hy",
        "outputId": "8219f452-fa0c-4450-924f-0a6d63a98d53"
      },
      "outputs": [
        {
          "data": {
            "text/plain": [
              "2"
            ]
          },
          "execution_count": 11,
          "metadata": {},
          "output_type": "execute_result"
        }
      ],
      "source": [
        "string26=\"TusharGupta\"\n",
        "count=0\n",
        "for i in string26:\n",
        "  if i.isupper():\n",
        "    count =count +1\n",
        "count\n"
      ]
    },
    {
      "cell_type": "markdown",
      "source": [
        "27. Count the number of lowercase letters in a string."
      ],
      "metadata": {
        "id": "1NCZU2j3geJ4"
      }
    },
    {
      "cell_type": "code",
      "execution_count": null,
      "metadata": {
        "colab": {
          "base_uri": "https://localhost:8080/"
        },
        "id": "MTDxXpsfC7lV",
        "outputId": "3d2327e4-0ca6-472d-c231-64ceca331988"
      },
      "outputs": [
        {
          "data": {
            "text/plain": [
              "9"
            ]
          },
          "execution_count": 12,
          "metadata": {},
          "output_type": "execute_result"
        }
      ],
      "source": [
        "string27=\"TusharGupta\"\n",
        "count=0\n",
        "for i in string26:\n",
        "  if i.islower():\n",
        "    count =count +1\n",
        "count"
      ]
    },
    {
      "cell_type": "markdown",
      "metadata": {
        "id": "A9L_B8XnEIiw"
      },
      "source": [
        "28. Swap the case of each character in a string.\n"
      ]
    },
    {
      "cell_type": "code",
      "execution_count": null,
      "metadata": {
        "colab": {
          "base_uri": "https://localhost:8080/",
          "height": 36
        },
        "id": "QHFDn5s1C7v9",
        "outputId": "8343264e-5d62-4083-b62c-8f435f6a349b"
      },
      "outputs": [
        {
          "data": {
            "application/vnd.google.colaboratory.intrinsic+json": {
              "type": "string"
            },
            "text/plain": [
              "'jAMESbONDjAMESbONDjAMESbOND'"
            ]
          },
          "execution_count": 22,
          "metadata": {},
          "output_type": "execute_result"
        }
      ],
      "source": [
        "string28 =\"JamesBond\"\n",
        "for i in string28:\n",
        "  if i.isupper():\n",
        "    newstr+=i.lower()\n",
        "  else:\n",
        "    newstr+=i.upper()\n",
        "newstr"
      ]
    },
    {
      "cell_type": "markdown",
      "source": [
        "29. Remove a specific word from a string.\n"
      ],
      "metadata": {
        "id": "Apsx6PEJgnhr"
      }
    },
    {
      "cell_type": "code",
      "execution_count": null,
      "metadata": {
        "colab": {
          "base_uri": "https://localhost:8080/",
          "height": 36
        },
        "id": "v0jVjU3jIv_D",
        "outputId": "306bc074-4573-49ff-e7c5-f8a20cc3531b"
      },
      "outputs": [
        {
          "data": {
            "application/vnd.google.colaboratory.intrinsic+json": {
              "type": "string"
            },
            "text/plain": [
              "'this is a phenomenal activity is going on '"
            ]
          },
          "execution_count": 27,
          "metadata": {},
          "output_type": "execute_result"
        }
      ],
      "source": [
        "from os import remove\n",
        "string29=\"this is a phenomenal activity is going on phenomenals\"\n",
        "word=\"phenomenals\"\n",
        "string29=string29.replace(word,\"\")\n",
        "string29"
      ]
    },
    {
      "cell_type": "markdown",
      "source": [
        "30. Check if a string is a valid email address."
      ],
      "metadata": {
        "id": "6CvTF3VdgpQ3"
      }
    },
    {
      "cell_type": "code",
      "execution_count": null,
      "metadata": {
        "colab": {
          "base_uri": "https://localhost:8080/"
        },
        "id": "VVfTgWqkIwKa",
        "outputId": "47a8b884-96bd-4d1d-d9af-e65619b79630"
      },
      "outputs": [
        {
          "data": {
            "text/plain": [
              "True"
            ]
          },
          "execution_count": 30,
          "metadata": {},
          "output_type": "execute_result"
        }
      ],
      "source": [
        "import re\n",
        "string30=\"tushargupta981@gmail.com\"\n",
        "pattern = r\"^[a-zA-Z0-9_.+-]+@[a-zA-Z0-9-]+\\.[a-zA-Z0-9-.]+$\"\n",
        "result=bool(re.match(pattern, string30))\n",
        "result"
      ]
    },
    {
      "cell_type": "markdown",
      "source": [
        "31. Extract the username from an email address string."
      ],
      "metadata": {
        "id": "foLo4WKbgwfZ"
      }
    },
    {
      "cell_type": "code",
      "execution_count": null,
      "metadata": {
        "colab": {
          "base_uri": "https://localhost:8080/"
        },
        "id": "rvKHGGOvhmCR",
        "outputId": "68b66691-2eea-4972-c476-e5103d2a7e33"
      },
      "outputs": [
        {
          "name": "stdout",
          "output_type": "stream",
          "text": [
            "tushargupta981\n"
          ]
        }
      ],
      "source": [
        "string31=\"tushargupta981@gmail.com\"\n",
        "templist=string31.split(\"@\")\n",
        "print(templist[0])"
      ]
    },
    {
      "cell_type": "markdown",
      "source": [
        "32. Extract the domain name from an email address string.\n"
      ],
      "metadata": {
        "id": "iG6e50OFg1JU"
      }
    },
    {
      "cell_type": "code",
      "execution_count": null,
      "metadata": {
        "colab": {
          "base_uri": "https://localhost:8080/"
        },
        "id": "1raeab9ohmP9",
        "outputId": "53a3a22c-5720-45fe-af5b-ce6902e50f1b"
      },
      "outputs": [
        {
          "name": "stdout",
          "output_type": "stream",
          "text": [
            "gmail.com\n"
          ]
        }
      ],
      "source": [
        "string32=\"tushargupta981@gmail.com\"\n",
        "templist=string32.split(\"@\")\n",
        "print(templist[1])"
      ]
    },
    {
      "cell_type": "markdown",
      "source": [
        "33. Replace multiple spaces in a string with a single space.\n"
      ],
      "metadata": {
        "id": "hj2KHIPsg3jZ"
      }
    },
    {
      "cell_type": "code",
      "execution_count": null,
      "metadata": {
        "colab": {
          "background_save": true,
          "base_uri": "https://localhost:8080/",
          "height": 210
        },
        "id": "KaxHZLPVhmSb",
        "outputId": "042be2c4-a64d-45ed-9a25-8ad96004a7e9"
      },
      "outputs": [
        {
          "ename": "AttributeError",
          "evalue": "ignored",
          "output_type": "error",
          "traceback": [
            "\u001b[0;31m---------------------------------------------------------------------------\u001b[0m",
            "\u001b[0;31mAttributeError\u001b[0m                            Traceback (most recent call last)",
            "\u001b[0;32m<ipython-input-6-43d42bdf99ca>\u001b[0m in \u001b[0;36m<cell line: 2>\u001b[0;34m()\u001b[0m\n\u001b[1;32m      1\u001b[0m \u001b[0mstring33\u001b[0m\u001b[0;34m=\u001b[0m\u001b[0;34m\"    Tushar    Gupta   \"\u001b[0m\u001b[0;34m\u001b[0m\u001b[0;34m\u001b[0m\u001b[0m\n\u001b[0;32m----> 2\u001b[0;31m \u001b[0mtemp\u001b[0m\u001b[0;34m=\u001b[0m\u001b[0mstring33\u001b[0m\u001b[0;34m.\u001b[0m\u001b[0mtrim\u001b[0m\u001b[0;34m(\u001b[0m\u001b[0;34m)\u001b[0m\u001b[0;34m\u001b[0m\u001b[0;34m\u001b[0m\u001b[0m\n\u001b[0m\u001b[1;32m      3\u001b[0m \u001b[0mtemp\u001b[0m\u001b[0;34m.\u001b[0m\u001b[0mreplaceAll\u001b[0m\u001b[0;34m(\u001b[0m\u001b[0;34m\"( )+\"\u001b[0m\u001b[0;34m,\u001b[0m \u001b[0;34m\" \"\u001b[0m\u001b[0;34m)\u001b[0m\u001b[0;34m\u001b[0m\u001b[0;34m\u001b[0m\u001b[0m\n",
            "\u001b[0;31mAttributeError\u001b[0m: 'str' object has no attribute 'trim'"
          ]
        }
      ],
      "source": [
        "string33=\"    Tushar    Gupta   \"\n",
        "temp=string33.trim()\n",
        "temp.replaceAll(\"( )+\", \" \")"
      ]
    },
    {
      "cell_type": "markdown",
      "source": [
        "34. Check if a string is a valid URL.\n",
        "35. Extract the protocol (http or https) from a URL string.\n",
        "36. Find the frequency of each character in a string.\n",
        "37. Remove all punctuation from a string.\n",
        "38. Check if a string contains only digits.\n",
        "39. Check if a string contains only alphabets.\n",
        "40. Convert a string to a list of characters.\n",
        "41. Check if two strings are anagrams.\n",
        "42. Encode a string using a Caesar cipher.\n",
        "43. Decode a Caesar cipher encoded string.\n",
        "44. Find the most frequent word in a string.\n",
        "45. Find all unique words in a string.\n",
        "46. Count the number of syllables in a string."
      ],
      "metadata": {
        "id": "tMyLzvFrhEMM"
      }
    },
    {
      "cell_type": "code",
      "execution_count": null,
      "metadata": {
        "id": "CFmbeZpnhmX5"
      },
      "outputs": [],
      "source": []
    },
    {
      "cell_type": "code",
      "execution_count": null,
      "metadata": {
        "id": "h3VuSgAthmai"
      },
      "outputs": [],
      "source": []
    },
    {
      "cell_type": "code",
      "execution_count": null,
      "metadata": {
        "id": "qEdYb0hwhmdU"
      },
      "outputs": [],
      "source": []
    },
    {
      "cell_type": "code",
      "execution_count": null,
      "metadata": {
        "id": "fUh40C1Dhmft"
      },
      "outputs": [],
      "source": []
    },
    {
      "cell_type": "code",
      "execution_count": null,
      "metadata": {
        "id": "gCBXgXZYhmiI"
      },
      "outputs": [],
      "source": []
    },
    {
      "cell_type": "code",
      "execution_count": null,
      "metadata": {
        "id": "gnQLTPJ9hmks"
      },
      "outputs": [],
      "source": []
    },
    {
      "cell_type": "code",
      "execution_count": null,
      "metadata": {
        "id": "x0z547iLhmnV"
      },
      "outputs": [],
      "source": []
    },
    {
      "cell_type": "code",
      "execution_count": null,
      "metadata": {
        "id": "qmHqMopshmp8"
      },
      "outputs": [],
      "source": []
    },
    {
      "cell_type": "code",
      "execution_count": null,
      "metadata": {
        "id": "g1QIjjWLhmsx"
      },
      "outputs": [],
      "source": []
    },
    {
      "cell_type": "code",
      "execution_count": null,
      "metadata": {
        "id": "6C6O0D-mhmvn"
      },
      "outputs": [],
      "source": []
    },
    {
      "cell_type": "code",
      "execution_count": null,
      "metadata": {
        "id": "GpvgIOLVhmx3"
      },
      "outputs": [],
      "source": []
    }
  ],
  "metadata": {
    "colab": {
      "provenance": [],
      "authorship_tag": "ABX9TyMDcVD7dCsLXKBAHPjBbDSM",
      "include_colab_link": true
    },
    "kernelspec": {
      "display_name": "Python 3",
      "name": "python3"
    },
    "language_info": {
      "name": "python"
    }
  },
  "nbformat": 4,
  "nbformat_minor": 0
}