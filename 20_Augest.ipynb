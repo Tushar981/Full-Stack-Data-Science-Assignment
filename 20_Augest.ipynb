{
  "nbformat": 4,
  "nbformat_minor": 0,
  "metadata": {
    "colab": {
      "provenance": [],
      "authorship_tag": "ABX9TyOGaNZhN7gDjAZn1ary740X"
    },
    "kernelspec": {
      "name": "python3",
      "display_name": "Python 3"
    },
    "language_info": {
      "name": "python"
    }
  },
  "cells": [
    {
      "cell_type": "markdown",
      "source": [
        "**String Based Assignment Problem**"
      ],
      "metadata": {
        "id": "jNX5Z0sxQiyb"
      }
    },
    {
      "cell_type": "code",
      "execution_count": null,
      "metadata": {
        "id": "4ut73KvFQcfm"
      },
      "outputs": [],
      "source": [
        "'''1. Write a program to reverse a string.\n",
        "2. Check if a string is a palindrome.\n",
        "3. Convert a string to uppercase.\n",
        "4. Convert a string to lowercase.\n",
        "5. Count the number of vowels in a string.\n",
        "6. Count the number of consonants in a string.\n",
        "7. Remove all whitespaces from a string.\n",
        "8. Find the length of a string without using the `len()` function.\n",
        "9. Check if a string contains a specific word.\n",
        "10. Replace a word in a string with another word.\n",
        "11. Count the occurrences of a word in a string.\n",
        "12. Find the first occurrence of a word in a string.\n",
        "13. Find the last occurrence of a word in a string.\n",
        "14. Split a string into a list of words.\n",
        "15. Join a list of words into a string.\n",
        "Assignment\n",
        "\n",
        "Full Stack Data Science Pro\n",
        "\n",
        "TOPIC: String Based Assignment Problem\n",
        "\n",
        "Full Stack Data Science Pro\n",
        "\n",
        "16. Convert a string where words are separated by spaces to one where words\n",
        "are separated by underscores.\n",
        "17. Check if a string starts with a specific word or phrase.\n",
        "18. Check if a string ends with a specific word or phrase.\n",
        "19. Convert a string to title case (e.g., \"hello world\" to \"Hello World\").\n",
        "'"
      ]
    },
    {
      "cell_type": "code",
      "source": [
        "str1=\"Tushar\"\n",
        "print(str1[::-1])"
      ],
      "metadata": {
        "colab": {
          "base_uri": "https://localhost:8080/"
        },
        "id": "X9GgOdxMQ66v",
        "outputId": "103e7750-be2a-4a19-bdc0-257a82e2cf0c"
      },
      "execution_count": 1,
      "outputs": [
        {
          "output_type": "stream",
          "name": "stdout",
          "text": [
            "rahsuT\n"
          ]
        }
      ]
    },
    {
      "cell_type": "code",
      "source": [
        "str2=\"Tushar\"\n",
        "revstr=str2[::-1]\n",
        "if (str2.lower()==revstr.lower()):\n",
        "  print(\"String is Palindrome\")\n",
        "else:\n",
        "  print(\"String is not Palindrome\")"
      ],
      "metadata": {
        "colab": {
          "base_uri": "https://localhost:8080/"
        },
        "id": "04x-guupQ6-B",
        "outputId": "77977d4a-19ea-4962-a6a7-9366d1656113"
      },
      "execution_count": 7,
      "outputs": [
        {
          "output_type": "stream",
          "name": "stdout",
          "text": [
            "String is not Palindrome\n"
          ]
        }
      ]
    },
    {
      "cell_type": "code",
      "source": [
        "str3=\"Tushar\"\n",
        "print(str3.upper())"
      ],
      "metadata": {
        "colab": {
          "base_uri": "https://localhost:8080/"
        },
        "id": "mey7Sr1jQ7F3",
        "outputId": "da74842b-0b72-44f3-fe22-4c5a3404fe55"
      },
      "execution_count": 8,
      "outputs": [
        {
          "output_type": "stream",
          "name": "stdout",
          "text": [
            "TUSHAR\n"
          ]
        }
      ]
    },
    {
      "cell_type": "code",
      "source": [
        "str4=\"Tushar\"\n",
        "print(str3.lower())"
      ],
      "metadata": {
        "colab": {
          "base_uri": "https://localhost:8080/"
        },
        "id": "KfTQGmIHQ7Iu",
        "outputId": "ba6089ac-8561-40a9-d5ac-7540e7ac3caf"
      },
      "execution_count": 9,
      "outputs": [
        {
          "output_type": "stream",
          "name": "stdout",
          "text": [
            "tushar\n"
          ]
        }
      ]
    },
    {
      "cell_type": "code",
      "source": [
        "str5=\"Tushar\"\n",
        "count =0\n",
        "for i in str5:\n",
        "  if i in [\"a\",\"e\",\"i\",\"o\",\"u\"]:\n",
        "    count=count+1;\n",
        "print(count)\n"
      ],
      "metadata": {
        "colab": {
          "base_uri": "https://localhost:8080/"
        },
        "id": "lHnYf25NQ7LU",
        "outputId": "af8ab4db-b7d4-4b59-f415-15334fa4c4dc"
      },
      "execution_count": 13,
      "outputs": [
        {
          "output_type": "stream",
          "name": "stdout",
          "text": [
            "2\n"
          ]
        }
      ]
    },
    {
      "cell_type": "code",
      "source": [
        "str6=\"Tushar\"\n",
        "count =0\n",
        "for i  in str5:\n",
        "  if i not in [\"a\",\"e\",\"i\",\"o\",\"u\"]:\n",
        "    count=count+1;\n",
        "print(count)"
      ],
      "metadata": {
        "colab": {
          "base_uri": "https://localhost:8080/"
        },
        "id": "a0Xlj5LTQ7Nu",
        "outputId": "fb485ab9-d0dc-4e9c-bb7f-eb908b558836"
      },
      "execution_count": 14,
      "outputs": [
        {
          "output_type": "stream",
          "name": "stdout",
          "text": [
            "4\n"
          ]
        }
      ]
    },
    {
      "cell_type": "code",
      "source": [
        "str7=\"         Tus       har      \"\n",
        "str7=str7.replace(\" \",\"\")\n",
        "print(str7.strip())"
      ],
      "metadata": {
        "colab": {
          "base_uri": "https://localhost:8080/"
        },
        "id": "I-Dhh39ZQ7RQ",
        "outputId": "32e1ebb4-716f-4d39-d0fd-673568f253af"
      },
      "execution_count": 18,
      "outputs": [
        {
          "output_type": "stream",
          "name": "stdout",
          "text": [
            "Tushar\n"
          ]
        }
      ]
    },
    {
      "cell_type": "code",
      "source": [
        "str8=\"Tushar\"\n",
        "count=0\n",
        "for i in str8:\n",
        "  count=count+1\n",
        "print(count)"
      ],
      "metadata": {
        "colab": {
          "base_uri": "https://localhost:8080/"
        },
        "id": "R_0pzGYeV9Kz",
        "outputId": "9cab4db4-ae03-4181-af4a-59f0838eebfc"
      },
      "execution_count": 19,
      "outputs": [
        {
          "output_type": "stream",
          "name": "stdout",
          "text": [
            "6\n"
          ]
        }
      ]
    },
    {
      "cell_type": "code",
      "source": [
        "str9=\"Pwskills\"\n",
        "str=\"skill\"\n",
        "if(str in str9):\n",
        "  print(\"String contain specific word\")\n",
        "else:\n",
        "  print(\"No String does not contain specific word\")"
      ],
      "metadata": {
        "colab": {
          "base_uri": "https://localhost:8080/"
        },
        "id": "XMI6vwa5V9NV",
        "outputId": "7e8e7a0c-3c5b-483c-8b24-375630d8fc9e"
      },
      "execution_count": 20,
      "outputs": [
        {
          "output_type": "stream",
          "name": "stdout",
          "text": [
            "String contain specific word\n"
          ]
        }
      ]
    },
    {
      "cell_type": "code",
      "source": [
        "str10=\"Pwskill\"\n",
        "print(str10.replace(\"skill\",\"skills\"))"
      ],
      "metadata": {
        "colab": {
          "base_uri": "https://localhost:8080/"
        },
        "id": "B1byBCjbV9QG",
        "outputId": "db1dd635-41b7-4ab8-f809-a433d3061492"
      },
      "execution_count": 25,
      "outputs": [
        {
          "output_type": "stream",
          "name": "stdout",
          "text": [
            "Pwskills\n"
          ]
        }
      ]
    },
    {
      "cell_type": "code",
      "source": [
        "str11=\"This sentance is for testing  purpose and this sentance will not going to hurt any one !\"\n",
        "temp =\"sentance\"\n",
        "count=str11.count(temp)\n",
        "print(count)\n",
        "\n",
        "\n"
      ],
      "metadata": {
        "colab": {
          "base_uri": "https://localhost:8080/"
        },
        "id": "0hugQzR4V9Sr",
        "outputId": "087c3100-c5eb-4866-ab0f-98220f51c105"
      },
      "execution_count": 62,
      "outputs": [
        {
          "output_type": "stream",
          "name": "stdout",
          "text": [
            "2\n"
          ]
        }
      ]
    },
    {
      "cell_type": "code",
      "source": [
        "# str11 = \"TusharGupta\"\n",
        "# temp = str11.lower()\n",
        "\n",
        "# # Using a different variable name to avoid confusion with count\n",
        "# for i in temp:\n",
        "#     char_count = temp.count(i)\n",
        "#     print(i + \" = \" + str(char_count))\n"
      ],
      "metadata": {
        "colab": {
          "base_uri": "https://localhost:8080/",
          "height": 210
        },
        "id": "Gkko720gV9VS",
        "outputId": "f0db4891-40ec-4431-8f97-6603bdef071e"
      },
      "execution_count": 57,
      "outputs": [
        {
          "output_type": "error",
          "ename": "TypeError",
          "evalue": "ignored",
          "traceback": [
            "\u001b[0;31m---------------------------------------------------------------------------\u001b[0m",
            "\u001b[0;31mTypeError\u001b[0m                                 Traceback (most recent call last)",
            "\u001b[0;32m<ipython-input-57-fcec0884fd5d>\u001b[0m in \u001b[0;36m<cell line: 5>\u001b[0;34m()\u001b[0m\n\u001b[1;32m      5\u001b[0m \u001b[0;32mfor\u001b[0m \u001b[0mi\u001b[0m \u001b[0;32min\u001b[0m \u001b[0mtemp\u001b[0m\u001b[0;34m:\u001b[0m\u001b[0;34m\u001b[0m\u001b[0;34m\u001b[0m\u001b[0m\n\u001b[1;32m      6\u001b[0m     \u001b[0mchar_count\u001b[0m \u001b[0;34m=\u001b[0m \u001b[0mtemp\u001b[0m\u001b[0;34m.\u001b[0m\u001b[0mcount\u001b[0m\u001b[0;34m(\u001b[0m\u001b[0mi\u001b[0m\u001b[0;34m)\u001b[0m\u001b[0;34m\u001b[0m\u001b[0;34m\u001b[0m\u001b[0m\n\u001b[0;32m----> 7\u001b[0;31m     \u001b[0mprint\u001b[0m\u001b[0;34m(\u001b[0m\u001b[0mi\u001b[0m \u001b[0;34m+\u001b[0m \u001b[0;34m\" = \"\u001b[0m \u001b[0;34m+\u001b[0m \u001b[0mstr\u001b[0m\u001b[0;34m(\u001b[0m\u001b[0mchar_count\u001b[0m\u001b[0;34m)\u001b[0m\u001b[0;34m)\u001b[0m\u001b[0;34m\u001b[0m\u001b[0;34m\u001b[0m\u001b[0m\n\u001b[0m",
            "\u001b[0;31mTypeError\u001b[0m: 'str' object is not callable"
          ]
        }
      ]
    },
    {
      "cell_type": "code",
      "source": [
        "str12=\"This sentance is for testing  purpose and this sentance will not going to hurt any one !\"\n",
        "temp =\"sen\"\n",
        "index_occurances=str12.find(temp)\n",
        "print(index_occurances)"
      ],
      "metadata": {
        "colab": {
          "base_uri": "https://localhost:8080/"
        },
        "id": "A8nOa8w_V9X2",
        "outputId": "69dd62ae-d96f-4d20-e195-07b3cb1bf6ed"
      },
      "execution_count": 63,
      "outputs": [
        {
          "output_type": "stream",
          "name": "stdout",
          "text": [
            "5\n"
          ]
        }
      ]
    },
    {
      "cell_type": "code",
      "source": [
        "str13=\"This sentance is for testing  purpose and this sentance will not going to hurt any one !\"\n",
        "temp =\"sen\"\n",
        "index_occurances=str13.rfind(temp)\n",
        "print(index_occurances)"
      ],
      "metadata": {
        "colab": {
          "base_uri": "https://localhost:8080/"
        },
        "id": "3IyQecTpV9bL",
        "outputId": "5b77a7f0-1530-462f-f4eb-3a07dbee40d3"
      },
      "execution_count": 66,
      "outputs": [
        {
          "output_type": "stream",
          "name": "stdout",
          "text": [
            "47\n"
          ]
        }
      ]
    },
    {
      "cell_type": "code",
      "source": [
        "list14=[]\n",
        "string14=\"Tushar\"\n",
        "list14.extend(string14)\n",
        "list14\n"
      ],
      "metadata": {
        "colab": {
          "base_uri": "https://localhost:8080/"
        },
        "id": "WrWg2qUOQBHp",
        "outputId": "351cf623-3c2f-4bf8-8789-26f963a6e385"
      },
      "execution_count": 75,
      "outputs": [
        {
          "output_type": "execute_result",
          "data": {
            "text/plain": [
              "['T', 'u', 's', 'h', 'a', 'r']"
            ]
          },
          "metadata": {},
          "execution_count": 75
        }
      ]
    },
    {
      "cell_type": "code",
      "source": [
        "list15=[\"Alpha\",\"beta\",\"ceta\",\"delta\"]\n",
        "str15=\"\"\n",
        "for x in list15:\n",
        "  str15=str15+x+\" \"\n",
        "\n",
        "str15"
      ],
      "metadata": {
        "colab": {
          "base_uri": "https://localhost:8080/",
          "height": 36
        },
        "id": "bX17sxDUQBKf",
        "outputId": "2c745070-60b2-4845-b47f-46e6bdf06488"
      },
      "execution_count": 81,
      "outputs": [
        {
          "output_type": "execute_result",
          "data": {
            "text/plain": [
              "'Alpha beta ceta delta '"
            ],
            "application/vnd.google.colaboratory.intrinsic+json": {
              "type": "string"
            }
          },
          "metadata": {},
          "execution_count": 81
        }
      ]
    },
    {
      "cell_type": "markdown",
      "source": [
        "**TOPIC: String Based Assignment Problem**"
      ],
      "metadata": {
        "id": "8GqftYZaVCgr"
      }
    },
    {
      "cell_type": "code",
      "source": [
        "string16=\"This is sample string\"\n",
        "print(string16.replace(\" \",\"_\"))"
      ],
      "metadata": {
        "colab": {
          "base_uri": "https://localhost:8080/"
        },
        "id": "9GWY-q1wQBNh",
        "outputId": "11a92982-03b8-4755-a2a7-26df787c4e89"
      },
      "execution_count": 83,
      "outputs": [
        {
          "output_type": "stream",
          "name": "stdout",
          "text": [
            "This_is_sample_string\n"
          ]
        }
      ]
    },
    {
      "cell_type": "code",
      "source": [
        "string17='''The world is so full\n",
        "of a number of things,\n",
        "I'm sure we should all\n",
        "be as happy as kings. '''\n",
        "word17=\"The\"\n",
        "if string17.startswith(word17):\n",
        "  print(\"yes\")\n",
        "else:\n",
        "  print(\"No\")"
      ],
      "metadata": {
        "colab": {
          "base_uri": "https://localhost:8080/"
        },
        "id": "DquH2JsHQBQ8",
        "outputId": "9f09b999-0960-4090-e7e9-9da490b4e57a"
      },
      "execution_count": 86,
      "outputs": [
        {
          "output_type": "stream",
          "name": "stdout",
          "text": [
            "yes\n"
          ]
        }
      ]
    },
    {
      "cell_type": "code",
      "source": [
        "string18='''The world is so full\n",
        "of a number of things,\n",
        "I'm sure we should all\n",
        "be as happy as kings'''\n",
        "word18=\"kings\"\n",
        "if string18.endswith(word18):\n",
        "  print(\"yes\")\n",
        "else:\n",
        "  print(\"No\")"
      ],
      "metadata": {
        "colab": {
          "base_uri": "https://localhost:8080/"
        },
        "id": "hG6vAY38WyS3",
        "outputId": "760e7409-a938-4f06-b2e2-24b8d9118d9f"
      },
      "execution_count": 89,
      "outputs": [
        {
          "output_type": "stream",
          "name": "stdout",
          "text": [
            "yes\n"
          ]
        }
      ]
    },
    {
      "cell_type": "code",
      "source": [
        "string19=\"hello world\"\n",
        "print(string19.title())"
      ],
      "metadata": {
        "colab": {
          "base_uri": "https://localhost:8080/"
        },
        "id": "pBxcER64WyVW",
        "outputId": "f910545e-4b08-46d8-89b9-0fb019e8acee"
      },
      "execution_count": 90,
      "outputs": [
        {
          "output_type": "stream",
          "name": "stdout",
          "text": [
            "Hello World\n"
          ]
        }
      ]
    },
    {
      "cell_type": "markdown",
      "source": [
        "20. Find the longest word in a string.\n",
        "21. Find the shortest word in a string.\n",
        "22. Reverse the order of words in a string.\n",
        "23. Check if a string is alphanumeric.\n",
        "24. Extract all digits from a string.\n",
        "25. Extract all alphabets from a string.\n",
        "26. Count the number of uppercase letters in a string.\n",
        "27. Count the number of lowercase letters in a string.''"
      ],
      "metadata": {
        "id": "4MnCDt1G8JKJ"
      }
    },
    {
      "cell_type": "code",
      "source": [
        "string20=\"this is a phenomenal activity is going on phenomenals\"\n",
        "print(max(string20.split(\" \"),key=len))"
      ],
      "metadata": {
        "colab": {
          "base_uri": "https://localhost:8080/"
        },
        "id": "PMwq9VoAWyX5",
        "outputId": "3d8f4dc8-db5f-4d91-80fd-349760237297"
      },
      "execution_count": 3,
      "outputs": [
        {
          "output_type": "stream",
          "name": "stdout",
          "text": [
            "phenomenals\n"
          ]
        }
      ]
    },
    {
      "cell_type": "code",
      "source": [
        "string21=\"this is a phenomenal activity is going on phenomenals\"\n",
        "print(min(string21.split(\" \"),key=len))"
      ],
      "metadata": {
        "colab": {
          "base_uri": "https://localhost:8080/"
        },
        "id": "tFetbNjKWyaT",
        "outputId": "a460072f-9a05-4713-9470-fda0882e31ed"
      },
      "execution_count": 6,
      "outputs": [
        {
          "output_type": "stream",
          "name": "stdout",
          "text": [
            "a\n"
          ]
        }
      ]
    },
    {
      "cell_type": "code",
      "source": [
        "string22=\"this is a phenomenal activity is going on phenomenals\"\n",
        "print(string22[::-1])"
      ],
      "metadata": {
        "colab": {
          "base_uri": "https://localhost:8080/"
        },
        "id": "Sz81IIZCWydz",
        "outputId": "0a713040-80eb-4e7b-bd1f-4824516ec117"
      },
      "execution_count": 9,
      "outputs": [
        {
          "output_type": "stream",
          "name": "stdout",
          "text": [
            "slanemonehp no gniog si ytivitca lanemonehp a si siht\n"
          ]
        }
      ]
    },
    {
      "cell_type": "code",
      "source": [
        "string23=\"Pwskills123\"\n",
        "if (string23.isalnum()):\n",
        "  print(\"This is alphanumberic series\")\n",
        "else:\n",
        "  print(\"This is not alphanumberic series\")"
      ],
      "metadata": {
        "colab": {
          "base_uri": "https://localhost:8080/"
        },
        "id": "85hE36_VACgH",
        "outputId": "3592c734-f9ea-4d06-a384-e539d3dd2726"
      },
      "execution_count": 22,
      "outputs": [
        {
          "output_type": "stream",
          "name": "stdout",
          "text": [
            "This is alphanumberic series\n"
          ]
        }
      ]
    },
    {
      "cell_type": "code",
      "source": [
        "string24=\"There are 2 apples for 4 persons\"\n",
        "temp=[]\n",
        "list=string24.split(\" \")\n",
        "for i in list:\n",
        "  if i.isdigit():\n",
        "    temp.append(i)\n",
        "\n",
        "temp"
      ],
      "metadata": {
        "colab": {
          "base_uri": "https://localhost:8080/"
        },
        "id": "rDVcMz6FACjo",
        "outputId": "1ac06153-fccd-4d72-b93e-f5e6c946fe5a"
      },
      "execution_count": 5,
      "outputs": [
        {
          "output_type": "execute_result",
          "data": {
            "text/plain": [
              "['2', '4']"
            ]
          },
          "metadata": {},
          "execution_count": 5
        }
      ]
    },
    {
      "cell_type": "code",
      "source": [
        "string25=\"There are 2 apples for 4 persons\"\n",
        "temp=[]\n",
        "list=string25.split(\" \")\n",
        "for i in list:\n",
        "  if i.isalpha():\n",
        "    temp.append(i)\n",
        "\n",
        "temp"
      ],
      "metadata": {
        "colab": {
          "base_uri": "https://localhost:8080/"
        },
        "id": "wRXqTgWsC7ew",
        "outputId": "23907318-e4dd-4f9b-d75b-c9e65753e881"
      },
      "execution_count": 7,
      "outputs": [
        {
          "output_type": "execute_result",
          "data": {
            "text/plain": [
              "['There', 'are', 'apples', 'for', 'persons']"
            ]
          },
          "metadata": {},
          "execution_count": 7
        }
      ]
    },
    {
      "cell_type": "code",
      "source": [
        "string26=\"TusharGupta\"\n",
        "count=0\n",
        "for i in string26:\n",
        "  if i.isupper():\n",
        "    count =count +1\n",
        "count\n"
      ],
      "metadata": {
        "colab": {
          "base_uri": "https://localhost:8080/"
        },
        "id": "aFuzSJnVC7hy",
        "outputId": "8219f452-fa0c-4450-924f-0a6d63a98d53"
      },
      "execution_count": 11,
      "outputs": [
        {
          "output_type": "execute_result",
          "data": {
            "text/plain": [
              "2"
            ]
          },
          "metadata": {},
          "execution_count": 11
        }
      ]
    },
    {
      "cell_type": "code",
      "source": [
        "string27=\"TusharGupta\"\n",
        "count=0\n",
        "for i in string26:\n",
        "  if i.islower():\n",
        "    count =count +1\n",
        "count"
      ],
      "metadata": {
        "colab": {
          "base_uri": "https://localhost:8080/"
        },
        "id": "MTDxXpsfC7lV",
        "outputId": "3d2327e4-0ca6-472d-c231-64ceca331988"
      },
      "execution_count": 12,
      "outputs": [
        {
          "output_type": "execute_result",
          "data": {
            "text/plain": [
              "9"
            ]
          },
          "metadata": {},
          "execution_count": 12
        }
      ]
    },
    {
      "cell_type": "markdown",
      "source": [
        "28. Swap the case of each character in a string.\n",
        "29. Remove a specific word from a string.\n",
        "30. Check if a string is a valid email address."
      ],
      "metadata": {
        "id": "A9L_B8XnEIiw"
      }
    },
    {
      "cell_type": "code",
      "source": [
        "string28 =\"JamesBond\"\n",
        "for i in string28:\n",
        "  if i.isupper():\n",
        "    newstr+=i.lower()\n",
        "  else:\n",
        "    newstr+=i.upper()\n",
        "newstr"
      ],
      "metadata": {
        "colab": {
          "base_uri": "https://localhost:8080/",
          "height": 36
        },
        "id": "QHFDn5s1C7v9",
        "outputId": "8343264e-5d62-4083-b62c-8f435f6a349b"
      },
      "execution_count": 22,
      "outputs": [
        {
          "output_type": "execute_result",
          "data": {
            "text/plain": [
              "'jAMESbONDjAMESbONDjAMESbOND'"
            ],
            "application/vnd.google.colaboratory.intrinsic+json": {
              "type": "string"
            }
          },
          "metadata": {},
          "execution_count": 22
        }
      ]
    },
    {
      "cell_type": "code",
      "source": [
        "from os import remove\n",
        "string29=\"this is a phenomenal activity is going on phenomenals\"\n",
        "word=\"phenomenals\"\n",
        "string29=string29.replace(word,\"\")\n",
        "string29"
      ],
      "metadata": {
        "colab": {
          "base_uri": "https://localhost:8080/",
          "height": 36
        },
        "id": "v0jVjU3jIv_D",
        "outputId": "306bc074-4573-49ff-e7c5-f8a20cc3531b"
      },
      "execution_count": 27,
      "outputs": [
        {
          "output_type": "execute_result",
          "data": {
            "text/plain": [
              "'this is a phenomenal activity is going on '"
            ],
            "application/vnd.google.colaboratory.intrinsic+json": {
              "type": "string"
            }
          },
          "metadata": {},
          "execution_count": 27
        }
      ]
    },
    {
      "cell_type": "code",
      "source": [],
      "metadata": {
        "id": "VVfTgWqkIwKa"
      },
      "execution_count": null,
      "outputs": []
    }
  ]
}