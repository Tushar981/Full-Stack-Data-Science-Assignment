{
  "nbformat": 4,
  "nbformat_minor": 0,
  "metadata": {
    "colab": {
      "provenance": [],
      "authorship_tag": "ABX9TyN2bXTRzKqW1CC1c4xYerCI",
      "include_colab_link": true
    },
    "kernelspec": {
      "name": "python3",
      "display_name": "Python 3"
    },
    "language_info": {
      "name": "python"
    }
  },
  "cells": [
    {
      "cell_type": "markdown",
      "metadata": {
        "id": "view-in-github",
        "colab_type": "text"
      },
      "source": [
        "<a href=\"https://colab.research.google.com/github/Tushar981/Full-Stack-Data-Science-Assignment/blob/main/20_Augest.ipynb\" target=\"_parent\"><img src=\"https://colab.research.google.com/assets/colab-badge.svg\" alt=\"Open In Colab\"/></a>"
      ]
    },
    {
      "cell_type": "markdown",
      "source": [
        "**String Based Assignment Problem**"
      ],
      "metadata": {
        "id": "jNX5Z0sxQiyb"
      }
    },
    {
      "cell_type": "code",
      "execution_count": 1,
      "metadata": {
        "id": "4ut73KvFQcfm",
        "colab": {
          "base_uri": "https://localhost:8080/",
          "height": 140
        },
        "outputId": "a20d43a8-0b38-4c88-cbd7-d995df0c4b5d"
      },
      "outputs": [
        {
          "output_type": "error",
          "ename": "SyntaxError",
          "evalue": "ignored",
          "traceback": [
            "\u001b[0;36m  File \u001b[0;32m\"<ipython-input-1-528b014e6d47>\"\u001b[0;36m, line \u001b[0;32m1\u001b[0m\n\u001b[0;31m    '''1. Write a program to reverse a string.\u001b[0m\n\u001b[0m    ^\u001b[0m\n\u001b[0;31mSyntaxError\u001b[0m\u001b[0;31m:\u001b[0m incomplete input\n"
          ]
        }
      ],
      "source": [
        "'''1. Write a program to reverse a string.\n",
        "2. Check if a string is a palindrome.\n",
        "3. Convert a string to uppercase.\n",
        "4. Convert a string to lowercase.\n",
        "5. Count the number of vowels in a string.\n",
        "6. Count the number of consonants in a string.\n",
        "7. Remove all whitespaces from a string.\n",
        "8. Find the length of a string without using the `len()` function.\n",
        "9. Check if a string contains a specific word.\n",
        "10. Replace a word in a string with another word.\n",
        "11. Count the occurrences of a word in a string.\n",
        "12. Find the first occurrence of a word in a string.\n",
        "13. Find the last occurrence of a word in a string.\n",
        "14. Split a string into a list of words.\n",
        "15. Join a list of words into a string.\n",
        "Assignment\n",
        "\n",
        "Full Stack Data Science Pro\n",
        "\n",
        "TOPIC: String Based Assignment Problem\n",
        "\n",
        "Full Stack Data Science Pro\n",
        "\n",
        "16. Convert a string where words are separated by spaces to one where words\n",
        "are separated by underscores.\n",
        "17. Check if a string starts with a specific word or phrase.\n",
        "18. Check if a string ends with a specific word or phrase.\n",
        "19. Convert a string to title case (e.g., \"hello world\" to \"Hello World\").\n",
        "'"
      ]
    },
    {
      "cell_type": "code",
      "source": [
        "str1=\"Tushar\"\n",
        "print(str1[::-1])"
      ],
      "metadata": {
        "colab": {
          "base_uri": "https://localhost:8080/"
        },
        "id": "X9GgOdxMQ66v",
        "outputId": "2dd212bf-c294-4b0c-b80a-eb207c600ae6"
      },
      "execution_count": 2,
      "outputs": [
        {
          "output_type": "stream",
          "name": "stdout",
          "text": [
            "rahsuT\n"
          ]
        }
      ]
    },
    {
      "cell_type": "code",
      "source": [
        "str2=\"Tushar\"\n",
        "revstr=str2[::-1]\n",
        "if (str2.lower()==revstr.lower()):\n",
        "  print(\"String is Palindrome\")\n",
        "else:\n",
        "  print(\"String is not Palindrome\")"
      ],
      "metadata": {
        "colab": {
          "base_uri": "https://localhost:8080/"
        },
        "id": "04x-guupQ6-B",
        "outputId": "c543134d-dc1d-4a72-b257-8cccbc81644c"
      },
      "execution_count": 3,
      "outputs": [
        {
          "output_type": "stream",
          "name": "stdout",
          "text": [
            "String is not Palindrome\n"
          ]
        }
      ]
    },
    {
      "cell_type": "code",
      "source": [
        "str3=\"Tushar\"\n",
        "print(str3.upper())"
      ],
      "metadata": {
        "colab": {
          "base_uri": "https://localhost:8080/"
        },
        "id": "mey7Sr1jQ7F3",
        "outputId": "a68738c1-94a0-4e51-cb3f-1cd021bf1e36"
      },
      "execution_count": 4,
      "outputs": [
        {
          "output_type": "stream",
          "name": "stdout",
          "text": [
            "TUSHAR\n"
          ]
        }
      ]
    },
    {
      "cell_type": "code",
      "source": [
        "str4=\"Tushar\"\n",
        "print(str3.lower())"
      ],
      "metadata": {
        "colab": {
          "base_uri": "https://localhost:8080/"
        },
        "id": "KfTQGmIHQ7Iu",
        "outputId": "7958de91-7ed1-47f7-df9f-f4516437c569"
      },
      "execution_count": 5,
      "outputs": [
        {
          "output_type": "stream",
          "name": "stdout",
          "text": [
            "tushar\n"
          ]
        }
      ]
    },
    {
      "cell_type": "code",
      "source": [
        "str5=\"Tushar\"\n",
        "count =0\n",
        "for i in str5:\n",
        "  if i in [\"a\",\"e\",\"i\",\"o\",\"u\"]:\n",
        "    count=count+1;\n",
        "print(count)\n"
      ],
      "metadata": {
        "colab": {
          "base_uri": "https://localhost:8080/"
        },
        "id": "lHnYf25NQ7LU",
        "outputId": "ec40ffa8-fa15-4017-9dbc-ea905b25d6f6"
      },
      "execution_count": 6,
      "outputs": [
        {
          "output_type": "stream",
          "name": "stdout",
          "text": [
            "2\n"
          ]
        }
      ]
    },
    {
      "cell_type": "code",
      "source": [
        "str6=\"Tushar\"\n",
        "count =0\n",
        "for i  in str5:\n",
        "  if i not in [\"a\",\"e\",\"i\",\"o\",\"u\"]:\n",
        "    count=count+1;\n",
        "print(count)"
      ],
      "metadata": {
        "colab": {
          "base_uri": "https://localhost:8080/"
        },
        "id": "a0Xlj5LTQ7Nu",
        "outputId": "be38718c-6d9c-457e-c775-b7130656c81b"
      },
      "execution_count": 7,
      "outputs": [
        {
          "output_type": "stream",
          "name": "stdout",
          "text": [
            "4\n"
          ]
        }
      ]
    },
    {
      "cell_type": "code",
      "source": [
        "str7=\"         Tus       har      \"\n",
        "str7=str7.replace(\" \",\"\")\n",
        "print(str7.strip())"
      ],
      "metadata": {
        "colab": {
          "base_uri": "https://localhost:8080/"
        },
        "id": "I-Dhh39ZQ7RQ",
        "outputId": "669bd7a4-a5aa-46ac-a032-7ceb4615e621"
      },
      "execution_count": 8,
      "outputs": [
        {
          "output_type": "stream",
          "name": "stdout",
          "text": [
            "Tushar\n"
          ]
        }
      ]
    },
    {
      "cell_type": "code",
      "source": [
        "str8=\"Tushar\"\n",
        "count=0\n",
        "for i in str8:\n",
        "  count=count+1\n",
        "print(count)"
      ],
      "metadata": {
        "colab": {
          "base_uri": "https://localhost:8080/"
        },
        "id": "R_0pzGYeV9Kz",
        "outputId": "1a588c65-6e11-4b38-9551-d52c752f3a12"
      },
      "execution_count": 9,
      "outputs": [
        {
          "output_type": "stream",
          "name": "stdout",
          "text": [
            "6\n"
          ]
        }
      ]
    },
    {
      "cell_type": "code",
      "source": [
        "str9=\"Pwskills\"\n",
        "str=\"skill\"\n",
        "if(str in str9):\n",
        "  print(\"String contain specific word\")\n",
        "else:\n",
        "  print(\"No String does not contain specific word\")"
      ],
      "metadata": {
        "colab": {
          "base_uri": "https://localhost:8080/"
        },
        "id": "XMI6vwa5V9NV",
        "outputId": "b03c1be2-55dd-4fe9-f482-283484b0bea6"
      },
      "execution_count": 10,
      "outputs": [
        {
          "output_type": "stream",
          "name": "stdout",
          "text": [
            "String contain specific word\n"
          ]
        }
      ]
    },
    {
      "cell_type": "code",
      "source": [
        "str10=\"Pwskill\"\n",
        "print(str10.replace(\"skill\",\"skills\"))"
      ],
      "metadata": {
        "colab": {
          "base_uri": "https://localhost:8080/"
        },
        "id": "B1byBCjbV9QG",
        "outputId": "b736eb45-6dd2-4388-cb86-a5f2a1711b49"
      },
      "execution_count": 11,
      "outputs": [
        {
          "output_type": "stream",
          "name": "stdout",
          "text": [
            "Pwskills\n"
          ]
        }
      ]
    },
    {
      "cell_type": "code",
      "source": [
        "str11=\"This sentance is for testing  purpose and this sentance will not going to hurt any one !\"\n",
        "temp =\"sentance\"\n",
        "count=str11.count(temp)\n",
        "print(count)\n",
        "\n",
        "\n"
      ],
      "metadata": {
        "colab": {
          "base_uri": "https://localhost:8080/"
        },
        "id": "0hugQzR4V9Sr",
        "outputId": "5df8f6f0-2481-424f-f55d-31a4144672e5"
      },
      "execution_count": 12,
      "outputs": [
        {
          "output_type": "stream",
          "name": "stdout",
          "text": [
            "2\n"
          ]
        }
      ]
    },
    {
      "cell_type": "code",
      "source": [
        "# str11 = \"TusharGupta\"\n",
        "# temp = str11.lower()\n",
        "\n",
        "# # Using a different variable name to avoid confusion with count\n",
        "# for i in temp:\n",
        "#     char_count = temp.count(i)\n",
        "#     print(i + \" = \" + str(char_count))\n"
      ],
      "metadata": {
        "id": "Gkko720gV9VS"
      },
      "execution_count": 13,
      "outputs": []
    },
    {
      "cell_type": "code",
      "source": [
        "str12=\"This sentance is for testing  purpose and this sentance will not going to hurt any one !\"\n",
        "temp =\"sen\"\n",
        "index_occurances=str12.find(temp)\n",
        "print(index_occurances)"
      ],
      "metadata": {
        "colab": {
          "base_uri": "https://localhost:8080/"
        },
        "id": "A8nOa8w_V9X2",
        "outputId": "9beda152-76e3-43e2-dde8-a1eda4f17d9b"
      },
      "execution_count": 14,
      "outputs": [
        {
          "output_type": "stream",
          "name": "stdout",
          "text": [
            "5\n"
          ]
        }
      ]
    },
    {
      "cell_type": "code",
      "source": [
        "str13=\"This sentance is for testing  purpose and this sentance will not going to hurt any one !\"\n",
        "temp =\"sen\"\n",
        "index_occurances=str13.rfind(temp)\n",
        "print(index_occurances)"
      ],
      "metadata": {
        "colab": {
          "base_uri": "https://localhost:8080/"
        },
        "id": "3IyQecTpV9bL",
        "outputId": "5605fc8d-664e-40f1-b74a-988bc9f94d5e"
      },
      "execution_count": 15,
      "outputs": [
        {
          "output_type": "stream",
          "name": "stdout",
          "text": [
            "47\n"
          ]
        }
      ]
    },
    {
      "cell_type": "code",
      "source": [
        "list14=[]\n",
        "string14=\"Tushar\"\n",
        "list14.extend(string14)\n",
        "list14\n"
      ],
      "metadata": {
        "colab": {
          "base_uri": "https://localhost:8080/"
        },
        "id": "WrWg2qUOQBHp",
        "outputId": "f72f147d-64b7-4588-ccb0-d50ba315d3cd"
      },
      "execution_count": 16,
      "outputs": [
        {
          "output_type": "execute_result",
          "data": {
            "text/plain": [
              "['T', 'u', 's', 'h', 'a', 'r']"
            ]
          },
          "metadata": {},
          "execution_count": 16
        }
      ]
    },
    {
      "cell_type": "code",
      "source": [
        "list15=[\"Alpha\",\"beta\",\"ceta\",\"delta\"]\n",
        "str15=\"\"\n",
        "for x in list15:\n",
        "  str15=str15+x+\" \"\n",
        "\n",
        "str15"
      ],
      "metadata": {
        "colab": {
          "base_uri": "https://localhost:8080/",
          "height": 36
        },
        "id": "bX17sxDUQBKf",
        "outputId": "c791ef68-b735-4228-8894-76e90768380f"
      },
      "execution_count": 17,
      "outputs": [
        {
          "output_type": "execute_result",
          "data": {
            "text/plain": [
              "'Alpha beta ceta delta '"
            ],
            "application/vnd.google.colaboratory.intrinsic+json": {
              "type": "string"
            }
          },
          "metadata": {},
          "execution_count": 17
        }
      ]
    },
    {
      "cell_type": "markdown",
      "source": [
        "**TOPIC: String Based Assignment Problem**"
      ],
      "metadata": {
        "id": "8GqftYZaVCgr"
      }
    },
    {
      "cell_type": "code",
      "source": [
        "string16=\"This is sample string\"\n",
        "print(string16.replace(\" \",\"_\"))"
      ],
      "metadata": {
        "colab": {
          "base_uri": "https://localhost:8080/"
        },
        "id": "9GWY-q1wQBNh",
        "outputId": "38fa6d5a-8427-4b09-c350-dab5cad87e3d"
      },
      "execution_count": 18,
      "outputs": [
        {
          "output_type": "stream",
          "name": "stdout",
          "text": [
            "This_is_sample_string\n"
          ]
        }
      ]
    },
    {
      "cell_type": "code",
      "source": [
        "string17='''The world is so full\n",
        "of a number of things,\n",
        "I'm sure we should all\n",
        "be as happy as kings. '''\n",
        "word17=\"The\"\n",
        "if string17.startswith(word17):\n",
        "  print(\"yes\")\n",
        "else:\n",
        "  print(\"No\")"
      ],
      "metadata": {
        "colab": {
          "base_uri": "https://localhost:8080/"
        },
        "id": "DquH2JsHQBQ8",
        "outputId": "3a52c9c3-0b2f-4809-e155-2754ac08d592"
      },
      "execution_count": 19,
      "outputs": [
        {
          "output_type": "stream",
          "name": "stdout",
          "text": [
            "yes\n"
          ]
        }
      ]
    },
    {
      "cell_type": "code",
      "source": [
        "string18='''The world is so full\n",
        "of a number of things,\n",
        "I'm sure we should all\n",
        "be as happy as kings'''\n",
        "word18=\"kings\"\n",
        "if string18.endswith(word18):\n",
        "  print(\"yes\")\n",
        "else:\n",
        "  print(\"No\")"
      ],
      "metadata": {
        "colab": {
          "base_uri": "https://localhost:8080/"
        },
        "id": "hG6vAY38WyS3",
        "outputId": "9a1e9caa-5a55-4d75-b4fe-cbc088ab91cd"
      },
      "execution_count": 20,
      "outputs": [
        {
          "output_type": "stream",
          "name": "stdout",
          "text": [
            "yes\n"
          ]
        }
      ]
    },
    {
      "cell_type": "code",
      "source": [
        "string19=\"hello world\"\n",
        "print(string19.title())"
      ],
      "metadata": {
        "colab": {
          "base_uri": "https://localhost:8080/"
        },
        "id": "pBxcER64WyVW",
        "outputId": "853e8f42-ed70-46ad-883f-8410f123824c"
      },
      "execution_count": 21,
      "outputs": [
        {
          "output_type": "stream",
          "name": "stdout",
          "text": [
            "Hello World\n"
          ]
        }
      ]
    },
    {
      "cell_type": "markdown",
      "source": [
        "20. Find the longest word in a string.\n",
        "21. Find the shortest word in a string.\n",
        "22. Reverse the order of words in a string.\n",
        "23. Check if a string is alphanumeric.\n",
        "24. Extract all digits from a string.\n",
        "25. Extract all alphabets from a string.\n",
        "26. Count the number of uppercase letters in a string.\n",
        "27. Count the number of lowercase letters in a string.''"
      ],
      "metadata": {
        "id": "4MnCDt1G8JKJ"
      }
    },
    {
      "cell_type": "code",
      "source": [
        "string20=\"this is a phenomenal activity is going on phenomenals\"\n",
        "print(max(string20.split(\" \"),key=len))"
      ],
      "metadata": {
        "colab": {
          "base_uri": "https://localhost:8080/"
        },
        "id": "PMwq9VoAWyX5",
        "outputId": "429c0e21-4cb1-4f45-fe90-35ae6cc4da1b"
      },
      "execution_count": 22,
      "outputs": [
        {
          "output_type": "stream",
          "name": "stdout",
          "text": [
            "phenomenals\n"
          ]
        }
      ]
    },
    {
      "cell_type": "code",
      "source": [
        "string21=\"this is a phenomenal activity is going on phenomenals\"\n",
        "print(min(string21.split(\" \"),key=len))"
      ],
      "metadata": {
        "colab": {
          "base_uri": "https://localhost:8080/"
        },
        "id": "tFetbNjKWyaT",
        "outputId": "a530fbee-d007-42b9-bd8e-7d6c9b0f3569"
      },
      "execution_count": 23,
      "outputs": [
        {
          "output_type": "stream",
          "name": "stdout",
          "text": [
            "a\n"
          ]
        }
      ]
    },
    {
      "cell_type": "code",
      "source": [
        "string22=\"this is a phenomenal activity is going on phenomenals\"\n",
        "print(string22[::-1])"
      ],
      "metadata": {
        "colab": {
          "base_uri": "https://localhost:8080/"
        },
        "id": "Sz81IIZCWydz",
        "outputId": "6414eefd-b183-44f8-8ab0-c161ee6ba0df"
      },
      "execution_count": 24,
      "outputs": [
        {
          "output_type": "stream",
          "name": "stdout",
          "text": [
            "slanemonehp no gniog si ytivitca lanemonehp a si siht\n"
          ]
        }
      ]
    },
    {
      "cell_type": "code",
      "source": [
        "string23=\"Pwskills123\"\n",
        "if (string23.isalnum()):\n",
        "  print(\"This is alphanumberic series\")\n",
        "else:\n",
        "  print(\"This is not alphanumberic series\")"
      ],
      "metadata": {
        "colab": {
          "base_uri": "https://localhost:8080/"
        },
        "id": "85hE36_VACgH",
        "outputId": "ef396fcb-9d1e-4483-e1b8-2c2f18c6703a"
      },
      "execution_count": 25,
      "outputs": [
        {
          "output_type": "stream",
          "name": "stdout",
          "text": [
            "This is alphanumberic series\n"
          ]
        }
      ]
    },
    {
      "cell_type": "code",
      "source": [
        "string24=\"There are 2 apples for 4 persons\"\n",
        "temp=[]\n",
        "list=string24.split(\" \")\n",
        "for i in list:\n",
        "  if i.isdigit():\n",
        "    temp.append(i)\n",
        "\n",
        "temp"
      ],
      "metadata": {
        "colab": {
          "base_uri": "https://localhost:8080/"
        },
        "id": "rDVcMz6FACjo",
        "outputId": "3019a655-8a7f-4685-f808-60808d6bc563"
      },
      "execution_count": 26,
      "outputs": [
        {
          "output_type": "execute_result",
          "data": {
            "text/plain": [
              "['2', '4']"
            ]
          },
          "metadata": {},
          "execution_count": 26
        }
      ]
    },
    {
      "cell_type": "code",
      "source": [
        "string25=\"There are 2 apples for 4 persons\"\n",
        "temp=[]\n",
        "list=string25.split(\" \")\n",
        "for i in list:\n",
        "  if i.isalpha():\n",
        "    temp.append(i)\n",
        "\n",
        "temp"
      ],
      "metadata": {
        "colab": {
          "base_uri": "https://localhost:8080/"
        },
        "id": "wRXqTgWsC7ew",
        "outputId": "b40c353f-c3e0-4fbe-910a-a98af7f25be9"
      },
      "execution_count": 27,
      "outputs": [
        {
          "output_type": "execute_result",
          "data": {
            "text/plain": [
              "['There', 'are', 'apples', 'for', 'persons']"
            ]
          },
          "metadata": {},
          "execution_count": 27
        }
      ]
    },
    {
      "cell_type": "code",
      "source": [
        "string26=\"TusharGupta\"\n",
        "count=0\n",
        "for i in string26:\n",
        "  if i.isupper():\n",
        "    count =count +1\n",
        "count\n"
      ],
      "metadata": {
        "colab": {
          "base_uri": "https://localhost:8080/"
        },
        "id": "aFuzSJnVC7hy",
        "outputId": "6515e923-3e5e-44d8-b1d2-c9ab393be899"
      },
      "execution_count": 28,
      "outputs": [
        {
          "output_type": "execute_result",
          "data": {
            "text/plain": [
              "2"
            ]
          },
          "metadata": {},
          "execution_count": 28
        }
      ]
    },
    {
      "cell_type": "code",
      "source": [
        "string27=\"TusharGupta\"\n",
        "count=0\n",
        "for i in string26:\n",
        "  if i.islower():\n",
        "    count =count +1\n",
        "count"
      ],
      "metadata": {
        "colab": {
          "base_uri": "https://localhost:8080/"
        },
        "id": "MTDxXpsfC7lV",
        "outputId": "812121ad-ed0c-4218-c290-42372d95c514"
      },
      "execution_count": 29,
      "outputs": [
        {
          "output_type": "execute_result",
          "data": {
            "text/plain": [
              "9"
            ]
          },
          "metadata": {},
          "execution_count": 29
        }
      ]
    },
    {
      "cell_type": "markdown",
      "source": [
        "28. Swap the case of each character in a string.\n",
        "29. Remove a specific word from a string.\n",
        "30. Check if a string is a valid email address."
      ],
      "metadata": {
        "id": "A9L_B8XnEIiw"
      }
    },
    {
      "cell_type": "code",
      "source": [
        "string28 =\"JamesBond\"\n",
        "for i in string28:\n",
        "  if i.isupper():\n",
        "    newstr+=i.lower()\n",
        "  else:\n",
        "    newstr+=i.upper()\n",
        "newstr"
      ],
      "metadata": {
        "colab": {
          "base_uri": "https://localhost:8080/",
          "height": 245
        },
        "id": "QHFDn5s1C7v9",
        "outputId": "6e95db45-22b0-4872-f417-4ec5fd9bc63f"
      },
      "execution_count": 30,
      "outputs": [
        {
          "output_type": "error",
          "ename": "NameError",
          "evalue": "ignored",
          "traceback": [
            "\u001b[0;31m---------------------------------------------------------------------------\u001b[0m",
            "\u001b[0;31mNameError\u001b[0m                                 Traceback (most recent call last)",
            "\u001b[0;32m<ipython-input-30-ae5d73306d8c>\u001b[0m in \u001b[0;36m<cell line: 2>\u001b[0;34m()\u001b[0m\n\u001b[1;32m      2\u001b[0m \u001b[0;32mfor\u001b[0m \u001b[0mi\u001b[0m \u001b[0;32min\u001b[0m \u001b[0mstring28\u001b[0m\u001b[0;34m:\u001b[0m\u001b[0;34m\u001b[0m\u001b[0;34m\u001b[0m\u001b[0m\n\u001b[1;32m      3\u001b[0m   \u001b[0;32mif\u001b[0m \u001b[0mi\u001b[0m\u001b[0;34m.\u001b[0m\u001b[0misupper\u001b[0m\u001b[0;34m(\u001b[0m\u001b[0;34m)\u001b[0m\u001b[0;34m:\u001b[0m\u001b[0;34m\u001b[0m\u001b[0;34m\u001b[0m\u001b[0m\n\u001b[0;32m----> 4\u001b[0;31m     \u001b[0mnewstr\u001b[0m\u001b[0;34m+=\u001b[0m\u001b[0mi\u001b[0m\u001b[0;34m.\u001b[0m\u001b[0mlower\u001b[0m\u001b[0;34m(\u001b[0m\u001b[0;34m)\u001b[0m\u001b[0;34m\u001b[0m\u001b[0;34m\u001b[0m\u001b[0m\n\u001b[0m\u001b[1;32m      5\u001b[0m   \u001b[0;32melse\u001b[0m\u001b[0;34m:\u001b[0m\u001b[0;34m\u001b[0m\u001b[0;34m\u001b[0m\u001b[0m\n\u001b[1;32m      6\u001b[0m     \u001b[0mnewstr\u001b[0m\u001b[0;34m+=\u001b[0m\u001b[0mi\u001b[0m\u001b[0;34m.\u001b[0m\u001b[0mupper\u001b[0m\u001b[0;34m(\u001b[0m\u001b[0;34m)\u001b[0m\u001b[0;34m\u001b[0m\u001b[0;34m\u001b[0m\u001b[0m\n",
            "\u001b[0;31mNameError\u001b[0m: name 'newstr' is not defined"
          ]
        }
      ]
    },
    {
      "cell_type": "code",
      "source": [
        "from os import remove\n",
        "string29=\"this is a phenomenal activity is going on phenomenals\"\n",
        "word=\"phenomenals\"\n",
        "string29=string29.replace(word,\"\")\n",
        "string29"
      ],
      "metadata": {
        "id": "v0jVjU3jIv_D"
      },
      "execution_count": null,
      "outputs": []
    },
    {
      "cell_type": "code",
      "source": [
        "import re\n",
        "string30=\"tushargupta981@gmail.com\"\n",
        "pattern = r\"^[a-zA-Z0-9_.+-]+@[a-zA-Z0-9-]+\\.[a-zA-Z0-9-.]+$\"\n",
        "result=bool(re.match(pattern, string30))\n",
        "result"
      ],
      "metadata": {
        "id": "VVfTgWqkIwKa"
      },
      "execution_count": null,
      "outputs": []
    },
    {
      "cell_type": "markdown",
      "source": [
        "31. Extract the username from an email address string.\n",
        "32. Extract the domain name from an email address string.\n",
        "33. Replace multiple spaces in a string with a single space.\n",
        "34. Check if a string is a valid URL.\n",
        "35. Extract the protocol (http or https) from a URL string.\n",
        "36. Find the frequency of each character in a string.\n",
        "37. Remove all punctuation from a string.\n",
        "38. Check if a string contains only digits.\n",
        "39. Check if a string contains only alphabets.\n",
        "40. Convert a string to a list of characters.\n",
        "41. Check if two strings are anagrams.\n",
        "42. Encode a string using a Caesar cipher.\n",
        "43. Decode a Caesar cipher encoded string.\n",
        "44. Find the most frequent word in a string.\n",
        "45. Find all unique words in a string.\n",
        "46. Count the number of syllables in a string.\n",
        "\n",
        "> Indented block\n",
        "\n",
        "> Indented block\n",
        "\n",
        "\n",
        "\n"
      ],
      "metadata": {
        "id": "Y-mxBuKuhimj"
      }
    },
    {
      "cell_type": "code",
      "source": [
        "string31=\"tushargupta981@gmail.com\"\n",
        "templist=string31.split(\"@\")\n",
        "print(templist[0])"
      ],
      "metadata": {
        "colab": {
          "base_uri": "https://localhost:8080/"
        },
        "id": "rvKHGGOvhmCR",
        "outputId": "0454af95-0fce-45fb-b373-a45738e01848"
      },
      "execution_count": 32,
      "outputs": [
        {
          "output_type": "stream",
          "name": "stdout",
          "text": [
            "tushargupta981\n"
          ]
        }
      ]
    },
    {
      "cell_type": "code",
      "source": [
        "string32=\"tushargupta981@gmail.com\"\n",
        "templist=string32.split(\"@\")\n",
        "print(templist[1])"
      ],
      "metadata": {
        "colab": {
          "base_uri": "https://localhost:8080/"
        },
        "id": "1raeab9ohmP9",
        "outputId": "cd3b06cf-c565-4e5a-875b-05aa437ea2b9"
      },
      "execution_count": 33,
      "outputs": [
        {
          "output_type": "stream",
          "name": "stdout",
          "text": [
            "gmail.com\n"
          ]
        }
      ]
    },
    {
      "cell_type": "code",
      "source": [
        "string33=\"    Tushar          Gupta   \"\n",
        "temp=string33.trim()\n",
        "temp1=temp.replace(\"  \", \" \")\n",
        "print(temp1)"
      ],
      "metadata": {
        "id": "KaxHZLPVhmSb"
      },
      "execution_count": null,
      "outputs": []
    },
    {
      "cell_type": "code",
      "source": [
        "!pip install validators"
      ],
      "metadata": {
        "id": "CFmbeZpnhmX5"
      },
      "execution_count": null,
      "outputs": []
    },
    {
      "cell_type": "code",
      "source": [
        "import validators\n",
        "validators.url(\"https://www.google.com\")"
      ],
      "metadata": {
        "id": "78JfIhjhhmVY"
      },
      "execution_count": null,
      "outputs": []
    },
    {
      "cell_type": "code",
      "source": [
        "string35=\"https://www.google.com\"\n",
        "list=string35.split(\":\")\n",
        "print(list[0])"
      ],
      "metadata": {
        "id": "h3VuSgAthmai"
      },
      "execution_count": null,
      "outputs": []
    },
    {
      "cell_type": "code",
      "source": [
        "string36=\"pwskills\"\n",
        "temp=[]\n",
        "for i in string36:\n",
        "  if i not in temp:\n",
        "    temp.append(i)\n",
        "for i in temp:\n",
        "  print(i+\"=\" +str(string36.count(i)))\n",
        "\n"
      ],
      "metadata": {
        "id": "qEdYb0hwhmdU"
      },
      "execution_count": null,
      "outputs": []
    },
    {
      "cell_type": "code",
      "source": [
        "string37 = \"Hey, Tushar! Are you well today?\"\n",
        "punctuations = \",.? -:!\"\n",
        "x=\" \"\n",
        "y=\" \"\n",
        "mytable = str.maketrans(x, y, punctuations)\n",
        "\n",
        "''' temp = string37.translate(str.maketrans(punctuations)) '''\n",
        "print(string37.translate(mytable))\n"
      ],
      "metadata": {
        "id": "fUh40C1Dhmft"
      },
      "execution_count": null,
      "outputs": []
    },
    {
      "cell_type": "code",
      "source": [
        "import re\n",
        "string38=\"I am 10 years old\"\n",
        "print(string38.isdigit())\n",
        "\n",
        ""
      ],
      "metadata": {
        "id": "gCBXgXZYhmiI"
      },
      "execution_count": null,
      "outputs": []
    },
    {
      "cell_type": "code",
      "source": [
        "string38=\"1023456765432\"\n",
        "print(string38.isdigit())"
      ],
      "metadata": {
        "id": "gnQLTPJ9hmks"
      },
      "execution_count": null,
      "outputs": []
    },
    {
      "cell_type": "code",
      "source": [
        "string39=\"I am years old\"\n",
        "print(string39.isalpha())"
      ],
      "metadata": {
        "id": "x0z547iLhmnV"
      },
      "execution_count": null,
      "outputs": []
    },
    {
      "cell_type": "code",
      "source": [
        "string40=\"I am years old\"\n",
        "temp=list(string40)\n",
        "print(temp)"
      ],
      "metadata": {
        "colab": {
          "base_uri": "https://localhost:8080/",
          "height": 210
        },
        "id": "qmHqMopshmp8",
        "outputId": "031af08f-00f7-417b-d0d2-29a8d5d8fa59"
      },
      "execution_count": 31,
      "outputs": [
        {
          "output_type": "error",
          "ename": "TypeError",
          "evalue": "ignored",
          "traceback": [
            "\u001b[0;31m---------------------------------------------------------------------------\u001b[0m",
            "\u001b[0;31mTypeError\u001b[0m                                 Traceback (most recent call last)",
            "\u001b[0;32m<ipython-input-31-07ae96ac20b7>\u001b[0m in \u001b[0;36m<cell line: 2>\u001b[0;34m()\u001b[0m\n\u001b[1;32m      1\u001b[0m \u001b[0mstring40\u001b[0m\u001b[0;34m=\u001b[0m\u001b[0;34m\"I am years old\"\u001b[0m\u001b[0;34m\u001b[0m\u001b[0;34m\u001b[0m\u001b[0m\n\u001b[0;32m----> 2\u001b[0;31m \u001b[0mtemp\u001b[0m\u001b[0;34m=\u001b[0m\u001b[0mlist\u001b[0m\u001b[0;34m(\u001b[0m\u001b[0mstring40\u001b[0m\u001b[0;34m)\u001b[0m\u001b[0;34m\u001b[0m\u001b[0;34m\u001b[0m\u001b[0m\n\u001b[0m\u001b[1;32m      3\u001b[0m \u001b[0mprint\u001b[0m\u001b[0;34m(\u001b[0m\u001b[0mtemp\u001b[0m\u001b[0;34m)\u001b[0m\u001b[0;34m\u001b[0m\u001b[0;34m\u001b[0m\u001b[0m\n",
            "\u001b[0;31mTypeError\u001b[0m: 'list' object is not callable"
          ]
        }
      ]
    },
    {
      "cell_type": "code",
      "source": [],
      "metadata": {
        "id": "VaqAMLcnfHqm"
      },
      "execution_count": null,
      "outputs": []
    },
    {
      "cell_type": "code",
      "source": [],
      "metadata": {
        "id": "g1QIjjWLhmsx"
      },
      "execution_count": null,
      "outputs": []
    },
    {
      "cell_type": "code",
      "source": [],
      "metadata": {
        "id": "6C6O0D-mhmvn"
      },
      "execution_count": null,
      "outputs": []
    },
    {
      "cell_type": "code",
      "source": [],
      "metadata": {
        "id": "GpvgIOLVhmx3"
      },
      "execution_count": null,
      "outputs": []
    }
  ]
}