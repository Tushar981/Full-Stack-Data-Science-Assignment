{
  "nbformat": 4,
  "nbformat_minor": 0,
  "metadata": {
    "colab": {
      "provenance": [],
      "authorship_tag": "ABX9TyOOemVR1ptSUX5KCn6dewwx",
      "include_colab_link": true
    },
    "kernelspec": {
      "name": "python3",
      "display_name": "Python 3"
    },
    "language_info": {
      "name": "python"
    }
  },
  "cells": [
    {
      "cell_type": "markdown",
      "metadata": {
        "id": "view-in-github",
        "colab_type": "text"
      },
      "source": [
        "<a href=\"https://colab.research.google.com/github/Tushar981/Full-Stack-Data-Science-Assignment/blob/main/For_Loop_Assignment_.ipynb\" target=\"_parent\"><img src=\"https://colab.research.google.com/assets/colab-badge.svg\" alt=\"Open In Colab\"/></a>"
      ]
    },
    {
      "cell_type": "markdown",
      "source": [
        "Basic Level:\n"
      ],
      "metadata": {
        "id": "yozDZ3g2RlvH"
      }
    },
    {
      "cell_type": "markdown",
      "source": [
        "\n",
        "1 . Write a Python program to print the numbers from 1 to 10 using a for loop."
      ],
      "metadata": {
        "id": "GmsisNyALC5Z"
      }
    },
    {
      "cell_type": "code",
      "source": [
        "for i in range(101):\n",
        "  print(i,\" , \",end=\"\")"
      ],
      "metadata": {
        "colab": {
          "base_uri": "https://localhost:8080/"
        },
        "id": "pS3EyeLxRxHR",
        "outputId": "65567f96-1358-4a7f-c93f-02bef0dad135"
      },
      "execution_count": null,
      "outputs": [
        {
          "output_type": "stream",
          "name": "stdout",
          "text": [
            "0  , 1  , 2  , 3  , 4  , 5  , 6  , 7  , 8  , 9  , 10  , 11  , 12  , 13  , 14  , 15  , 16  , 17  , 18  , 19  , 20  , 21  , 22  , 23  , 24  , 25  , 26  , 27  , 28  , 29  , 30  , 31  , 32  , 33  , 34  , 35  , 36  , 37  , 38  , 39  , 40  , 41  , 42  , 43  , 44  , 45  , 46  , 47  , 48  , 49  , 50  , 51  , 52  , 53  , 54  , 55  , 56  , 57  , 58  , 59  , 60  , 61  , 62  , 63  , 64  , 65  , 66  , 67  , 68  , 69  , 70  , 71  , 72  , 73  , 74  , 75  , 76  , 77  , 78  , 79  , 80  , 81  , 82  , 83  , 84  , 85  , 86  , 87  , 88  , 89  , 90  , 91  , 92  , 93  , 94  , 95  , 96  , 97  , 98  , 99  , 100  , "
          ]
        }
      ]
    },
    {
      "cell_type": "markdown",
      "source": [
        "2.Create a program that calculates the sum of all numbers in a list using a for loop."
      ],
      "metadata": {
        "id": "qlzMWSGmLJkb"
      }
    },
    {
      "cell_type": "code",
      "source": [
        "list=[3,6,4,5,3,9,6,4]\n",
        "count=0\n",
        "if len(list)>0:\n",
        "  for i in list:\n",
        "    count+=i\n",
        "\n",
        "print(\"Sum of list item is = \",count)"
      ],
      "metadata": {
        "colab": {
          "base_uri": "https://localhost:8080/"
        },
        "id": "Q8172w5oRxch",
        "outputId": "6501ea69-41e3-4e35-a507-0e2e1da680a6"
      },
      "execution_count": null,
      "outputs": [
        {
          "output_type": "stream",
          "name": "stdout",
          "text": [
            "Sum of list item is =  40\n"
          ]
        }
      ]
    },
    {
      "cell_type": "markdown",
      "source": [
        "3. Write a program to print the characters of a string in reverse order using a `for` loop."
      ],
      "metadata": {
        "id": "tDqGPwd9LNy7"
      }
    },
    {
      "cell_type": "code",
      "source": [
        "string1 =\"Tushar\"\n",
        "length=len(string1)-1\n",
        "string2=\"\"\n",
        "for i in range(length,-1,-1):\n",
        "  string2+=string1[i]\n",
        "\n",
        "print(string2)"
      ],
      "metadata": {
        "colab": {
          "base_uri": "https://localhost:8080/"
        },
        "id": "r1Fo-7OxS90m",
        "outputId": "ae72929e-1973-476c-d0dc-28b36edd44f5"
      },
      "execution_count": 3,
      "outputs": [
        {
          "output_type": "stream",
          "name": "stdout",
          "text": [
            "rahsuT\n"
          ]
        }
      ]
    },
    {
      "cell_type": "markdown",
      "source": [
        "4. Develop a program that finds the factorial of a given number using a `for` loop."
      ],
      "metadata": {
        "id": "XnZvj-dDLSav"
      }
    },
    {
      "cell_type": "code",
      "source": [
        "value =5\n",
        "calc=1\n",
        "for i in range(1,value+1):\n",
        "  calc*=i\n",
        "\n",
        "print(calc)"
      ],
      "metadata": {
        "id": "3lohBkCkTzFB",
        "colab": {
          "base_uri": "https://localhost:8080/"
        },
        "outputId": "57e93c69-1a5c-41f6-e350-491c517014d1"
      },
      "execution_count": 4,
      "outputs": [
        {
          "output_type": "stream",
          "name": "stdout",
          "text": [
            "120\n"
          ]
        }
      ]
    },
    {
      "cell_type": "markdown",
      "source": [
        "5. Create a program to print the multiplication table of a given number using a `for` loop."
      ],
      "metadata": {
        "id": "rEkZF_UzLVw1"
      }
    },
    {
      "cell_type": "code",
      "source": [
        "table=5\n",
        "for i in range(1,11):\n",
        "  print(i*table)"
      ],
      "metadata": {
        "id": "igwr_irTTzIo",
        "colab": {
          "base_uri": "https://localhost:8080/"
        },
        "outputId": "292f0b15-f0a2-4b9c-e09a-8bf452000c46"
      },
      "execution_count": 8,
      "outputs": [
        {
          "output_type": "stream",
          "name": "stdout",
          "text": [
            "5\n",
            "10\n",
            "15\n",
            "20\n",
            "25\n",
            "30\n",
            "35\n",
            "40\n",
            "45\n",
            "50\n"
          ]
        }
      ]
    },
    {
      "cell_type": "markdown",
      "source": [
        "6. Write a program that counts the number of even and odd numbers in a list using a `for` loop."
      ],
      "metadata": {
        "id": "-mvolj_0LYzW"
      }
    },
    {
      "cell_type": "code",
      "source": [
        "num=int(input(\"Enter Number\"))\n",
        "ECount=0\n",
        "OCount=0\n",
        "for i in range(1,num+1):\n",
        "  if(i % 2)==0:\n",
        "    ECount+=1\n",
        "  else:\n",
        "    OCount+=1\n",
        "print(\"Even Numbers are =\"+str(ECount))\n",
        "print(\"Odd Numbers are =\"+str(OCount))"
      ],
      "metadata": {
        "colab": {
          "base_uri": "https://localhost:8080/"
        },
        "id": "sOcDLiyFLzjb",
        "outputId": "8f039200-6b38-4888-849b-610217034338"
      },
      "execution_count": 30,
      "outputs": [
        {
          "output_type": "stream",
          "name": "stdout",
          "text": [
            "Enter Number15\n",
            "Even Numbers are =7\n",
            "Odd Numbers are =8\n"
          ]
        }
      ]
    },
    {
      "cell_type": "markdown",
      "source": [
        "7. Develop a program that prints the squares of numbers from 1 to 5 using a `for` loop."
      ],
      "metadata": {
        "id": "JSthsjtBLb5w"
      }
    },
    {
      "cell_type": "code",
      "source": [
        "for i in range(1,6):\n",
        "  print(i**2)"
      ],
      "metadata": {
        "id": "srSrTLA6TzXf",
        "colab": {
          "base_uri": "https://localhost:8080/"
        },
        "outputId": "32dd7b86-6054-4bae-a0be-1318682e0baf"
      },
      "execution_count": 9,
      "outputs": [
        {
          "output_type": "stream",
          "name": "stdout",
          "text": [
            "1\n",
            "4\n",
            "9\n",
            "16\n",
            "25\n"
          ]
        }
      ]
    },
    {
      "cell_type": "markdown",
      "source": [
        "8. Create a program to find the length of a string without using the `len()` function."
      ],
      "metadata": {
        "id": "U3DDuC8YLfom"
      }
    },
    {
      "cell_type": "code",
      "source": [
        "string =\"Tushar\"\n",
        "count=0\n",
        "for i in string:\n",
        "  count+=1\n",
        "print(count)"
      ],
      "metadata": {
        "id": "AFGrMbDFTzaD",
        "colab": {
          "base_uri": "https://localhost:8080/"
        },
        "outputId": "499135e4-faac-4f04-986b-5005547636bf"
      },
      "execution_count": 12,
      "outputs": [
        {
          "output_type": "stream",
          "name": "stdout",
          "text": [
            "6\n"
          ]
        }
      ]
    },
    {
      "cell_type": "markdown",
      "source": [
        "9. Write a program that calculates the average of a list of numbers using a `for` loop.\n"
      ],
      "metadata": {
        "id": "p1O-tRP8Li4o"
      }
    },
    {
      "cell_type": "code",
      "source": [
        "temp_list=[43,23,41,98,45]\n",
        "temp=0\n",
        "length=len(temp_list)\n",
        "for i in range(0,length):\n",
        "  temp+=temp_list[i]\n",
        "\n",
        "print((temp/length))"
      ],
      "metadata": {
        "id": "WW6V7e9dTzdg",
        "colab": {
          "base_uri": "https://localhost:8080/"
        },
        "outputId": "b32a30aa-b921-4f92-e111-a288c2193a43"
      },
      "execution_count": 15,
      "outputs": [
        {
          "output_type": "stream",
          "name": "stdout",
          "text": [
            "50.0\n"
          ]
        }
      ]
    },
    {
      "cell_type": "markdown",
      "source": [
        "10. Develop a program that prints the first `n` Fibonacci numbers using a `for` loop"
      ],
      "metadata": {
        "id": "Lkaem-MpLo9p"
      }
    },
    {
      "cell_type": "code",
      "source": [
        "num =int(input(\"Enter number\"))\n",
        "list=[]\n",
        "if num==0:\n",
        "  print(0)\n",
        "elif num ==1:\n",
        "  print(1)\n",
        "else:\n",
        "  list.append(0)\n",
        "  list.append(1)\n",
        "  for i in range(2,num):\n",
        "    list.append(list[i-1]+list[i-2])\n",
        "\n",
        "  print(list)\n"
      ],
      "metadata": {
        "colab": {
          "base_uri": "https://localhost:8080/"
        },
        "id": "Q2yhS-xcGXgD",
        "outputId": "2b1e5bdd-5311-4621-8158-e594b5a2d2c8"
      },
      "execution_count": 28,
      "outputs": [
        {
          "output_type": "stream",
          "name": "stdout",
          "text": [
            "Enter number8\n",
            "[0, 1, 1, 2, 3, 5, 8, 13]\n"
          ]
        }
      ]
    },
    {
      "cell_type": "markdown",
      "source": [
        "Intermediate Level:\n",
        "\n",
        "11. Write a program to check if a given list contains any duplicates using a `for` loop.\n",
        "\n",
        "12. Create a program that prints the prime numbers in a given range using a `for` loop.\n",
        "\n",
        "13. Develop a program that counts the number of vowels in a string using a `for` loop.\n",
        "\n",
        "14. Write a program to find the maximum element in a 2D list using a nested `for` loop.\n",
        "\n",
        "15. Create a program that removes all occurrences of a specific element from a list using a `for` loop.\n",
        "\n",
        "16. Develop a program that generates a multiplication table for numbers from 1 to 5 using a nested `for` loop.\n",
        "\n",
        "17. Write a program that converts a list of Fahrenheit temperatures to Celsius using a `for` loop.\n",
        "\n",
        "18. Create a program to print the common elements from two lists using a `for` loop.\n",
        "\n",
        "19. Develop a program that prints the pattern of right-angled triangles using a `for` loop. Use ‘*’ to draw the\n",
        "pattern\n",
        "\n",
        "20. Write a program to find the greatest common divisor (GCD) of two numbers using a `for` loop.\n",
        "\n",
        "\n"
      ],
      "metadata": {
        "id": "cWh4IBf8Pzyd"
      }
    },
    {
      "cell_type": "code",
      "source": [
        "list =[20,23,34,41,98,23]\n",
        "for i in list:\n",
        "  for"
      ],
      "metadata": {
        "id": "08s-ybRAMzMp"
      },
      "execution_count": null,
      "outputs": []
    }
  ]
}