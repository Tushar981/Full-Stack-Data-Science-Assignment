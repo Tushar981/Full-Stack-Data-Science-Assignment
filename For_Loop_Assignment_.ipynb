{
  "nbformat": 4,
  "nbformat_minor": 0,
  "metadata": {
    "colab": {
      "provenance": [],
      "authorship_tag": "ABX9TyNUMUZZ4+GgqY7bl0nzLXZj",
      "include_colab_link": true
    },
    "kernelspec": {
      "name": "python3",
      "display_name": "Python 3"
    },
    "language_info": {
      "name": "python"
    }
  },
  "cells": [
    {
      "cell_type": "markdown",
      "metadata": {
        "id": "view-in-github",
        "colab_type": "text"
      },
      "source": [
        "<a href=\"https://colab.research.google.com/github/Tushar981/Full-Stack-Data-Science-Assignment/blob/main/For_Loop_Assignment_.ipynb\" target=\"_parent\"><img src=\"https://colab.research.google.com/assets/colab-badge.svg\" alt=\"Open In Colab\"/></a>"
      ]
    },
    {
      "cell_type": "markdown",
      "source": [
        "Basic Level:\n"
      ],
      "metadata": {
        "id": "yozDZ3g2RlvH"
      }
    },
    {
      "cell_type": "markdown",
      "source": [
        "\n",
        "1 . Write a Python program to print the numbers from 1 to 10 using a for loop."
      ],
      "metadata": {
        "id": "GmsisNyALC5Z"
      }
    },
    {
      "cell_type": "code",
      "source": [
        "for i in range(101):\n",
        "  print(i,\" , \",end=\"\")"
      ],
      "metadata": {
        "colab": {
          "base_uri": "https://localhost:8080/"
        },
        "id": "pS3EyeLxRxHR",
        "outputId": "65567f96-1358-4a7f-c93f-02bef0dad135"
      },
      "execution_count": null,
      "outputs": [
        {
          "output_type": "stream",
          "name": "stdout",
          "text": [
            "0  , 1  , 2  , 3  , 4  , 5  , 6  , 7  , 8  , 9  , 10  , 11  , 12  , 13  , 14  , 15  , 16  , 17  , 18  , 19  , 20  , 21  , 22  , 23  , 24  , 25  , 26  , 27  , 28  , 29  , 30  , 31  , 32  , 33  , 34  , 35  , 36  , 37  , 38  , 39  , 40  , 41  , 42  , 43  , 44  , 45  , 46  , 47  , 48  , 49  , 50  , 51  , 52  , 53  , 54  , 55  , 56  , 57  , 58  , 59  , 60  , 61  , 62  , 63  , 64  , 65  , 66  , 67  , 68  , 69  , 70  , 71  , 72  , 73  , 74  , 75  , 76  , 77  , 78  , 79  , 80  , 81  , 82  , 83  , 84  , 85  , 86  , 87  , 88  , 89  , 90  , 91  , 92  , 93  , 94  , 95  , 96  , 97  , 98  , 99  , 100  , "
          ]
        }
      ]
    },
    {
      "cell_type": "markdown",
      "source": [
        "2.Create a program that calculates the sum of all numbers in a list using a for loop."
      ],
      "metadata": {
        "id": "qlzMWSGmLJkb"
      }
    },
    {
      "cell_type": "code",
      "source": [
        "list=[3,6,4,5,3,9,6,4]\n",
        "count=0\n",
        "if len(list)>0:\n",
        "  for i in list:\n",
        "    count+=i\n",
        "\n",
        "print(\"Sum of list item is = \",count)"
      ],
      "metadata": {
        "colab": {
          "base_uri": "https://localhost:8080/"
        },
        "id": "Q8172w5oRxch",
        "outputId": "6501ea69-41e3-4e35-a507-0e2e1da680a6"
      },
      "execution_count": null,
      "outputs": [
        {
          "output_type": "stream",
          "name": "stdout",
          "text": [
            "Sum of list item is =  40\n"
          ]
        }
      ]
    },
    {
      "cell_type": "markdown",
      "source": [
        "3. Write a program to print the characters of a string in reverse order using a `for` loop."
      ],
      "metadata": {
        "id": "tDqGPwd9LNy7"
      }
    },
    {
      "cell_type": "code",
      "source": [
        "string1 =\"Tushar\"\n",
        "length=len(string1)-1\n",
        "string2=\"\"\n",
        "for i in range(length,-1,-1):\n",
        "  string2+=string1[i]\n",
        "\n",
        "print(string2)"
      ],
      "metadata": {
        "colab": {
          "base_uri": "https://localhost:8080/"
        },
        "id": "r1Fo-7OxS90m",
        "outputId": "ae72929e-1973-476c-d0dc-28b36edd44f5"
      },
      "execution_count": null,
      "outputs": [
        {
          "output_type": "stream",
          "name": "stdout",
          "text": [
            "rahsuT\n"
          ]
        }
      ]
    },
    {
      "cell_type": "markdown",
      "source": [
        "4. Develop a program that finds the factorial of a given number using a `for` loop."
      ],
      "metadata": {
        "id": "XnZvj-dDLSav"
      }
    },
    {
      "cell_type": "code",
      "source": [
        "value =5\n",
        "calc=1\n",
        "for i in range(1,value+1):\n",
        "  calc*=i\n",
        "\n",
        "print(calc)"
      ],
      "metadata": {
        "id": "3lohBkCkTzFB",
        "colab": {
          "base_uri": "https://localhost:8080/"
        },
        "outputId": "57e93c69-1a5c-41f6-e350-491c517014d1"
      },
      "execution_count": null,
      "outputs": [
        {
          "output_type": "stream",
          "name": "stdout",
          "text": [
            "120\n"
          ]
        }
      ]
    },
    {
      "cell_type": "markdown",
      "source": [
        "5. Create a program to print the multiplication table of a given number using a `for` loop."
      ],
      "metadata": {
        "id": "rEkZF_UzLVw1"
      }
    },
    {
      "cell_type": "code",
      "source": [
        "table=5\n",
        "for i in range(1,11):\n",
        "  print(i*table)"
      ],
      "metadata": {
        "id": "igwr_irTTzIo",
        "colab": {
          "base_uri": "https://localhost:8080/"
        },
        "outputId": "292f0b15-f0a2-4b9c-e09a-8bf452000c46"
      },
      "execution_count": null,
      "outputs": [
        {
          "output_type": "stream",
          "name": "stdout",
          "text": [
            "5\n",
            "10\n",
            "15\n",
            "20\n",
            "25\n",
            "30\n",
            "35\n",
            "40\n",
            "45\n",
            "50\n"
          ]
        }
      ]
    },
    {
      "cell_type": "markdown",
      "source": [
        "6. Write a program that counts the number of even and odd numbers in a list using a `for` loop."
      ],
      "metadata": {
        "id": "-mvolj_0LYzW"
      }
    },
    {
      "cell_type": "code",
      "source": [
        "num=int(input(\"Enter Number\"))\n",
        "ECount=0\n",
        "OCount=0\n",
        "for i in range(1,num+1):\n",
        "  if(i % 2)==0:\n",
        "    ECount+=1\n",
        "  else:\n",
        "    OCount+=1\n",
        "print(\"Even Numbers are =\"+str(ECount))\n",
        "print(\"Odd Numbers are =\"+str(OCount))"
      ],
      "metadata": {
        "colab": {
          "base_uri": "https://localhost:8080/"
        },
        "id": "sOcDLiyFLzjb",
        "outputId": "8f039200-6b38-4888-849b-610217034338"
      },
      "execution_count": null,
      "outputs": [
        {
          "output_type": "stream",
          "name": "stdout",
          "text": [
            "Enter Number15\n",
            "Even Numbers are =7\n",
            "Odd Numbers are =8\n"
          ]
        }
      ]
    },
    {
      "cell_type": "markdown",
      "source": [
        "7. Develop a program that prints the squares of numbers from 1 to 5 using a `for` loop."
      ],
      "metadata": {
        "id": "JSthsjtBLb5w"
      }
    },
    {
      "cell_type": "code",
      "source": [
        "for i in range(1,6):\n",
        "  print(i**2)"
      ],
      "metadata": {
        "id": "srSrTLA6TzXf",
        "colab": {
          "base_uri": "https://localhost:8080/"
        },
        "outputId": "32dd7b86-6054-4bae-a0be-1318682e0baf"
      },
      "execution_count": null,
      "outputs": [
        {
          "output_type": "stream",
          "name": "stdout",
          "text": [
            "1\n",
            "4\n",
            "9\n",
            "16\n",
            "25\n"
          ]
        }
      ]
    },
    {
      "cell_type": "markdown",
      "source": [
        "8. Create a program to find the length of a string without using the `len()` function."
      ],
      "metadata": {
        "id": "U3DDuC8YLfom"
      }
    },
    {
      "cell_type": "code",
      "source": [
        "string =\"Tushar\"\n",
        "count=0\n",
        "for i in string:\n",
        "  count+=1\n",
        "print(count)"
      ],
      "metadata": {
        "id": "AFGrMbDFTzaD",
        "colab": {
          "base_uri": "https://localhost:8080/"
        },
        "outputId": "499135e4-faac-4f04-986b-5005547636bf"
      },
      "execution_count": null,
      "outputs": [
        {
          "output_type": "stream",
          "name": "stdout",
          "text": [
            "6\n"
          ]
        }
      ]
    },
    {
      "cell_type": "markdown",
      "source": [
        "9. Write a program that calculates the average of a list of numbers using a `for` loop.\n"
      ],
      "metadata": {
        "id": "p1O-tRP8Li4o"
      }
    },
    {
      "cell_type": "code",
      "source": [
        "temp_list=[43,23,41,98,45]\n",
        "temp=0\n",
        "length=len(temp_list)\n",
        "for i in range(0,length):\n",
        "  temp+=temp_list[i]\n",
        "\n",
        "print((temp/length))"
      ],
      "metadata": {
        "id": "WW6V7e9dTzdg",
        "colab": {
          "base_uri": "https://localhost:8080/"
        },
        "outputId": "b32a30aa-b921-4f92-e111-a288c2193a43"
      },
      "execution_count": null,
      "outputs": [
        {
          "output_type": "stream",
          "name": "stdout",
          "text": [
            "50.0\n"
          ]
        }
      ]
    },
    {
      "cell_type": "markdown",
      "source": [
        "10. Develop a program that prints the first `n` Fibonacci numbers using a `for` loop"
      ],
      "metadata": {
        "id": "Lkaem-MpLo9p"
      }
    },
    {
      "cell_type": "code",
      "source": [
        "num =int(input(\"Enter number\"))\n",
        "list=[]\n",
        "if num==0:\n",
        "  print(0)\n",
        "elif num ==1:\n",
        "  print(1)\n",
        "else:\n",
        "  list.append(0)\n",
        "  list.append(1)\n",
        "  for i in range(2,num):\n",
        "    list.append(list[i-1]+list[i-2])\n",
        "\n",
        "  print(list)\n"
      ],
      "metadata": {
        "colab": {
          "base_uri": "https://localhost:8080/"
        },
        "id": "Q2yhS-xcGXgD",
        "outputId": "2b1e5bdd-5311-4621-8158-e594b5a2d2c8"
      },
      "execution_count": null,
      "outputs": [
        {
          "output_type": "stream",
          "name": "stdout",
          "text": [
            "Enter number8\n",
            "[0, 1, 1, 2, 3, 5, 8, 13]\n"
          ]
        }
      ]
    },
    {
      "cell_type": "markdown",
      "source": [
        "Intermediate Level:\n",
        "\n",
        "\n",
        "\n",
        "\n",
        "\n",
        "13. Develop a program that counts the number of vowels in a string using a `for` loop.\n",
        "\n",
        "14. Write a program to find the maximum element in a 2D list using a nested `for` loop.\n",
        "\n",
        "15. Create a program that removes all occurrences of a specific element from a list using a `for` loop.\n",
        "\n",
        "16. Develop a program that generates a multiplication table for numbers from 1 to 5 using a nested `for` loop.\n",
        "\n",
        "17. Write a program that converts a list of Fahrenheit temperatures to Celsius using a `for` loop.\n",
        "\n",
        "18. Create a program to print the common elements from two lists using a `for` loop.\n",
        "\n",
        "19. Develop a program that prints the pattern of right-angled triangles using a `for` loop. Use ‘*’ to draw the\n",
        "pattern\n",
        "\n",
        "20. Write a program to find the greatest common divisor (GCD) of two numbers using a `for` loop.\n",
        "\n",
        "\n"
      ],
      "metadata": {
        "id": "cWh4IBf8Pzyd"
      }
    },
    {
      "cell_type": "markdown",
      "source": [
        "11. Write a program to check if a given list contains any duplicates using a `for` loop."
      ],
      "metadata": {
        "id": "gTZOXkBYTyvm"
      }
    },
    {
      "cell_type": "code",
      "source": [
        "list =[20,23,34,41,98,23]\n",
        "length=len(list)\n",
        "uniquelist=[]\n",
        "duplictelist=[]\n",
        "for i in list:\n",
        "  if i not in uniquelist:\n",
        "    uniquelist.append(i)\n",
        "  elif i not in duplictelist:\n",
        "    duplictelist.append(i)\n",
        "\n",
        "print(duplictelist)\n"
      ],
      "metadata": {
        "colab": {
          "base_uri": "https://localhost:8080/"
        },
        "id": "08s-ybRAMzMp",
        "outputId": "66d3bfd6-d0b8-4cb5-9a5a-109127c91ac7"
      },
      "execution_count": 1,
      "outputs": [
        {
          "output_type": "stream",
          "name": "stdout",
          "text": [
            "[23]\n"
          ]
        }
      ]
    },
    {
      "cell_type": "markdown",
      "source": [
        "12. Create a program that prints the prime numbers in a given range using a `for` loop."
      ],
      "metadata": {
        "id": "lcbpGeZMTzpF"
      }
    },
    {
      "cell_type": "code",
      "source": [
        "number = int(input(\"Enter number: \"))\n",
        "prime_list = []\n",
        "\n",
        "for i in range(2, number + 1):\n",
        "    count = 0\n",
        "    for j in range(1, i + 1):\n",
        "        if i % j == 0:\n",
        "            count += 1\n",
        "    if count == 2:\n",
        "        prime_list.append(i)\n",
        "\n",
        "print(\"Prime numbers up to\", number, \"are:\", prime_list)\n"
      ],
      "metadata": {
        "colab": {
          "base_uri": "https://localhost:8080/"
        },
        "id": "Dy7RFJVtUBVp",
        "outputId": "cc94e903-7e4c-4916-d9ed-aca4957abc62"
      },
      "execution_count": 10,
      "outputs": [
        {
          "output_type": "stream",
          "name": "stdout",
          "text": [
            "Enter number: 99\n",
            "Prime numbers up to 99 are: [2, 3, 5, 7, 11, 13, 17, 19, 23, 29, 31, 37, 41, 43, 47, 53, 59, 61, 67, 71, 73, 79, 83, 89, 97]\n"
          ]
        }
      ]
    },
    {
      "cell_type": "markdown",
      "source": [
        "13. Develop a program that counts the number of vowels in a string using a for loop."
      ],
      "metadata": {
        "id": "Qc8mBoszFdkh"
      }
    },
    {
      "cell_type": "code",
      "source": [
        "string =\"Tushar Gupta\"\n",
        "count=0\n",
        "vowels=[\"a\",\"e\",\"i\",\"o\",\"u\"]\n",
        "for i in string:\n",
        "  if i in vowels:\n",
        "    count+=1\n",
        "\n",
        "print(count)"
      ],
      "metadata": {
        "id": "gobtuYM_U2YU",
        "colab": {
          "base_uri": "https://localhost:8080/"
        },
        "outputId": "1bb1ee1b-481d-4a1d-f15c-f0f12d9949a1"
      },
      "execution_count": null,
      "outputs": [
        {
          "output_type": "stream",
          "name": "stdout",
          "text": [
            "4\n"
          ]
        }
      ]
    },
    {
      "cell_type": "markdown",
      "source": [
        "14. Write a program to find the maximum element in a 2D list using a nested for loop."
      ],
      "metadata": {
        "id": "zdwhjYhoFvPm"
      }
    },
    {
      "cell_type": "code",
      "source": [
        "Mlist=[]"
      ],
      "metadata": {
        "id": "HMJYHhuaF3mq"
      },
      "execution_count": null,
      "outputs": []
    },
    {
      "cell_type": "markdown",
      "source": [
        "15. Create a program that removes all occurrences of a specific element from a list using a for loop."
      ],
      "metadata": {
        "id": "1f0GJAReJA76"
      }
    },
    {
      "cell_type": "code",
      "source": [
        "list=[10,20,10,30,10,40,10,50]\n",
        "length=len(list)\n",
        "templist=[]\n",
        "for i in list:\n",
        "  if list.count(i)>1:\n",
        "    continue\n",
        "  else:\n",
        "    templist.append(i)\n",
        "\n",
        "print(templist)"
      ],
      "metadata": {
        "colab": {
          "base_uri": "https://localhost:8080/"
        },
        "id": "MhncRgJ8JH2L",
        "outputId": "99ae60b2-f4ee-4dce-91c2-8113aa96d4f0"
      },
      "execution_count": 21,
      "outputs": [
        {
          "output_type": "stream",
          "name": "stdout",
          "text": [
            "[20, 30, 40, 50]\n"
          ]
        }
      ]
    },
    {
      "cell_type": "markdown",
      "source": [
        "16. Develop a program that generates a multiplication table for numbers from 1 to 5 using a nested for loop.\n"
      ],
      "metadata": {
        "id": "8v5i9xhzWua1"
      }
    },
    {
      "cell_type": "code",
      "source": [
        "number=5\n",
        "for i in range(1,number+1):\n",
        "  for j in range(1,11):\n",
        "    print(i,\" * \",j,\"=\",i*j)\n",
        "  print()"
      ],
      "metadata": {
        "colab": {
          "base_uri": "https://localhost:8080/"
        },
        "id": "U5DZ4iq_Wx2W",
        "outputId": "755961a8-596d-4def-be42-70cc812e88b5"
      },
      "execution_count": 23,
      "outputs": [
        {
          "output_type": "stream",
          "name": "stdout",
          "text": [
            "1  *  1 = 1\n",
            "1  *  2 = 2\n",
            "1  *  3 = 3\n",
            "1  *  4 = 4\n",
            "1  *  5 = 5\n",
            "1  *  6 = 6\n",
            "1  *  7 = 7\n",
            "1  *  8 = 8\n",
            "1  *  9 = 9\n",
            "1  *  10 = 10\n",
            "\n",
            "2  *  1 = 2\n",
            "2  *  2 = 4\n",
            "2  *  3 = 6\n",
            "2  *  4 = 8\n",
            "2  *  5 = 10\n",
            "2  *  6 = 12\n",
            "2  *  7 = 14\n",
            "2  *  8 = 16\n",
            "2  *  9 = 18\n",
            "2  *  10 = 20\n",
            "\n",
            "3  *  1 = 3\n",
            "3  *  2 = 6\n",
            "3  *  3 = 9\n",
            "3  *  4 = 12\n",
            "3  *  5 = 15\n",
            "3  *  6 = 18\n",
            "3  *  7 = 21\n",
            "3  *  8 = 24\n",
            "3  *  9 = 27\n",
            "3  *  10 = 30\n",
            "\n",
            "4  *  1 = 4\n",
            "4  *  2 = 8\n",
            "4  *  3 = 12\n",
            "4  *  4 = 16\n",
            "4  *  5 = 20\n",
            "4  *  6 = 24\n",
            "4  *  7 = 28\n",
            "4  *  8 = 32\n",
            "4  *  9 = 36\n",
            "4  *  10 = 40\n",
            "\n",
            "5  *  1 = 5\n",
            "5  *  2 = 10\n",
            "5  *  3 = 15\n",
            "5  *  4 = 20\n",
            "5  *  5 = 25\n",
            "5  *  6 = 30\n",
            "5  *  7 = 35\n",
            "5  *  8 = 40\n",
            "5  *  9 = 45\n",
            "5  *  10 = 50\n",
            "\n"
          ]
        }
      ]
    },
    {
      "cell_type": "markdown",
      "source": [
        "18. Create a program to print the common elements from two lists using a for loop."
      ],
      "metadata": {
        "id": "6q_xH77aXkuF"
      }
    },
    {
      "cell_type": "code",
      "source": [
        "list1=[1,2,3,4,5,6]\n",
        "list2=[2,3,5,6,7]\n",
        "set1=set(list1)\n",
        "set2=set(list2)\n",
        "print(set1 & set2)\n",
        "\n",
        "#set1 & set2 it will provide the intersection result {2, 3, 5, 6}\n",
        "#set1 | set2 it will provide the union result {1, 2, 3, 4, 5, 6, 7}"
      ],
      "metadata": {
        "colab": {
          "base_uri": "https://localhost:8080/"
        },
        "id": "W3yqlSCjXnSX",
        "outputId": "3b82d50e-ed30-4b82-9a3c-2c4c55587895"
      },
      "execution_count": 27,
      "outputs": [
        {
          "output_type": "stream",
          "name": "stdout",
          "text": [
            "{2, 3, 5, 6}\n"
          ]
        }
      ]
    },
    {
      "cell_type": "markdown",
      "source": [
        "19. Develop a program that prints the pattern of right-angled triangles using a for loop. Use ‘*’ to draw the pattern"
      ],
      "metadata": {
        "id": "OBiva4bAZiQX"
      }
    },
    {
      "cell_type": "code",
      "source": [
        "for i in range(0,11):\n",
        "  for j in range(0,i):\n",
        "    print(\"*\",end=\"\")\n",
        "  print()"
      ],
      "metadata": {
        "colab": {
          "base_uri": "https://localhost:8080/"
        },
        "id": "-jwqhUZNZv7C",
        "outputId": "2a1e759f-8a31-43d0-8892-98c845d8617b"
      },
      "execution_count": 31,
      "outputs": [
        {
          "output_type": "stream",
          "name": "stdout",
          "text": [
            "\n",
            "*\n",
            "**\n",
            "***\n",
            "****\n",
            "*****\n",
            "******\n",
            "*******\n",
            "********\n",
            "*********\n",
            "**********\n"
          ]
        }
      ]
    },
    {
      "cell_type": "markdown",
      "source": [
        "20. Write a program to find the greatest common divisor (GCD) of two numbers using a for loop."
      ],
      "metadata": {
        "id": "p_AdJ9MgapZE"
      }
    },
    {
      "cell_type": "code",
      "source": [
        "num1=int(input(\"Enter first Number\"))\n",
        "num2=int(input(\"Enter Second Number\"))\n",
        "gcd=0\n",
        "\n",
        "if (num2>num1):\n",
        "  temp=num2\n",
        "  num2=num1\n",
        "  num1=temp\n",
        "\n",
        "for i in range(1,num2):\n",
        "  if(num1%i==0 & num2%i==0):\n",
        "    gcd=i\n",
        "\n",
        "print(gcd)"
      ],
      "metadata": {
        "colab": {
          "base_uri": "https://localhost:8080/"
        },
        "id": "YLDYwNhuawOI",
        "outputId": "e9f68166-8057-4048-89ab-f6d16aba57e2"
      },
      "execution_count": 33,
      "outputs": [
        {
          "output_type": "stream",
          "name": "stdout",
          "text": [
            "Enter first Number23\n",
            "Enter Second Number65\n",
            "13\n"
          ]
        }
      ]
    },
    {
      "cell_type": "code",
      "source": [],
      "metadata": {
        "id": "Crv_7-BecIFp"
      },
      "execution_count": null,
      "outputs": []
    }
  ]
}